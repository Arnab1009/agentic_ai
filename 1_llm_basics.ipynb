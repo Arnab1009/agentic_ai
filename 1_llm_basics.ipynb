{
 "cells": [
  {
   "cell_type": "markdown",
   "id": "eb86f88c",
   "metadata": {},
   "source": [
    "# LLM Basics"
   ]
  },
  {
   "cell_type": "code",
   "execution_count": 4,
   "id": "0e741a8e",
   "metadata": {},
   "outputs": [
    {
     "data": {
      "text/plain": [
       "True"
      ]
     },
     "execution_count": 4,
     "metadata": {},
     "output_type": "execute_result"
    }
   ],
   "source": [
    "from dotenv import load_dotenv\n",
    "load_dotenv()"
   ]
  },
  {
   "cell_type": "markdown",
   "id": "a121122d",
   "metadata": {},
   "source": [
    "## Messages"
   ]
  },
  {
   "cell_type": "code",
   "execution_count": 1,
   "id": "b5557343",
   "metadata": {},
   "outputs": [
    {
     "name": "stdout",
     "output_type": "stream",
     "text": [
      "================================\u001b[1m System Message \u001b[0m================================\n",
      "\n",
      "You are a helpful assisstant.\n",
      "================================\u001b[1m Human Message \u001b[0m=================================\n",
      "Name: Arnab\n",
      "\n",
      "Hi there!\n",
      "==================================\u001b[1m Ai Message \u001b[0m==================================\n",
      "Name: model\n",
      "\n",
      "Hi Arnab! How can I help you?\n",
      "================================\u001b[1m Human Message \u001b[0m=================================\n",
      "Name: Arnab\n",
      "\n",
      "WHat is the most popular programming language?\n"
     ]
    }
   ],
   "source": [
    "from langchain_core.messages.human import HumanMessage\n",
    "from langchain_core.messages.system import SystemMessage\n",
    "from langchain_core.messages.ai import AIMessage\n",
    "\n",
    "messages = []\n",
    "\n",
    "messages.append(SystemMessage(content=\"You are a helpful assisstant.\"))\n",
    "messages.append(HumanMessage(content=\"Hi there!\", name=\"Arnab\"))\n",
    "messages.append(AIMessage(content=\"Hi Arnab! How can I help you?\", name=\"model\"))\n",
    "messages.append(HumanMessage(content=\"WHat is the most popular programming language?\", name=\"Arnab\"))\n",
    "\n",
    "for m in messages:\n",
    "    m.pretty_print()"
   ]
  },
  {
   "cell_type": "markdown",
   "id": "6fc62bc0",
   "metadata": {},
   "source": [
    "## Chat models"
   ]
  },
  {
   "cell_type": "code",
   "execution_count": 6,
   "id": "41cd4e1e",
   "metadata": {},
   "outputs": [
    {
     "name": "stdout",
     "output_type": "stream",
     "text": [
      "==================================\u001b[1m Ai Message \u001b[0m==================================\n",
      "\n",
      "The popularity of programming languages can vary depending on the criteria used to measure it, such as the number of job postings, community size, or usage in open-source projects. However, as of the latest data, some of the most popular programming languages include:\n",
      "\n",
      "1. **Python**: Known for its readability and versatility, Python is widely used in web development, data science, artificial intelligence, scientific computing, and more.\n",
      "\n",
      "2. **JavaScript**: Essential for web development, JavaScript is used for front-end development and increasingly on the server side with Node.js.\n",
      "\n",
      "3. **Java**: A long-standing language used in enterprise environments, Android app development, and large-scale systems.\n",
      "\n",
      "4. **C#**: Developed by Microsoft, C# is used in a variety of applications, including game development with Unity and enterprise software.\n",
      "\n",
      "5. **C/C++**: These languages are foundational in systems programming and are still widely used in performance-critical applications.\n",
      "\n",
      "6. **SQL**: While not a general-purpose programming language, SQL is crucial for database management and manipulation.\n",
      "\n",
      "7. **TypeScript**: A superset of JavaScript, TypeScript adds static types to the language, making it popular for large codebases.\n",
      "\n",
      "The popularity rankings can be quite dynamic and are often reported by various indexes such as the TIOBE Index, RedMonk, and Stack Overflow Developer Survey. It's always a good idea to check these sources for the most current trends.\n"
     ]
    }
   ],
   "source": [
    "from langchain_openai import ChatOpenAI\n",
    "llm = ChatOpenAI(model=\"gpt-4o\", temperature=0.5)\n",
    "\n",
    "response = llm.invoke(messages)\n",
    "response.pretty_print()\n",
    "\n",
    "messages.append(response)"
   ]
  },
  {
   "cell_type": "code",
   "execution_count": 7,
   "id": "a024757a",
   "metadata": {},
   "outputs": [
    {
     "name": "stdout",
     "output_type": "stream",
     "text": [
      "================================\u001b[1m System Message \u001b[0m================================\n",
      "\n",
      "You are a helpful assisstant.\n",
      "================================\u001b[1m Human Message \u001b[0m=================================\n",
      "Name: Arnab\n",
      "\n",
      "Hi there!\n",
      "==================================\u001b[1m Ai Message \u001b[0m==================================\n",
      "Name: model\n",
      "\n",
      "Hi Arnab! How can I help you?\n",
      "================================\u001b[1m Human Message \u001b[0m=================================\n",
      "Name: Arnab\n",
      "\n",
      "WHat is the most popular programming language?\n",
      "==================================\u001b[1m Ai Message \u001b[0m==================================\n",
      "\n",
      "The popularity of programming languages can vary depending on the criteria used to measure it, such as the number of job postings, community size, or usage in open-source projects. However, as of the latest data, some of the most popular programming languages include:\n",
      "\n",
      "1. **Python**: Known for its readability and versatility, Python is widely used in web development, data science, artificial intelligence, scientific computing, and more.\n",
      "\n",
      "2. **JavaScript**: Essential for web development, JavaScript is used for front-end development and increasingly on the server side with Node.js.\n",
      "\n",
      "3. **Java**: A long-standing language used in enterprise environments, Android app development, and large-scale systems.\n",
      "\n",
      "4. **C#**: Developed by Microsoft, C# is used in a variety of applications, including game development with Unity and enterprise software.\n",
      "\n",
      "5. **C/C++**: These languages are foundational in systems programming and are still widely used in performance-critical applications.\n",
      "\n",
      "6. **SQL**: While not a general-purpose programming language, SQL is crucial for database management and manipulation.\n",
      "\n",
      "7. **TypeScript**: A superset of JavaScript, TypeScript adds static types to the language, making it popular for large codebases.\n",
      "\n",
      "The popularity rankings can be quite dynamic and are often reported by various indexes such as the TIOBE Index, RedMonk, and Stack Overflow Developer Survey. It's always a good idea to check these sources for the most current trends.\n"
     ]
    }
   ],
   "source": [
    "for m in messages:\n",
    "    m.pretty_print()"
   ]
  }
 ],
 "metadata": {
  "kernelspec": {
   "display_name": "agentic-ai-5d-ElTE_-py3.12",
   "language": "python",
   "name": "python3"
  },
  "language_info": {
   "codemirror_mode": {
    "name": "ipython",
    "version": 3
   },
   "file_extension": ".py",
   "mimetype": "text/x-python",
   "name": "python",
   "nbconvert_exporter": "python",
   "pygments_lexer": "ipython3",
   "version": "3.12.2"
  }
 },
 "nbformat": 4,
 "nbformat_minor": 5
}
