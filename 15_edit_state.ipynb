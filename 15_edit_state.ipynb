{
 "cells": [
  {
   "cell_type": "markdown",
   "id": "3c0ea4e6",
   "metadata": {},
   "source": [
    "# Edit graph state"
   ]
  },
  {
   "cell_type": "markdown",
   "id": "cf20374f",
   "metadata": {},
   "source": [
    "## Build graph"
   ]
  },
  {
   "cell_type": "code",
   "execution_count": 1,
   "id": "88014053",
   "metadata": {},
   "outputs": [],
   "source": [
    "from langgraph.graph import StateGraph, START, END, MessagesState\n",
    "from langgraph.prebuilt import tools_condition, ToolNode\n",
    "from langgraph.checkpoint.memory import MemorySaver\n",
    "from langchain_openai import ChatOpenAI\n",
    "from langchain_core.messages import SystemMessage, HumanMessage\n",
    "from langgraph.checkpoint.memory import MemorySaver\n",
    "from IPython.display import Image, display"
   ]
  },
  {
   "cell_type": "code",
   "execution_count": 2,
   "id": "bc6fa644",
   "metadata": {},
   "outputs": [
    {
     "data": {
      "image/png": "[encoded data removed]",
      "text/plain": [
       "<IPython.core.display.Image object>"
      ]
     },
     "metadata": {},
     "output_type": "display_data"
    }
   ],
   "source": [
    "# Build agent\n",
    "\n",
    "# Tool definitions\n",
    "\n",
    "def multiply(a: int, b: int) -> int:\n",
    "    \"\"\"\n",
    "        Function to multiply 2 given numbers\n",
    "        The return value is an integer which is the product of a and b\n",
    "    \"\"\"\n",
    "    return a * b\n",
    "\n",
    "def add(a: int, b: int) -> int:\n",
    "    \"\"\"\n",
    "        Function to add 2 given numbers\n",
    "        The return value is an integer which is the sum of a and b\n",
    "    \"\"\"\n",
    "    return a + b\n",
    "\n",
    "def subtract(a: int, b: int) -> int:\n",
    "    \"\"\"\n",
    "        Function to subtract 2 given numbers\n",
    "        The return value is an integer which is the difference of a and b\n",
    "    \"\"\"\n",
    "    return a - b\n",
    "\n",
    "def divide(a: int, b: int) -> int:\n",
    "    \"\"\"\n",
    "        Function to perform division on 2 given numbers\n",
    "        The return value is an integer which is the quotient of a and b\n",
    "    \"\"\"\n",
    "    return a / b\n",
    "\n",
    "# Bind tools with Chat model\n",
    "llm = ChatOpenAI(model=\"gpt-4o\", temperature=0)\n",
    "tools = [multiply, add, subtract, divide]\n",
    "llm_with_tools = llm.bind_tools(tools, parallel_tool_calls=False)\n",
    "\n",
    "# Define LLM node\n",
    "def assistant(state: MessagesState) -> MessagesState:\n",
    "    systemMessage = [SystemMessage(content=\"You are a helpful assistant that can perform basic arithmetic operations.\")]\n",
    "    state[\"messages\"] = llm_with_tools.invoke(systemMessage + state[\"messages\"])\n",
    "    return state\n",
    "\n",
    "# Build Graph\n",
    "memory = MemorySaver()\n",
    "graphBuilder = StateGraph(MessagesState)\n",
    "graphBuilder.add_node(\"assistant\", assistant)\n",
    "graphBuilder.add_node(\"tools\", ToolNode(tools))\n",
    "\n",
    "graphBuilder.add_edge(START, \"assistant\")\n",
    "graphBuilder.add_conditional_edges(\"assistant\", tools_condition)\n",
    "graphBuilder.add_edge(\"tools\", \"assistant\")\n",
    "\n",
    "graph = graphBuilder.compile(checkpointer = memory, interrupt_before = [\"assistant\"])\n",
    "display(Image(graph.get_graph().draw_mermaid_png()))"
   ]
  },
  {
   "cell_type": "markdown",
   "id": "228e5930",
   "metadata": {},
   "source": [
    "## Interrupt and edit state"
   ]
  },
  {
   "cell_type": "code",
   "execution_count": 3,
   "id": "dc5fa7d7",
   "metadata": {},
   "outputs": [
    {
     "name": "stdout",
     "output_type": "stream",
     "text": [
      "================================\u001b[1m Human Message \u001b[0m=================================\n",
      "\n",
      "What is the product of 445 and 238?\n"
     ]
    }
   ],
   "source": [
    "# Execute and observe interrupt\n",
    "thread = {\"configurable\": {\"thread_id\": 1}}\n",
    "input_message = [HumanMessage(content=\"What is the product of 445 and 238?\")]\n",
    "\n",
    "for event in graph.stream({\"messages\": input_message}, thread, stream_mode=\"values\"):\n",
    "    event[\"messages\"][-1].pretty_print()"
   ]
  },
  {
   "cell_type": "code",
   "execution_count": 4,
   "id": "87cb63c5",
   "metadata": {},
   "outputs": [
    {
     "data": {
      "text/plain": [
       "{'configurable': {'thread_id': '1',\n",
       "  'checkpoint_ns': '',\n",
       "  'checkpoint_id': '1f03b35d-7463-6f72-8001-75bd9aca0aa8'}}"
      ]
     },
     "execution_count": 4,
     "metadata": {},
     "output_type": "execute_result"
    }
   ],
   "source": [
    "# Edit/Update state\n",
    "graph.update_state(thread,\n",
    "                   {\"messages\": [HumanMessage(content=\"No find the product of 235 and 762\")]})"
   ]
  },
  {
   "cell_type": "code",
   "execution_count": 5,
   "id": "c8a1fa14",
   "metadata": {},
   "outputs": [
    {
     "name": "stdout",
     "output_type": "stream",
     "text": [
      "================================\u001b[1m Human Message \u001b[0m=================================\n",
      "\n",
      "What is the product of 445 and 238?\n",
      "================================\u001b[1m Human Message \u001b[0m=================================\n",
      "\n",
      "No find the product of 235 and 762\n"
     ]
    }
   ],
   "source": [
    "# View state\n",
    "new_state = graph.get_state(thread)\n",
    "for m in new_state.values[\"messages\"]:\n",
    "    m.pretty_print()"
   ]
  },
  {
   "cell_type": "code",
   "execution_count": 6,
   "id": "758ff084",
   "metadata": {},
   "outputs": [
    {
     "name": "stdout",
     "output_type": "stream",
     "text": [
      "================================\u001b[1m Human Message \u001b[0m=================================\n",
      "\n",
      "No find the product of 235 and 762\n",
      "==================================\u001b[1m Ai Message \u001b[0m==================================\n",
      "Tool Calls:\n",
      "  multiply (call_JI35UaPYvSUvG6ycFR7gAvrR)\n",
      " Call ID: call_JI35UaPYvSUvG6ycFR7gAvrR\n",
      "  Args:\n",
      "    a: 235\n",
      "    b: 762\n",
      "=================================\u001b[1m Tool Message \u001b[0m=================================\n",
      "Name: multiply\n",
      "\n",
      "179070\n"
     ]
    }
   ],
   "source": [
    "# Proceed with execution\n",
    "for event in graph.stream(None, thread, stream_mode=\"values\"):\n",
    "    event[\"messages\"][-1].pretty_print()"
   ]
  },
  {
   "cell_type": "code",
   "execution_count": 7,
   "id": "84b19592",
   "metadata": {},
   "outputs": [
    {
     "name": "stdout",
     "output_type": "stream",
     "text": [
      "=================================\u001b[1m Tool Message \u001b[0m=================================\n",
      "Name: multiply\n",
      "\n",
      "179070\n",
      "==================================\u001b[1m Ai Message \u001b[0m==================================\n",
      "\n",
      "The product of 235 and 762 is 179,070.\n"
     ]
    }
   ],
   "source": [
    "# Get final response\n",
    "for event in graph.stream(None, thread, stream_mode=\"values\"):\n",
    "    event[\"messages\"][-1].pretty_print()"
   ]
  },
  {
   "cell_type": "code",
   "execution_count": 8,
   "id": "88925608",
   "metadata": {},
   "outputs": [
    {
     "name": "stdout",
     "output_type": "stream",
     "text": [
      "================================\u001b[1m Human Message \u001b[0m=================================\n",
      "\n",
      "What is the product of 445 and 238?\n",
      "================================\u001b[1m Human Message \u001b[0m=================================\n",
      "\n",
      "No find the product of 235 and 762\n",
      "==================================\u001b[1m Ai Message \u001b[0m==================================\n",
      "Tool Calls:\n",
      "  multiply (call_JI35UaPYvSUvG6ycFR7gAvrR)\n",
      " Call ID: call_JI35UaPYvSUvG6ycFR7gAvrR\n",
      "  Args:\n",
      "    a: 235\n",
      "    b: 762\n",
      "=================================\u001b[1m Tool Message \u001b[0m=================================\n",
      "Name: multiply\n",
      "\n",
      "179070\n",
      "==================================\u001b[1m Ai Message \u001b[0m==================================\n",
      "\n",
      "The product of 235 and 762 is 179,070.\n"
     ]
    }
   ],
   "source": [
    "# Get full message sequence\n",
    "state = graph.get_state(thread).values\n",
    "for m in state[\"messages\"]:\n",
    "    m.pretty_print()"
   ]
  },
  {
   "cell_type": "markdown",
   "id": "e2b47a5f",
   "metadata": {},
   "source": [
    "## Graph with separate node for human feedback to update state"
   ]
  },
  {
   "cell_type": "code",
   "execution_count": 9,
   "id": "afbd43a0",
   "metadata": {},
   "outputs": [
    {
     "data": {
      "image/png": "[encoded data removed]",
      "text/plain": [
       "<IPython.core.display.Image object>"
      ]
     },
     "metadata": {},
     "output_type": "display_data"
    }
   ],
   "source": [
    "# Build graph\n",
    "\n",
    "# Define feedback node\n",
    "def human_feedback(state: MessagesState) -> MessagesState:\n",
    "    pass\n",
    "\n",
    "# Build graph\n",
    "builder = StateGraph(MessagesState)\n",
    "builder.add_node(\"assistant\", assistant)\n",
    "builder.add_node(\"human_feedback\", human_feedback)\n",
    "builder.add_node(\"tools\", ToolNode(tools))\n",
    "\n",
    "builder.add_edge(START, \"human_feedback\")\n",
    "builder.add_edge(\"human_feedback\", \"assistant\")\n",
    "builder.add_conditional_edges(\"assistant\", tools_condition)\n",
    "builder.add_edge(\"tools\", \"human_feedback\")\n",
    "\n",
    "feedback_graph = builder.compile(checkpointer=memory, interrupt_before=[\"human_feedback\"])\n",
    "display(Image(feedback_graph.get_graph().draw_mermaid_png()))\n",
    "\n"
   ]
  },
  {
   "cell_type": "code",
   "execution_count": 10,
   "id": "cb7afb58",
   "metadata": {},
   "outputs": [
    {
     "name": "stdout",
     "output_type": "stream",
     "text": [
      "================================\u001b[1m Human Message \u001b[0m=================================\n",
      "\n",
      "What is the product of 445 and 238?\n",
      "================================\u001b[1m Human Message \u001b[0m=================================\n",
      "\n",
      "No find the sum of 5 and 5\n",
      "==================================\u001b[1m Ai Message \u001b[0m==================================\n",
      "Tool Calls:\n",
      "  add (call_Nll8jtif2xzsPLn55FHHmc32)\n",
      " Call ID: call_Nll8jtif2xzsPLn55FHHmc32\n",
      "  Args:\n",
      "    a: 5\n",
      "    b: 5\n",
      "=================================\u001b[1m Tool Message \u001b[0m=================================\n",
      "Name: add\n",
      "\n",
      "10\n"
     ]
    }
   ],
   "source": [
    "# Test the setup\n",
    "# Execute and observe interrupt\n",
    "thread = {\"configurable\": {\"thread_id\": 2}}\n",
    "input_message = [HumanMessage(content=\"What is the product of 445 and 238?\")]\n",
    "\n",
    "for event in feedback_graph.stream({\"messages\": input_message}, thread, stream_mode=\"values\"):\n",
    "    event[\"messages\"][-1].pretty_print()\n",
    "\n",
    "# Ask for state update\n",
    "feedback = input(\"How do you want to update the state?\")\n",
    "\n",
    "# Update the state\n",
    "feedback_graph.update_state(thread, {\"messages\": HumanMessage(content=feedback)}, as_node=\"human_feedback\")\n",
    "\n",
    "# Continue execution\n",
    "for event in feedback_graph.stream(None, thread, stream_mode=\"values\"):\n",
    "    event[\"messages\"][-1].pretty_print()"
   ]
  },
  {
   "cell_type": "code",
   "execution_count": 11,
   "id": "8c92dda4",
   "metadata": {},
   "outputs": [
    {
     "name": "stdout",
     "output_type": "stream",
     "text": [
      "=================================\u001b[1m Tool Message \u001b[0m=================================\n",
      "Name: add\n",
      "\n",
      "10\n",
      "==================================\u001b[1m Ai Message \u001b[0m==================================\n",
      "\n",
      "The sum of 5 and 5 is 10.\n"
     ]
    }
   ],
   "source": [
    "# Generate final response\n",
    "for event in feedback_graph.stream(None, thread, stream_mode=\"values\"):\n",
    "    event[\"messages\"][-1].pretty_print()"
   ]
  }
 ],
 "metadata": {
  "kernelspec": {
   "display_name": "agentic-ai-5d-ElTE_-py3.12",
   "language": "python",
   "name": "python3"
  },
  "language_info": {
   "codemirror_mode": {
    "name": "ipython",
    "version": 3
   },
   "file_extension": ".py",
   "mimetype": "text/x-python",
   "name": "python",
   "nbconvert_exporter": "python",
   "pygments_lexer": "ipython3",
   "version": "3.12.2"
  }
 },
 "nbformat": 4,
 "nbformat_minor": 5
}
