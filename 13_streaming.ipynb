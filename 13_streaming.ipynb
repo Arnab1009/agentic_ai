{
 "cells": [
  {
   "cell_type": "markdown",
   "id": "ce6d2963",
   "metadata": {},
   "source": [
    "# Streaming output from agents"
   ]
  },
  {
   "cell_type": "markdown",
   "id": "a4e8c2fc",
   "metadata": {},
   "source": [
    "## Build agent"
   ]
  },
  {
   "cell_type": "code",
   "execution_count": 20,
   "id": "92115723",
   "metadata": {},
   "outputs": [],
   "source": [
    "# import libraries\n",
    "from langgraph.graph import StateGraph, START, END, MessagesState\n",
    "from langchain_core.messages import HumanMessage, AIMessage, SystemMessage, RemoveMessage\n",
    "from langgraph.checkpoint.memory import MemorySaver\n",
    "from IPython.display import display, Image\n",
    "from langchain_openai import ChatOpenAI"
   ]
  },
  {
   "cell_type": "code",
   "execution_count": 2,
   "id": "624900b6",
   "metadata": {},
   "outputs": [
    {
     "data": {
      "image/png": "[encoded data removed]",
      "text/plain": [
       "<IPython.core.display.Image object>"
      ]
     },
     "metadata": {},
     "output_type": "display_data"
    }
   ],
   "source": [
    "# Define state\n",
    "class State(MessagesState):\n",
    "    summary: str\n",
    "\n",
    "# Instantiate llm\n",
    "llm = ChatOpenAI(model=\"gpt-4o\", temperature=0)\n",
    "\n",
    "# Define conversation node\n",
    "def conversation(state: State) -> State:\n",
    "    summary = state.get(\"summary\", \"\")\n",
    "    messages = []\n",
    "    if summary:\n",
    "        system_message = f\"Here is a summary of the conversation till date: {summary}\"\n",
    "        messages = [SystemMessage(content=system_message)] + state[\"messages\"]\n",
    "    else:\n",
    "        messages = state[\"messages\"]\n",
    "    return {\"messages\": llm.invoke(messages)}\n",
    "\n",
    "# Define a summarization node\n",
    "def summarization(state: State) -> State:\n",
    "    summary = state.get(\"summary\", \"\")\n",
    "    if summary:\n",
    "        summary_message = f\"Here is a summary of the conversation till date: {summary}\\n\\nExtend this conversation by considering the messages above\"\n",
    "    else:\n",
    "        summary_message = \"Create a summary of the conversation above\"\n",
    "    messages = state[\"messages\"] + [HumanMessage(content=summary_message)]\n",
    "    summary_response = llm.invoke(messages)\n",
    "    messages_to_remove = [RemoveMessage(id=m.id) for m in state[\"messages\"][:-2]]\n",
    "    return {\n",
    "        \"messages\": messages_to_remove,\n",
    "        \"summary\": summary_response.content\n",
    "    }\n",
    "\n",
    "# Define function to route to summarizer conditionally\n",
    "def should_summarize(state: State) -> str:\n",
    "    if len(state[\"messages\"]) > 6:\n",
    "        return \"yes\"\n",
    "    else:\n",
    "        return \"no\"\n",
    "    \n",
    "# Build graph\n",
    "memory = MemorySaver()\n",
    "graphBuilder = StateGraph(State)\n",
    "graphBuilder.add_node(\"conversation\", conversation)\n",
    "graphBuilder.add_node(\"summarization\", summarization)\n",
    "\n",
    "graphBuilder.add_edge(START, \"conversation\")\n",
    "graphBuilder.add_conditional_edges(\"conversation\", should_summarize, {\n",
    "        \"yes\": \"summarization\",\n",
    "        \"no\": END\n",
    "    })\n",
    "graphBuilder.add_edge(\"summarization\", END)\n",
    "\n",
    "graph = graphBuilder.compile(checkpointer=memory)\n",
    "display(Image(graph.get_graph().draw_mermaid_png()))"
   ]
  },
  {
   "cell_type": "markdown",
   "id": "51c8326e",
   "metadata": {},
   "source": [
    "## Steam graph state - Updates only"
   ]
  },
  {
   "cell_type": "code",
   "execution_count": null,
   "id": "05bda57f",
   "metadata": {},
   "outputs": [
    {
     "name": "stdout",
     "output_type": "stream",
     "text": [
      "{'conversation': {'messages': AIMessage(content='Hello Arnab! How can I assist you today?', additional_kwargs={'refusal': None}, response_metadata={'token_usage': {'completion_tokens': 11, 'prompt_tokens': 13, 'total_tokens': 24, 'completion_tokens_details': {'accepted_prediction_tokens': 0, 'audio_tokens': 0, 'reasoning_tokens': 0, 'rejected_prediction_tokens': 0}, 'prompt_tokens_details': {'audio_tokens': 0, 'cached_tokens': 0}}, 'model_name': 'gpt-4o-2024-08-06', 'system_fingerprint': 'fp_76544d79cb', 'id': 'chatcmpl-BbtFDlpmtWCA6Dz3yFXeYjLa62rvl', 'service_tier': 'default', 'finish_reason': 'stop', 'logprobs': None}, id='run--9a84d3f7-f498-4084-9eb8-11890ab50174-0', usage_metadata={'input_tokens': 13, 'output_tokens': 11, 'total_tokens': 24, 'input_token_details': {'audio': 0, 'cache_read': 0}, 'output_token_details': {'audio': 0, 'reasoning': 0}})}}\n"
     ]
    }
   ],
   "source": [
    "# Get raw output\n",
    "config = {\"configurable\": {\"thread_id\": 1}}\n",
    "\n",
    "for chunk in graph.stream({\"messages\": [HumanMessage(content=\"Hello I am Arnab!\")]}, config, stream_mode=\"updates\"):\n",
    "\tprint(chunk)"
   ]
  },
  {
   "cell_type": "code",
   "execution_count": 6,
   "id": "3b9f719b",
   "metadata": {},
   "outputs": [
    {
     "name": "stdout",
     "output_type": "stream",
     "text": [
      "==================================\u001b[1m Ai Message \u001b[0m==================================\n",
      "\n",
      "Hello again, Arnab! How can I help you today?\n"
     ]
    }
   ],
   "source": [
    "# Get messages pretty printed\n",
    "config = {\"configurable\": {\"thread_id\": 1}}\n",
    "\n",
    "for chunk in graph.stream({\"messages\": [HumanMessage(content=\"Hello I am Arnab!\")]}, config, stream_mode=\"updates\"):\n",
    "    chunk['conversation']['messages'].pretty_print()"
   ]
  },
  {
   "cell_type": "markdown",
   "id": "27c810a7",
   "metadata": {},
   "source": [
    "## Stream graph state - Full state values"
   ]
  },
  {
   "cell_type": "code",
   "execution_count": 7,
   "id": "f0125188",
   "metadata": {},
   "outputs": [
    {
     "name": "stdout",
     "output_type": "stream",
     "text": [
      "{'messages': [HumanMessage(content='Hello I am Arnab!', additional_kwargs={}, response_metadata={}, id='6ad3d872-7a62-4d14-b1e1-fb96759f1385')]}\n",
      "{'messages': [HumanMessage(content='Hello I am Arnab!', additional_kwargs={}, response_metadata={}, id='6ad3d872-7a62-4d14-b1e1-fb96759f1385'), AIMessage(content='Hello Arnab! How can I assist you today?', additional_kwargs={'refusal': None}, response_metadata={'token_usage': {'completion_tokens': 11, 'prompt_tokens': 13, 'total_tokens': 24, 'completion_tokens_details': {'accepted_prediction_tokens': 0, 'audio_tokens': 0, 'reasoning_tokens': 0, 'rejected_prediction_tokens': 0}, 'prompt_tokens_details': {'audio_tokens': 0, 'cached_tokens': 0}}, 'model_name': 'gpt-4o-2024-08-06', 'system_fingerprint': 'fp_76544d79cb', 'id': 'chatcmpl-BbtKhme95h0gRWhVr37VxI9OAzMxt', 'service_tier': 'default', 'finish_reason': 'stop', 'logprobs': None}, id='run--373bdf8f-dd2d-447e-abd3-1c7bbfd5c72b-0', usage_metadata={'input_tokens': 13, 'output_tokens': 11, 'total_tokens': 24, 'input_token_details': {'audio': 0, 'cache_read': 0}, 'output_token_details': {'audio': 0, 'reasoning': 0}})]}\n"
     ]
    }
   ],
   "source": [
    "# Get raw output\n",
    "config = {\"configurable\": {\"thread_id\": 2}}\n",
    "\n",
    "for event in graph.stream({\"messages\": [HumanMessage(content=\"Hello I am Arnab!\")]}, config, stream_mode=\"values\"):\n",
    "    print(event)\n"
   ]
  },
  {
   "cell_type": "code",
   "execution_count": 11,
   "id": "e48134af",
   "metadata": {},
   "outputs": [
    {
     "name": "stdout",
     "output_type": "stream",
     "text": [
      "================================\u001b[1m Human Message \u001b[0m=================================\n",
      "\n",
      "Hello I am Arnab!\n",
      "==================================\u001b[1m Ai Message \u001b[0m==================================\n",
      "\n",
      "Hello Arnab! How can I assist you today?\n",
      "================================\u001b[1m Human Message \u001b[0m=================================\n",
      "\n",
      "How are you?!\n",
      "******************************\n",
      "================================\u001b[1m Human Message \u001b[0m=================================\n",
      "\n",
      "Hello I am Arnab!\n",
      "==================================\u001b[1m Ai Message \u001b[0m==================================\n",
      "\n",
      "Hello Arnab! How can I assist you today?\n",
      "================================\u001b[1m Human Message \u001b[0m=================================\n",
      "\n",
      "How are you?!\n",
      "==================================\u001b[1m Ai Message \u001b[0m==================================\n",
      "\n",
      "Thank you for asking! I'm just a computer program, so I don't have feelings, but I'm here and ready to help you. How can I assist you today?\n",
      "******************************\n"
     ]
    }
   ],
   "source": [
    "# Get messages prety printed\n",
    "config = {\"configurable\": {\"thread_id\": 3}}\n",
    "\n",
    "input_messages = [HumanMessage(content=\"How are you?!\")]\n",
    "for event in graph.stream({\"messages\": input_messages}, config, stream_mode=\"values\"):\n",
    "    for m in event[\"messages\"]:\n",
    "        m.pretty_print()\n",
    "    print(\"*\" * 30)\n"
   ]
  },
  {
   "cell_type": "markdown",
   "id": "f1b1111e",
   "metadata": {},
   "source": [
    "## Stream tokens"
   ]
  },
  {
   "cell_type": "code",
   "execution_count": null,
   "id": "ac425053",
   "metadata": {},
   "outputs": [
    {
     "name": "stdout",
     "output_type": "stream",
     "text": [
      "Node:  , Type: on_chain_start, Name: LangGraph\n",
      "Node:  conversation, Type: on_chain_start, Name: conversation\n",
      "Node:  conversation, Type: on_chat_model_start, Name: ChatOpenAI\n",
      "Node:  conversation, Type: on_chat_model_stream, Name: ChatOpenAI\n",
      "Node:  conversation, Type: on_chat_model_stream, Name: ChatOpenAI\n",
      "Node:  conversation, Type: on_chat_model_stream, Name: ChatOpenAI\n",
      "Node:  conversation, Type: on_chat_model_stream, Name: ChatOpenAI\n",
      "Node:  conversation, Type: on_chat_model_stream, Name: ChatOpenAI\n",
      "Node:  conversation, Type: on_chat_model_stream, Name: ChatOpenAI\n",
      "Node:  conversation, Type: on_chat_model_stream, Name: ChatOpenAI\n",
      "Node:  conversation, Type: on_chat_model_stream, Name: ChatOpenAI\n",
      "Node:  conversation, Type: on_chat_model_stream, Name: ChatOpenAI\n",
      "Node:  conversation, Type: on_chat_model_stream, Name: ChatOpenAI\n",
      "Node:  conversation, Type: on_chat_model_stream, Name: ChatOpenAI\n",
      "Node:  conversation, Type: on_chat_model_stream, Name: ChatOpenAI\n",
      "Node:  conversation, Type: on_chat_model_stream, Name: ChatOpenAI\n",
      "Node:  conversation, Type: on_chat_model_stream, Name: ChatOpenAI\n",
      "Node:  conversation, Type: on_chat_model_stream, Name: ChatOpenAI\n",
      "Node:  conversation, Type: on_chat_model_stream, Name: ChatOpenAI\n",
      "Node:  conversation, Type: on_chat_model_stream, Name: ChatOpenAI\n",
      "Node:  conversation, Type: on_chat_model_stream, Name: ChatOpenAI\n",
      "Node:  conversation, Type: on_chat_model_stream, Name: ChatOpenAI\n",
      "Node:  conversation, Type: on_chat_model_stream, Name: ChatOpenAI\n",
      "Node:  conversation, Type: on_chat_model_stream, Name: ChatOpenAI\n",
      "Node:  conversation, Type: on_chat_model_stream, Name: ChatOpenAI\n",
      "Node:  conversation, Type: on_chat_model_stream, Name: ChatOpenAI\n",
      "Node:  conversation, Type: on_chat_model_stream, Name: ChatOpenAI\n",
      "Node:  conversation, Type: on_chat_model_stream, Name: ChatOpenAI\n",
      "Node:  conversation, Type: on_chat_model_stream, Name: ChatOpenAI\n",
      "Node:  conversation, Type: on_chat_model_stream, Name: ChatOpenAI\n",
      "Node:  conversation, Type: on_chat_model_stream, Name: ChatOpenAI\n",
      "Node:  conversation, Type: on_chat_model_stream, Name: ChatOpenAI\n",
      "Node:  conversation, Type: on_chat_model_stream, Name: ChatOpenAI\n",
      "Node:  conversation, Type: on_chat_model_stream, Name: ChatOpenAI\n",
      "Node:  conversation, Type: on_chat_model_stream, Name: ChatOpenAI\n",
      "Node:  conversation, Type: on_chat_model_stream, Name: ChatOpenAI\n",
      "Node:  conversation, Type: on_chat_model_stream, Name: ChatOpenAI\n",
      "Node:  conversation, Type: on_chat_model_stream, Name: ChatOpenAI\n",
      "Node:  conversation, Type: on_chat_model_stream, Name: ChatOpenAI\n",
      "Node:  conversation, Type: on_chat_model_stream, Name: ChatOpenAI\n",
      "Node:  conversation, Type: on_chat_model_stream, Name: ChatOpenAI\n",
      "Node:  conversation, Type: on_chat_model_stream, Name: ChatOpenAI\n",
      "Node:  conversation, Type: on_chat_model_stream, Name: ChatOpenAI\n",
      "Node:  conversation, Type: on_chat_model_stream, Name: ChatOpenAI\n",
      "Node:  conversation, Type: on_chat_model_stream, Name: ChatOpenAI\n",
      "Node:  conversation, Type: on_chat_model_stream, Name: ChatOpenAI\n",
      "Node:  conversation, Type: on_chat_model_stream, Name: ChatOpenAI\n",
      "Node:  conversation, Type: on_chat_model_stream, Name: ChatOpenAI\n",
      "Node:  conversation, Type: on_chat_model_stream, Name: ChatOpenAI\n",
      "Node:  conversation, Type: on_chat_model_stream, Name: ChatOpenAI\n",
      "Node:  conversation, Type: on_chat_model_stream, Name: ChatOpenAI\n",
      "Node:  conversation, Type: on_chat_model_stream, Name: ChatOpenAI\n",
      "Node:  conversation, Type: on_chat_model_stream, Name: ChatOpenAI\n",
      "Node:  conversation, Type: on_chat_model_stream, Name: ChatOpenAI\n",
      "Node:  conversation, Type: on_chat_model_stream, Name: ChatOpenAI\n",
      "Node:  conversation, Type: on_chat_model_stream, Name: ChatOpenAI\n",
      "Node:  conversation, Type: on_chat_model_stream, Name: ChatOpenAI\n",
      "Node:  conversation, Type: on_chat_model_stream, Name: ChatOpenAI\n",
      "Node:  conversation, Type: on_chat_model_stream, Name: ChatOpenAI\n",
      "Node:  conversation, Type: on_chat_model_stream, Name: ChatOpenAI\n",
      "Node:  conversation, Type: on_chat_model_stream, Name: ChatOpenAI\n",
      "Node:  conversation, Type: on_chat_model_stream, Name: ChatOpenAI\n",
      "Node:  conversation, Type: on_chat_model_stream, Name: ChatOpenAI\n",
      "Node:  conversation, Type: on_chat_model_stream, Name: ChatOpenAI\n",
      "Node:  conversation, Type: on_chat_model_stream, Name: ChatOpenAI\n",
      "Node:  conversation, Type: on_chat_model_stream, Name: ChatOpenAI\n",
      "Node:  conversation, Type: on_chat_model_stream, Name: ChatOpenAI\n",
      "Node:  conversation, Type: on_chat_model_stream, Name: ChatOpenAI\n",
      "Node:  conversation, Type: on_chat_model_stream, Name: ChatOpenAI\n",
      "Node:  conversation, Type: on_chat_model_stream, Name: ChatOpenAI\n",
      "Node:  conversation, Type: on_chat_model_end, Name: ChatOpenAI\n",
      "Node:  conversation, Type: on_chain_start, Name: should_summarize\n",
      "Node:  conversation, Type: on_chain_end, Name: should_summarize\n",
      "Node:  conversation, Type: on_chain_stream, Name: conversation\n",
      "Node:  conversation, Type: on_chain_end, Name: conversation\n",
      "Node:  , Type: on_chain_stream, Name: LangGraph\n",
      "Node:  , Type: on_chain_end, Name: LangGraph\n"
     ]
    }
   ],
   "source": [
    "# Fetch raw token streaming output\n",
    "config = {\"configurable\": {\"thread_id\": 4}}\n",
    "\n",
    "input_messages = [HumanMessage(content=\"I love to play Grand Theft Auto!\")]\n",
    "async for event in graph.astream_events({\"messages\": input_messages}, config, version=\"v2\"):\n",
    "    print(f\"Node:  {event[\"metadata\"].get(\"langgraph_node\", \"\")}, Type: {event[\"event\"]}, Name: {event[\"name\"]}\")"
   ]
  },
  {
   "cell_type": "code",
   "execution_count": null,
   "id": "a0fa79bc",
   "metadata": {},
   "outputs": [
    {
     "name": "stdout",
     "output_type": "stream",
     "text": [
      "{'chunk': AIMessageChunk(content='', additional_kwargs={}, response_metadata={}, id='run--625d4c07-3fdc-4355-8422-a87a352b3851')}\n",
      "{'chunk': AIMessageChunk(content=\"That's\", additional_kwargs={}, response_metadata={}, id='run--625d4c07-3fdc-4355-8422-a87a352b3851')}\n",
      "{'chunk': AIMessageChunk(content=' great', additional_kwargs={}, response_metadata={}, id='run--625d4c07-3fdc-4355-8422-a87a352b3851')}\n",
      "{'chunk': AIMessageChunk(content='!', additional_kwargs={}, response_metadata={}, id='run--625d4c07-3fdc-4355-8422-a87a352b3851')}\n",
      "{'chunk': AIMessageChunk(content=' Grand', additional_kwargs={}, response_metadata={}, id='run--625d4c07-3fdc-4355-8422-a87a352b3851')}\n",
      "{'chunk': AIMessageChunk(content=' Theft', additional_kwargs={}, response_metadata={}, id='run--625d4c07-3fdc-4355-8422-a87a352b3851')}\n",
      "{'chunk': AIMessageChunk(content=' Auto', additional_kwargs={}, response_metadata={}, id='run--625d4c07-3fdc-4355-8422-a87a352b3851')}\n",
      "{'chunk': AIMessageChunk(content=' (', additional_kwargs={}, response_metadata={}, id='run--625d4c07-3fdc-4355-8422-a87a352b3851')}\n",
      "{'chunk': AIMessageChunk(content='G', additional_kwargs={}, response_metadata={}, id='run--625d4c07-3fdc-4355-8422-a87a352b3851')}\n",
      "{'chunk': AIMessageChunk(content='TA', additional_kwargs={}, response_metadata={}, id='run--625d4c07-3fdc-4355-8422-a87a352b3851')}\n",
      "{'chunk': AIMessageChunk(content=')', additional_kwargs={}, response_metadata={}, id='run--625d4c07-3fdc-4355-8422-a87a352b3851')}\n",
      "{'chunk': AIMessageChunk(content=' is', additional_kwargs={}, response_metadata={}, id='run--625d4c07-3fdc-4355-8422-a87a352b3851')}\n",
      "{'chunk': AIMessageChunk(content=' a', additional_kwargs={}, response_metadata={}, id='run--625d4c07-3fdc-4355-8422-a87a352b3851')}\n",
      "{'chunk': AIMessageChunk(content=' popular', additional_kwargs={}, response_metadata={}, id='run--625d4c07-3fdc-4355-8422-a87a352b3851')}\n",
      "{'chunk': AIMessageChunk(content=' video', additional_kwargs={}, response_metadata={}, id='run--625d4c07-3fdc-4355-8422-a87a352b3851')}\n",
      "{'chunk': AIMessageChunk(content=' game', additional_kwargs={}, response_metadata={}, id='run--625d4c07-3fdc-4355-8422-a87a352b3851')}\n",
      "{'chunk': AIMessageChunk(content=' series', additional_kwargs={}, response_metadata={}, id='run--625d4c07-3fdc-4355-8422-a87a352b3851')}\n",
      "{'chunk': AIMessageChunk(content=' known', additional_kwargs={}, response_metadata={}, id='run--625d4c07-3fdc-4355-8422-a87a352b3851')}\n",
      "{'chunk': AIMessageChunk(content=' for', additional_kwargs={}, response_metadata={}, id='run--625d4c07-3fdc-4355-8422-a87a352b3851')}\n",
      "{'chunk': AIMessageChunk(content=' its', additional_kwargs={}, response_metadata={}, id='run--625d4c07-3fdc-4355-8422-a87a352b3851')}\n",
      "{'chunk': AIMessageChunk(content=' open', additional_kwargs={}, response_metadata={}, id='run--625d4c07-3fdc-4355-8422-a87a352b3851')}\n",
      "{'chunk': AIMessageChunk(content='-world', additional_kwargs={}, response_metadata={}, id='run--625d4c07-3fdc-4355-8422-a87a352b3851')}\n",
      "{'chunk': AIMessageChunk(content=' gameplay', additional_kwargs={}, response_metadata={}, id='run--625d4c07-3fdc-4355-8422-a87a352b3851')}\n",
      "{'chunk': AIMessageChunk(content=',', additional_kwargs={}, response_metadata={}, id='run--625d4c07-3fdc-4355-8422-a87a352b3851')}\n",
      "{'chunk': AIMessageChunk(content=' engaging', additional_kwargs={}, response_metadata={}, id='run--625d4c07-3fdc-4355-8422-a87a352b3851')}\n",
      "{'chunk': AIMessageChunk(content=' story', additional_kwargs={}, response_metadata={}, id='run--625d4c07-3fdc-4355-8422-a87a352b3851')}\n",
      "{'chunk': AIMessageChunk(content='lines', additional_kwargs={}, response_metadata={}, id='run--625d4c07-3fdc-4355-8422-a87a352b3851')}\n",
      "{'chunk': AIMessageChunk(content=',', additional_kwargs={}, response_metadata={}, id='run--625d4c07-3fdc-4355-8422-a87a352b3851')}\n",
      "{'chunk': AIMessageChunk(content=' and', additional_kwargs={}, response_metadata={}, id='run--625d4c07-3fdc-4355-8422-a87a352b3851')}\n",
      "{'chunk': AIMessageChunk(content=' the', additional_kwargs={}, response_metadata={}, id='run--625d4c07-3fdc-4355-8422-a87a352b3851')}\n",
      "{'chunk': AIMessageChunk(content=' freedom', additional_kwargs={}, response_metadata={}, id='run--625d4c07-3fdc-4355-8422-a87a352b3851')}\n",
      "{'chunk': AIMessageChunk(content=' it', additional_kwargs={}, response_metadata={}, id='run--625d4c07-3fdc-4355-8422-a87a352b3851')}\n",
      "{'chunk': AIMessageChunk(content=' offers', additional_kwargs={}, response_metadata={}, id='run--625d4c07-3fdc-4355-8422-a87a352b3851')}\n",
      "{'chunk': AIMessageChunk(content=' players', additional_kwargs={}, response_metadata={}, id='run--625d4c07-3fdc-4355-8422-a87a352b3851')}\n",
      "{'chunk': AIMessageChunk(content=' to', additional_kwargs={}, response_metadata={}, id='run--625d4c07-3fdc-4355-8422-a87a352b3851')}\n",
      "{'chunk': AIMessageChunk(content=' explore', additional_kwargs={}, response_metadata={}, id='run--625d4c07-3fdc-4355-8422-a87a352b3851')}\n",
      "{'chunk': AIMessageChunk(content=' and', additional_kwargs={}, response_metadata={}, id='run--625d4c07-3fdc-4355-8422-a87a352b3851')}\n",
      "{'chunk': AIMessageChunk(content=' interact', additional_kwargs={}, response_metadata={}, id='run--625d4c07-3fdc-4355-8422-a87a352b3851')}\n",
      "{'chunk': AIMessageChunk(content=' with', additional_kwargs={}, response_metadata={}, id='run--625d4c07-3fdc-4355-8422-a87a352b3851')}\n",
      "{'chunk': AIMessageChunk(content=' the', additional_kwargs={}, response_metadata={}, id='run--625d4c07-3fdc-4355-8422-a87a352b3851')}\n",
      "{'chunk': AIMessageChunk(content=' game', additional_kwargs={}, response_metadata={}, id='run--625d4c07-3fdc-4355-8422-a87a352b3851')}\n",
      "{'chunk': AIMessageChunk(content=' environment', additional_kwargs={}, response_metadata={}, id='run--625d4c07-3fdc-4355-8422-a87a352b3851')}\n",
      "{'chunk': AIMessageChunk(content='.', additional_kwargs={}, response_metadata={}, id='run--625d4c07-3fdc-4355-8422-a87a352b3851')}\n",
      "{'chunk': AIMessageChunk(content=' Whether', additional_kwargs={}, response_metadata={}, id='run--625d4c07-3fdc-4355-8422-a87a352b3851')}\n",
      "{'chunk': AIMessageChunk(content=' you', additional_kwargs={}, response_metadata={}, id='run--625d4c07-3fdc-4355-8422-a87a352b3851')}\n",
      "{'chunk': AIMessageChunk(content=' enjoy', additional_kwargs={}, response_metadata={}, id='run--625d4c07-3fdc-4355-8422-a87a352b3851')}\n",
      "{'chunk': AIMessageChunk(content=' completing', additional_kwargs={}, response_metadata={}, id='run--625d4c07-3fdc-4355-8422-a87a352b3851')}\n",
      "{'chunk': AIMessageChunk(content=' missions', additional_kwargs={}, response_metadata={}, id='run--625d4c07-3fdc-4355-8422-a87a352b3851')}\n",
      "{'chunk': AIMessageChunk(content=',', additional_kwargs={}, response_metadata={}, id='run--625d4c07-3fdc-4355-8422-a87a352b3851')}\n",
      "{'chunk': AIMessageChunk(content=' exploring', additional_kwargs={}, response_metadata={}, id='run--625d4c07-3fdc-4355-8422-a87a352b3851')}\n",
      "{'chunk': AIMessageChunk(content=' the', additional_kwargs={}, response_metadata={}, id='run--625d4c07-3fdc-4355-8422-a87a352b3851')}\n",
      "{'chunk': AIMessageChunk(content=' city', additional_kwargs={}, response_metadata={}, id='run--625d4c07-3fdc-4355-8422-a87a352b3851')}\n",
      "{'chunk': AIMessageChunk(content=',', additional_kwargs={}, response_metadata={}, id='run--625d4c07-3fdc-4355-8422-a87a352b3851')}\n",
      "{'chunk': AIMessageChunk(content=' or', additional_kwargs={}, response_metadata={}, id='run--625d4c07-3fdc-4355-8422-a87a352b3851')}\n",
      "{'chunk': AIMessageChunk(content=' just', additional_kwargs={}, response_metadata={}, id='run--625d4c07-3fdc-4355-8422-a87a352b3851')}\n",
      "{'chunk': AIMessageChunk(content=' causing', additional_kwargs={}, response_metadata={}, id='run--625d4c07-3fdc-4355-8422-a87a352b3851')}\n",
      "{'chunk': AIMessageChunk(content=' chaos', additional_kwargs={}, response_metadata={}, id='run--625d4c07-3fdc-4355-8422-a87a352b3851')}\n",
      "{'chunk': AIMessageChunk(content=',', additional_kwargs={}, response_metadata={}, id='run--625d4c07-3fdc-4355-8422-a87a352b3851')}\n",
      "{'chunk': AIMessageChunk(content=\" there's\", additional_kwargs={}, response_metadata={}, id='run--625d4c07-3fdc-4355-8422-a87a352b3851')}\n",
      "{'chunk': AIMessageChunk(content=' a', additional_kwargs={}, response_metadata={}, id='run--625d4c07-3fdc-4355-8422-a87a352b3851')}\n",
      "{'chunk': AIMessageChunk(content=' lot', additional_kwargs={}, response_metadata={}, id='run--625d4c07-3fdc-4355-8422-a87a352b3851')}\n",
      "{'chunk': AIMessageChunk(content=' to', additional_kwargs={}, response_metadata={}, id='run--625d4c07-3fdc-4355-8422-a87a352b3851')}\n",
      "{'chunk': AIMessageChunk(content=' do', additional_kwargs={}, response_metadata={}, id='run--625d4c07-3fdc-4355-8422-a87a352b3851')}\n",
      "{'chunk': AIMessageChunk(content=' in', additional_kwargs={}, response_metadata={}, id='run--625d4c07-3fdc-4355-8422-a87a352b3851')}\n",
      "{'chunk': AIMessageChunk(content=' the', additional_kwargs={}, response_metadata={}, id='run--625d4c07-3fdc-4355-8422-a87a352b3851')}\n",
      "{'chunk': AIMessageChunk(content=' game', additional_kwargs={}, response_metadata={}, id='run--625d4c07-3fdc-4355-8422-a87a352b3851')}\n",
      "{'chunk': AIMessageChunk(content='.', additional_kwargs={}, response_metadata={}, id='run--625d4c07-3fdc-4355-8422-a87a352b3851')}\n",
      "{'chunk': AIMessageChunk(content=' Which', additional_kwargs={}, response_metadata={}, id='run--625d4c07-3fdc-4355-8422-a87a352b3851')}\n",
      "{'chunk': AIMessageChunk(content=' GTA', additional_kwargs={}, response_metadata={}, id='run--625d4c07-3fdc-4355-8422-a87a352b3851')}\n",
      "{'chunk': AIMessageChunk(content=' game', additional_kwargs={}, response_metadata={}, id='run--625d4c07-3fdc-4355-8422-a87a352b3851')}\n",
      "{'chunk': AIMessageChunk(content=' is', additional_kwargs={}, response_metadata={}, id='run--625d4c07-3fdc-4355-8422-a87a352b3851')}\n",
      "{'chunk': AIMessageChunk(content=' your', additional_kwargs={}, response_metadata={}, id='run--625d4c07-3fdc-4355-8422-a87a352b3851')}\n",
      "{'chunk': AIMessageChunk(content=' favorite', additional_kwargs={}, response_metadata={}, id='run--625d4c07-3fdc-4355-8422-a87a352b3851')}\n",
      "{'chunk': AIMessageChunk(content=',', additional_kwargs={}, response_metadata={}, id='run--625d4c07-3fdc-4355-8422-a87a352b3851')}\n",
      "{'chunk': AIMessageChunk(content=' and', additional_kwargs={}, response_metadata={}, id='run--625d4c07-3fdc-4355-8422-a87a352b3851')}\n",
      "{'chunk': AIMessageChunk(content=' what', additional_kwargs={}, response_metadata={}, id='run--625d4c07-3fdc-4355-8422-a87a352b3851')}\n",
      "{'chunk': AIMessageChunk(content=' do', additional_kwargs={}, response_metadata={}, id='run--625d4c07-3fdc-4355-8422-a87a352b3851')}\n",
      "{'chunk': AIMessageChunk(content=' you', additional_kwargs={}, response_metadata={}, id='run--625d4c07-3fdc-4355-8422-a87a352b3851')}\n",
      "{'chunk': AIMessageChunk(content=' enjoy', additional_kwargs={}, response_metadata={}, id='run--625d4c07-3fdc-4355-8422-a87a352b3851')}\n",
      "{'chunk': AIMessageChunk(content=' most', additional_kwargs={}, response_metadata={}, id='run--625d4c07-3fdc-4355-8422-a87a352b3851')}\n",
      "{'chunk': AIMessageChunk(content=' about', additional_kwargs={}, response_metadata={}, id='run--625d4c07-3fdc-4355-8422-a87a352b3851')}\n",
      "{'chunk': AIMessageChunk(content=' it', additional_kwargs={}, response_metadata={}, id='run--625d4c07-3fdc-4355-8422-a87a352b3851')}\n",
      "{'chunk': AIMessageChunk(content='?', additional_kwargs={}, response_metadata={}, id='run--625d4c07-3fdc-4355-8422-a87a352b3851')}\n",
      "{'chunk': AIMessageChunk(content='', additional_kwargs={}, response_metadata={'finish_reason': 'stop', 'model_name': 'gpt-4o-2024-08-06', 'system_fingerprint': 'fp_07871e2ad8', 'service_tier': 'default'}, id='run--625d4c07-3fdc-4355-8422-a87a352b3851')}\n"
     ]
    }
   ],
   "source": [
    "# Fetch raw messages from LLM\n",
    "config = {\"configurable\": {\"thread_id\": 6}}\n",
    "\n",
    "input_messages = [HumanMessage(content=\"I love to play Grand Theft Auto!\")]\n",
    "async for event in graph.astream_events({\"messages\": input_messages}, config, version=\"v2\"):\n",
    "    if event[\"metadata\"].get(\"langgraph_node\", \"\") == \"conversation\" and event[\"event\"] == \"on_chat_model_stream\":\n",
    "        print(event[\"data\"])"
   ]
  },
  {
   "cell_type": "code",
   "execution_count": 19,
   "id": "52e1e5e0",
   "metadata": {},
   "outputs": [
    {
     "name": "stdout",
     "output_type": "stream",
     "text": [
      "As of my last update, the latest release in the Grand Theft Auto series is \"Grand Theft Auto V,\" which was originally released in 2013. It has since been re-released on various platforms, including enhanced versions for newer consoles. There have been announcements and discussions about \"Grand Theft Auto VI,\" but no official release date has been provided. Please check the latest sources for the most current information."
     ]
    }
   ],
   "source": [
    "# Stream final tokens for end user\n",
    "node_to_stream = \"conversation\"\n",
    "input_messages = [HumanMessage(content=\"What is the latest release of Grand Theft Auto?\")]\n",
    "config= {\"configurable\": {\"thread_id\": 11}}\n",
    "\n",
    "async for event in graph.astream_events({\"messages\": input_messages}, config, version=\"v2\"):\n",
    "    if event[\"metadata\"].get(\"langgraph_node\", \"\") == node_to_stream and event[\"event\"] == \"on_chat_model_stream\":\n",
    "        data = event[\"data\"]\n",
    "        print(data[\"chunk\"].content, end=\"\")"
   ]
  }
 ],
 "metadata": {
  "kernelspec": {
   "display_name": "agentic-ai-5d-ElTE_-py3.12",
   "language": "python",
   "name": "python3"
  },
  "language_info": {
   "codemirror_mode": {
    "name": "ipython",
    "version": 3
   },
   "file_extension": ".py",
   "mimetype": "text/x-python",
   "name": "python",
   "nbconvert_exporter": "python",
   "pygments_lexer": "ipython3",
   "version": "3.12.2"
  }
 },
 "nbformat": 4,
 "nbformat_minor": 5
}
