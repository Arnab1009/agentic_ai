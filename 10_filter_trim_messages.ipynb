{
 "cells": [
  {
   "cell_type": "markdown",
   "id": "e5c8edc8",
   "metadata": {},
   "source": [
    "# Filter and trim messages using the built-in MessagesState"
   ]
  },
  {
   "cell_type": "markdown",
   "id": "bcc9c257",
   "metadata": {},
   "source": [
    "## Messages without trimming or filtering"
   ]
  },
  {
   "cell_type": "code",
   "execution_count": 5,
   "id": "bb1045cb",
   "metadata": {},
   "outputs": [],
   "source": [
    "# Import libraries\n",
    "from langgraph.graph import StateGraph, START, END, MessagesState\n",
    "from langchain_core.messages import HumanMessage, AIMessage\n",
    "from IPython.display import display, Image\n",
    "from langchain_openai import ChatOpenAI"
   ]
  },
  {
   "cell_type": "code",
   "execution_count": 8,
   "id": "276d2b41",
   "metadata": {},
   "outputs": [],
   "source": [
    "# Define node\n",
    "def chat_model(state: MessagesState) -> MessagesState:\n",
    "    llm = ChatOpenAI(model=\"gpt-4o\", temperature=0)\n",
    "    return {\"messages\": llm.invoke(state[\"messages\"])}"
   ]
  },
  {
   "cell_type": "code",
   "execution_count": 9,
   "id": "0055e640",
   "metadata": {},
   "outputs": [
    {
     "data": {
      "image/png": "[encoded data removed]",
      "text/plain": [
       "<IPython.core.display.Image object>"
      ]
     },
     "metadata": {},
     "output_type": "display_data"
    }
   ],
   "source": [
    "# Define Graph\n",
    "graphBuilder = StateGraph(MessagesState)\n",
    "graphBuilder.add_node(\"chat_model\", chat_model)\n",
    "\n",
    "graphBuilder.add_edge(START, \"chat_model\")\n",
    "graphBuilder.add_edge(\"chat_model\", END)\n",
    "\n",
    "graph = graphBuilder.compile()\n",
    "display(Image(graph.get_graph().draw_mermaid_png()))"
   ]
  },
  {
   "cell_type": "code",
   "execution_count": 15,
   "id": "f3602904",
   "metadata": {},
   "outputs": [
    {
     "name": "stdout",
     "output_type": "stream",
     "text": [
      "==================================\u001b[1m Ai Message \u001b[0m==================================\n",
      "Name: model\n",
      "\n",
      "I am doing great!\n",
      "================================\u001b[1m Human Message \u001b[0m=================================\n",
      "Name: Arnab\n",
      "\n",
      "What are the must see places in Texas?\n",
      "==================================\u001b[1m Ai Message \u001b[0m==================================\n",
      "\n",
      "Texas is a vast state with a diverse range of attractions, from natural wonders to cultural landmarks. Here are some must-see places in Texas:\n",
      "\n",
      "1. **The Alamo** (San Antonio): A historic site and symbol of Texas independence, the Alamo is a must-visit for history enthusiasts.\n",
      "\n",
      "2. **Big Bend National Park**: Located in West Texas, this park offers stunning desert landscapes, hiking trails, and opportunities for stargazing.\n",
      "\n",
      "3. **San Antonio River Walk**: A vibrant network of walkways along the San Antonio River, lined with shops, restaurants, and cultural attractions.\n",
      "\n",
      "4. **Austin**: Known for its live music scene, Austin is home to numerous music festivals, eclectic shops, and the Texas State Capitol.\n",
      "\n",
      "5. **Houston Space Center**: The official visitor center of NASA's Johnson Space Center, offering exhibits and tours related to space exploration.\n",
      "\n",
      "6. **Dallas Arts District**: The largest urban arts district in the United States, featuring museums, galleries, and performance venues.\n",
      "\n",
      "7. **Guadalupe Mountains National Park**: Known for its rugged mountains and diverse ecosystems, this park is ideal for hiking and wildlife viewing.\n",
      "\n",
      "8. **Palo Duro Canyon State Park**: Often referred to as the \"Grand Canyon of Texas,\" this park offers dramatic landscapes and outdoor activities.\n",
      "\n",
      "9. **Fort Worth Stockyards**: A historic district that celebrates Texas's cowboy heritage with rodeos, cattle drives, and Western-themed attractions.\n",
      "\n",
      "10. **South Padre Island**: A popular beach destination on the Gulf of Mexico, known for its sandy beaches and water sports.\n",
      "\n",
      "11. **Marfa**: A small town famous for its contemporary art scene and mysterious Marfa Lights.\n",
      "\n",
      "12. **Enchanted Rock State Natural Area**: A massive pink granite dome offering hiking, rock climbing, and panoramic views.\n",
      "\n",
      "These are just a few highlights, and Texas has much more to offer depending on your interests, from charming small towns to bustling cities.\n"
     ]
    }
   ],
   "source": [
    "# Test the setup\n",
    "messages = [HumanMessage(content=\"Hello!\", name=\"Arnab\", id=1), \n",
    "            AIMessage(content=\"Hi there!\", name=\"model\", id=2), \n",
    "            HumanMessage(content=\"How are you?\", name=\"Arnab\", id=3), \n",
    "            AIMessage(content=\"I am doing great!\", name=\"model\", id=4),\n",
    "            HumanMessage(content=\"What are the must see places in Texas?\", name=\"Arnab\", id=5)]\n",
    "\n",
    "output = graph.invoke({\"messages\": messages})\n",
    "\n",
    "for m in output[\"messages\"]:\n",
    "    m.pretty_print()"
   ]
  },
  {
   "cell_type": "markdown",
   "id": "a94e3011",
   "metadata": {},
   "source": [
    "## Filter messages using Reducers"
   ]
  },
  {
   "cell_type": "code",
   "execution_count": 12,
   "id": "27ea5411",
   "metadata": {},
   "outputs": [],
   "source": [
    "# Import Libraries\n",
    "from langchain_core.messages import RemoveMessage"
   ]
  },
  {
   "cell_type": "code",
   "execution_count": 13,
   "id": "3581383b",
   "metadata": {},
   "outputs": [],
   "source": [
    "# Define nodes\n",
    "def filter_messages(state: MessagesState) -> MessagesState:\n",
    "    messages_to_remove = [RemoveMessage(id=m.id) for m in state[\"messages\"][:-2]]\n",
    "    return {\"messages\": messages_to_remove}\n",
    "\n",
    "def chat_model(state: MessagesState) -> MessagesState:\n",
    "    llm = ChatOpenAI(model=\"gpt-4o\", temperature=0)\n",
    "    return {\"messages\": llm.invoke(state[\"messages\"])}"
   ]
  },
  {
   "cell_type": "code",
   "execution_count": 14,
   "id": "7fe8c1c0",
   "metadata": {},
   "outputs": [
    {
     "data": {
      "image/png": "[encoded data removed]",
      "text/plain": [
       "<IPython.core.display.Image object>"
      ]
     },
     "metadata": {},
     "output_type": "display_data"
    }
   ],
   "source": [
    "# Define Graph\n",
    "graphBuilder = StateGraph(MessagesState)\n",
    "graphBuilder.add_node(\"filter_messages\", filter_messages)\n",
    "graphBuilder.add_node(\"chat_model\", chat_model)\n",
    "\n",
    "graphBuilder.add_edge(START, \"filter_messages\")\n",
    "graphBuilder.add_edge(\"filter_messages\", \"chat_model\")\n",
    "graphBuilder.add_edge(\"chat_model\", END)\n",
    "\n",
    "graph = graphBuilder.compile()\n",
    "display(Image(graph.get_graph().draw_mermaid_png()))"
   ]
  },
  {
   "cell_type": "code",
   "execution_count": 16,
   "id": "5a64df31",
   "metadata": {},
   "outputs": [
    {
     "name": "stdout",
     "output_type": "stream",
     "text": [
      "==================================\u001b[1m Ai Message \u001b[0m==================================\n",
      "Name: model\n",
      "\n",
      "I am doing great!\n",
      "================================\u001b[1m Human Message \u001b[0m=================================\n",
      "Name: Arnab\n",
      "\n",
      "What are the must see places in Texas?\n",
      "==================================\u001b[1m Ai Message \u001b[0m==================================\n",
      "\n",
      "Texas is a vast state with a diverse range of attractions, from natural wonders to cultural landmarks. Here are some must-see places in Texas:\n",
      "\n",
      "1. **The Alamo** (San Antonio): A historic site and symbol of Texas independence, the Alamo is a must-visit for history enthusiasts.\n",
      "\n",
      "2. **Big Bend National Park**: Located in West Texas, this park offers stunning desert landscapes, hiking trails, and opportunities for stargazing.\n",
      "\n",
      "3. **San Antonio River Walk**: A vibrant network of walkways along the San Antonio River, lined with shops, restaurants, and cultural attractions.\n",
      "\n",
      "4. **Austin**: Known for its live music scene, Austin is home to numerous music festivals, eclectic shops, and the beautiful Lady Bird Lake.\n",
      "\n",
      "5. **Houston Space Center**: The official visitor center of NASA’s Johnson Space Center, offering interactive exhibits and a chance to learn about space exploration.\n",
      "\n",
      "6. **Dallas Arts District**: The largest urban arts district in the United States, featuring museums, galleries, and performance venues.\n",
      "\n",
      "7. **Guadalupe Mountains National Park**: Known for its rugged mountains and diverse ecosystems, this park is ideal for hiking and exploring nature.\n",
      "\n",
      "8. **Palo Duro Canyon**: Often referred to as the \"Grand Canyon of Texas,\" this stunning canyon offers hiking, biking, and horseback riding opportunities.\n",
      "\n",
      "9. **Fort Worth Stockyards**: A historic district that celebrates Texas's cowboy heritage with rodeos, cattle drives, and Western-themed shops.\n",
      "\n",
      "10. **South Padre Island**: A popular beach destination known for its beautiful sandy beaches, water sports, and vibrant nightlife.\n",
      "\n",
      "11. **Marfa**: A small town famous for its contemporary art scene and mysterious Marfa Lights.\n",
      "\n",
      "12. **Texas Hill Country**: Known for its rolling hills, wineries, and charming small towns like Fredericksburg and Wimberley.\n",
      "\n",
      "These are just a few highlights, and there are many more unique and interesting places to explore throughout Texas!\n"
     ]
    }
   ],
   "source": [
    "# Test the setup\n",
    "messages = [HumanMessage(content=\"Hello!\", name=\"Arnab\", id=1), \n",
    "            AIMessage(content=\"Hi there!\", name=\"model\", id=2), \n",
    "            HumanMessage(content=\"How are you?\", name=\"Arnab\", id=3), \n",
    "            AIMessage(content=\"I am doing great!\", name=\"model\", id=4),\n",
    "            HumanMessage(content=\"What are the must see places in Texas?\", name=\"Arnab\", id=5)]\n",
    "\n",
    "output = graph.invoke({\"messages\": messages})\n",
    "\n",
    "for m in output[\"messages\"]:\n",
    "    m.pretty_print()"
   ]
  },
  {
   "cell_type": "code",
   "execution_count": 17,
   "id": "3a49c415",
   "metadata": {},
   "outputs": [],
   "source": [
    "# Append the output to the messages\n",
    "messages.append(output[\"messages\"][-1])"
   ]
  },
  {
   "cell_type": "markdown",
   "id": "975fc25d",
   "metadata": {},
   "source": [
    "## Filter messages before feeding in LLM\n"
   ]
  },
  {
   "cell_type": "code",
   "execution_count": 18,
   "id": "cddfe3cf",
   "metadata": {},
   "outputs": [],
   "source": [
    "# Define nodes\n",
    "def chat_model(state: MessagesState) -> MessagesState:\n",
    "    llm = ChatOpenAI(model=\"gpt-4o\", temperature=0)\n",
    "    return {\"messages\": llm.invoke(state[\"messages\"][-1:])}"
   ]
  },
  {
   "cell_type": "code",
   "execution_count": 19,
   "id": "1d748a92",
   "metadata": {},
   "outputs": [
    {
     "data": {
      "image/png": "[encoded data removed]",
      "text/plain": [
       "<IPython.core.display.Image object>"
      ]
     },
     "metadata": {},
     "output_type": "display_data"
    }
   ],
   "source": [
    "# Define graph\n",
    "graphBuilder = StateGraph(MessagesState)\n",
    "graphBuilder.add_node(\"chat_model\", chat_model)\n",
    "\n",
    "graphBuilder.add_edge(START, \"chat_model\")\n",
    "graphBuilder.add_edge(\"chat_model\", END)\n",
    "\n",
    "graph = graphBuilder.compile()\n",
    "display(Image(graph.get_graph().draw_mermaid_png()))"
   ]
  },
  {
   "cell_type": "code",
   "execution_count": 20,
   "id": "ed7b8468",
   "metadata": {},
   "outputs": [
    {
     "name": "stdout",
     "output_type": "stream",
     "text": [
      "================================\u001b[1m Human Message \u001b[0m=================================\n",
      "Name: Arnab\n",
      "\n",
      "Hello!\n",
      "==================================\u001b[1m Ai Message \u001b[0m==================================\n",
      "Name: model\n",
      "\n",
      "Hi there!\n",
      "================================\u001b[1m Human Message \u001b[0m=================================\n",
      "Name: Arnab\n",
      "\n",
      "How are you?\n",
      "==================================\u001b[1m Ai Message \u001b[0m==================================\n",
      "Name: model\n",
      "\n",
      "I am doing great!\n",
      "================================\u001b[1m Human Message \u001b[0m=================================\n",
      "Name: Arnab\n",
      "\n",
      "What are the must see places in Texas?\n",
      "==================================\u001b[1m Ai Message \u001b[0m==================================\n",
      "\n",
      "Texas is a vast state with a diverse range of attractions, from natural wonders to cultural landmarks. Here are some must-see places in Texas:\n",
      "\n",
      "1. **The Alamo** (San Antonio): A historic site and symbol of Texas independence, the Alamo is a must-visit for history enthusiasts.\n",
      "\n",
      "2. **Big Bend National Park**: Located in West Texas, this park offers stunning desert landscapes, hiking trails, and opportunities for stargazing.\n",
      "\n",
      "3. **San Antonio River Walk**: A vibrant network of walkways along the San Antonio River, lined with shops, restaurants, and cultural attractions.\n",
      "\n",
      "4. **Austin**: Known for its live music scene, Austin is home to numerous music festivals, eclectic shops, and the beautiful Lady Bird Lake.\n",
      "\n",
      "5. **Houston Space Center**: The official visitor center of NASA’s Johnson Space Center, offering interactive exhibits and a chance to learn about space exploration.\n",
      "\n",
      "6. **Dallas Arts District**: The largest urban arts district in the United States, featuring museums, galleries, and performance venues.\n",
      "\n",
      "7. **Guadalupe Mountains National Park**: Known for its rugged mountains and diverse ecosystems, this park is ideal for hiking and exploring nature.\n",
      "\n",
      "8. **Palo Duro Canyon**: Often referred to as the \"Grand Canyon of Texas,\" this stunning canyon offers hiking, biking, and horseback riding opportunities.\n",
      "\n",
      "9. **Fort Worth Stockyards**: A historic district that celebrates Texas's cowboy heritage with rodeos, cattle drives, and Western-themed shops.\n",
      "\n",
      "10. **South Padre Island**: A popular beach destination known for its beautiful sandy beaches, water sports, and vibrant nightlife.\n",
      "\n",
      "11. **Marfa**: A small town famous for its contemporary art scene and mysterious Marfa Lights.\n",
      "\n",
      "12. **Texas Hill Country**: Known for its rolling hills, wineries, and charming small towns like Fredericksburg and Wimberley.\n",
      "\n",
      "These are just a few highlights, and there are many more unique and interesting places to explore throughout Texas!\n",
      "================================\u001b[1m Human Message \u001b[0m=================================\n",
      "Name: Arnab\n",
      "\n",
      "What is the capital of Texas?\n",
      "==================================\u001b[1m Ai Message \u001b[0m==================================\n",
      "\n",
      "The capital of Texas is Austin.\n"
     ]
    }
   ],
   "source": [
    "# Test the setup\n",
    "messages.append(HumanMessage(content=\"What is the capital of Texas?\", name=\"Arnab\"))\n",
    "output = graph.invoke({\"messages\": messages})\n",
    "for m in output[\"messages\"]:\n",
    "    m.pretty_print()"
   ]
  },
  {
   "cell_type": "code",
   "execution_count": 21,
   "id": "b60b4e1c",
   "metadata": {},
   "outputs": [],
   "source": [
    "# Append the output to the messages\n",
    "messages.append(output[\"messages\"][-1])"
   ]
  },
  {
   "cell_type": "markdown",
   "id": "62a8a796",
   "metadata": {},
   "source": [
    "## Restrict LLM token usage using Trim Messages"
   ]
  },
  {
   "cell_type": "code",
   "execution_count": 24,
   "id": "0b896bd8",
   "metadata": {},
   "outputs": [],
   "source": [
    "# Import required libraries\n",
    "from langchain_core.messages import trim_messages"
   ]
  },
  {
   "cell_type": "code",
   "execution_count": 28,
   "id": "f2ed45b6",
   "metadata": {},
   "outputs": [
    {
     "name": "stdout",
     "output_type": "stream",
     "text": [
      "================================\u001b[1m Human Message \u001b[0m=================================\n",
      "Name: Arnab\n",
      "\n",
      "What is the capital of Texas?\n",
      "==================================\u001b[1m Ai Message \u001b[0m==================================\n",
      "\n",
      "The capital of Texas is Austin.\n"
     ]
    }
   ],
   "source": [
    "# Test trim messages\n",
    "trimmed_messages = trim_messages(messages, \n",
    "                                max_tokens=100, \n",
    "                                strategy=\"last\",\n",
    "                                token_counter=ChatOpenAI(model=\"gpt-4o\"),\n",
    "                                allow_partial=False)\n",
    "\n",
    "for m in trimmed_messages:\n",
    "    m.pretty_print()"
   ]
  },
  {
   "cell_type": "code",
   "execution_count": 29,
   "id": "0563c257",
   "metadata": {},
   "outputs": [],
   "source": [
    "# Define nodes\n",
    "def chat_model(state: MessagesState) -> MessagesState:\n",
    "    messages = trim_messages(state[\"messages\"],\n",
    "                             max_tokens=100, \n",
    "                             strategy=\"last\",\n",
    "                             token_counter=ChatOpenAI(model=\"gpt-4o\"),\n",
    "                             allow_partial=False)\n",
    "    llm = ChatOpenAI(model=\"gpt-4o\", temperature=0)\n",
    "    return {\"messages\": llm.invoke(messages)}"
   ]
  },
  {
   "cell_type": "code",
   "execution_count": 30,
   "id": "ebfaf79a",
   "metadata": {},
   "outputs": [
    {
     "data": {
      "image/png": "[encoded data removed]",
      "text/plain": [
       "<IPython.core.display.Image object>"
      ]
     },
     "metadata": {},
     "output_type": "display_data"
    }
   ],
   "source": [
    "# Define graph\n",
    "graphBuilder = StateGraph(MessagesState)\n",
    "graphBuilder.add_node(\"chat_model\", chat_model)\n",
    "\n",
    "graphBuilder.add_edge(START, \"chat_model\")\n",
    "graphBuilder.add_edge(\"chat_model\", END)\n",
    "\n",
    "graph = graphBuilder.compile()\n",
    "display(Image(graph.get_graph().draw_mermaid_png()))"
   ]
  },
  {
   "cell_type": "code",
   "execution_count": 31,
   "id": "ef8ec106",
   "metadata": {},
   "outputs": [
    {
     "name": "stdout",
     "output_type": "stream",
     "text": [
      "================================\u001b[1m Human Message \u001b[0m=================================\n",
      "Name: Arnab\n",
      "\n",
      "Hello!\n",
      "==================================\u001b[1m Ai Message \u001b[0m==================================\n",
      "Name: model\n",
      "\n",
      "Hi there!\n",
      "================================\u001b[1m Human Message \u001b[0m=================================\n",
      "Name: Arnab\n",
      "\n",
      "How are you?\n",
      "==================================\u001b[1m Ai Message \u001b[0m==================================\n",
      "Name: model\n",
      "\n",
      "I am doing great!\n",
      "================================\u001b[1m Human Message \u001b[0m=================================\n",
      "Name: Arnab\n",
      "\n",
      "What are the must see places in Texas?\n",
      "==================================\u001b[1m Ai Message \u001b[0m==================================\n",
      "\n",
      "Texas is a vast state with a diverse range of attractions, from natural wonders to cultural landmarks. Here are some must-see places in Texas:\n",
      "\n",
      "1. **The Alamo** (San Antonio): A historic site and symbol of Texas independence, the Alamo is a must-visit for history enthusiasts.\n",
      "\n",
      "2. **Big Bend National Park**: Located in West Texas, this park offers stunning desert landscapes, hiking trails, and opportunities for stargazing.\n",
      "\n",
      "3. **San Antonio River Walk**: A vibrant network of walkways along the San Antonio River, lined with shops, restaurants, and cultural attractions.\n",
      "\n",
      "4. **Austin**: Known for its live music scene, Austin is home to numerous music festivals, eclectic shops, and the beautiful Lady Bird Lake.\n",
      "\n",
      "5. **Houston Space Center**: The official visitor center of NASA’s Johnson Space Center, offering interactive exhibits and a chance to learn about space exploration.\n",
      "\n",
      "6. **Dallas Arts District**: The largest urban arts district in the United States, featuring museums, galleries, and performance venues.\n",
      "\n",
      "7. **Guadalupe Mountains National Park**: Known for its rugged mountains and diverse ecosystems, this park is ideal for hiking and exploring nature.\n",
      "\n",
      "8. **Palo Duro Canyon**: Often referred to as the \"Grand Canyon of Texas,\" this stunning canyon offers hiking, biking, and horseback riding opportunities.\n",
      "\n",
      "9. **Fort Worth Stockyards**: A historic district that celebrates Texas's cowboy heritage with rodeos, cattle drives, and Western-themed shops.\n",
      "\n",
      "10. **South Padre Island**: A popular beach destination known for its beautiful sandy beaches, water sports, and vibrant nightlife.\n",
      "\n",
      "11. **Marfa**: A small town famous for its contemporary art scene and mysterious Marfa Lights.\n",
      "\n",
      "12. **Texas Hill Country**: Known for its rolling hills, wineries, and charming small towns like Fredericksburg and Wimberley.\n",
      "\n",
      "These are just a few highlights, and there are many more unique and interesting places to explore throughout Texas!\n",
      "================================\u001b[1m Human Message \u001b[0m=================================\n",
      "Name: Arnab\n",
      "\n",
      "What is the capital of Texas?\n",
      "==================================\u001b[1m Ai Message \u001b[0m==================================\n",
      "\n",
      "The capital of Texas is Austin.\n",
      "================================\u001b[1m Human Message \u001b[0m=================================\n",
      "Name: Arnab\n",
      "\n",
      "What are the recommended places to see in Austin?\n",
      "==================================\u001b[1m Ai Message \u001b[0m==================================\n",
      "\n",
      "Austin, Texas, is known for its vibrant culture, live music scene, and beautiful outdoor spaces. Here are some recommended places to see in Austin:\n",
      "\n",
      "1. **Texas State Capitol**: This historic building is larger than the U.S. Capitol and offers free guided tours.\n",
      "\n",
      "2. **Lady Bird Lake**: A popular spot for kayaking, paddleboarding, and walking or biking along the scenic trails.\n",
      "\n",
      "3. **Barton Springs Pool**: A natural spring-fed pool located in Zilker Park, perfect for swimming and relaxing.\n",
      "\n",
      "4. **Zilker Park**: A large urban park that hosts events and festivals, with plenty of space for picnics and outdoor activities.\n",
      "\n",
      "5. **The University of Texas at Austin**: Explore the campus and visit the Blanton Museum of Art and the Texas Memorial Museum.\n",
      "\n",
      "6. **South Congress Avenue (SoCo)**: Known for its eclectic shops, restaurants, and live music venues.\n",
      "\n",
      "7. **The Bullock Texas State History Museum**: Offers exhibits on the history of Texas, including an IMAX theater.\n",
      "\n",
      "8. **Mount Bonnell**: A popular spot for hiking and enjoying panoramic views of the city and the Colorado River.\n",
      "\n",
      "9. **6th Street**: Famous for its nightlife, live music venues, and bars.\n",
      "\n",
      "10. **The Contemporary Austin – Laguna Gloria**: An art museum and sculpture park set on a beautiful lakeside estate.\n",
      "\n",
      "11. **Austin City Limits Live at The Moody Theater**: A venue for live music performances, known for the long-running TV show \"Austin City Limits.\"\n",
      "\n",
      "12. **The Domain**: A shopping and entertainment district with a variety of stores, restaurants, and bars.\n",
      "\n",
      "These are just a few highlights, and Austin has much more to offer depending on your interests, including food tours, live music events, and outdoor adventures.\n"
     ]
    }
   ],
   "source": [
    "# Test the setup\n",
    "messages.append(HumanMessage(content=\"What are the recommended places to see in Austin?\", name=\"Arnab\"))\n",
    "output = graph.invoke({\"messages\": messages})\n",
    "for m in output[\"messages\"]:\n",
    "    m.pretty_print()"
   ]
  }
 ],
 "metadata": {
  "kernelspec": {
   "display_name": "agentic-ai-5d-ElTE_-py3.12",
   "language": "python",
   "name": "python3"
  },
  "language_info": {
   "codemirror_mode": {
    "name": "ipython",
    "version": 3
   },
   "file_extension": ".py",
   "mimetype": "text/x-python",
   "name": "python",
   "nbconvert_exporter": "python",
   "pygments_lexer": "ipython3",
   "version": "3.12.2"
  }
 },
 "nbformat": 4,
 "nbformat_minor": 5
}
