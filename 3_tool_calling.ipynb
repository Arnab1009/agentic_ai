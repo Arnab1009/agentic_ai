{
 "cells": [
  {
   "cell_type": "markdown",
   "id": "139f6ae2",
   "metadata": {},
   "source": [
    "# LLM with tool calls using LangGraph"
   ]
  },
  {
   "cell_type": "code",
   "execution_count": null,
   "id": "91732127",
   "metadata": {},
   "outputs": [],
   "source": [
    "# Import libraries\n",
    "from langgraph.graph import StateGraph, START, END\n",
    "from langgraph.graph import MessagesState\n",
    "from langchain_core.messages.human import HumanMessage\n",
    "from langchain_core.messages.ai import AIMessage\n",
    "from IPython.display import Image, display\n",
    "from langchain_openai import ChatOpenAI\n"
   ]
  },
  {
   "cell_type": "markdown",
   "id": "d3abc6c9",
   "metadata": {},
   "source": [
    "## Bind tools with LLM"
   ]
  },
  {
   "cell_type": "code",
   "execution_count": 3,
   "id": "be286b1c",
   "metadata": {},
   "outputs": [],
   "source": [
    "# Define Tool\n",
    "def multiply(a: int, b: int) -> int:\n",
    "    \"\"\"\n",
    "        Function to multiply 2 given numbers\n",
    "        The return value is an integer which is the product of a and b\n",
    "    \"\"\"\n",
    "    return a * b"
   ]
  },
  {
   "cell_type": "code",
   "execution_count": 4,
   "id": "937fd7a8",
   "metadata": {},
   "outputs": [],
   "source": [
    "# Instantiate LLM and bind tools\n",
    "llm = ChatOpenAI(model=\"gpt-4o\")\n",
    "llm_with_tools = llm.bind_tools([multiply])"
   ]
  },
  {
   "cell_type": "code",
   "execution_count": 6,
   "id": "9e6468ce",
   "metadata": {},
   "outputs": [
    {
     "name": "stdout",
     "output_type": "stream",
     "text": [
      "==================================\u001b[1m Ai Message \u001b[0m==================================\n",
      "\n",
      "A large language model (LLM) is an artificial intelligence system designed to understand, generate, and manipulate human language. These models are based on deep learning architectures, usually neural networks with many parameters, which allow them to process and produce text in a way that mimics human language use. Here are some key features of large language models:\n",
      "\n",
      "1. **Scale and Size**: LLMs are characterized by a vast number of parameters, often ranging from hundreds of millions to billions, allowing them to capture complex linguistic patterns and nuances.\n",
      "\n",
      "2. **Training**: They are trained on massive datasets containing text from the internet, books, articles, and other sources. This training helps them learn grammar, facts about the world, reasoning abilities, and even some level of context understanding.\n",
      "\n",
      "3. **Capabilities**: LLMs can perform a variety of tasks, including but not limited to language translation, question answering, summarization, text generation, sentiment analysis, and more. They can generate coherent and contextually relevant text based on the input they receive.\n",
      "\n",
      "4. **Adaptability**: These models can be fine-tuned on specific datasets to perform specialized tasks with improved accuracy.\n",
      "\n",
      "5. **Challenges**: Despite their capabilities, LLMs may also produce incorrect or biased information, mimic harmful language found in their training data, and require significant computational resources for training and operation.\n",
      "\n",
      "Overall, large language models are significant advancements in AI, enabling more natural interactions between machines and humans through improved language understanding and generation.\n"
     ]
    }
   ],
   "source": [
    "# Test normal case\n",
    "response = llm_with_tools.invoke([HumanMessage(content=\"What is a large language model?\")])\n",
    "response.pretty_print()"
   ]
  },
  {
   "cell_type": "code",
   "execution_count": 8,
   "id": "7d03d50e",
   "metadata": {},
   "outputs": [
    {
     "name": "stdout",
     "output_type": "stream",
     "text": [
      "==================================\u001b[1m Ai Message \u001b[0m==================================\n",
      "Tool Calls:\n",
      "  multiply (call_bYdofwAhKQa9SgkORWKAAqTS)\n",
      " Call ID: call_bYdofwAhKQa9SgkORWKAAqTS\n",
      "  Args:\n",
      "    a: 2\n",
      "    b: 20\n"
     ]
    }
   ],
   "source": [
    "# Test tool call\n",
    "# Test normal case\n",
    "response = llm_with_tools.invoke([HumanMessage(content=\"What is the product of 2 and 20?\")])\n",
    "response.pretty_print()"
   ]
  },
  {
   "cell_type": "markdown",
   "id": "0e8c1c73",
   "metadata": {},
   "source": [
    "## Bundle tool call LLM in a Graph"
   ]
  },
  {
   "cell_type": "code",
   "execution_count": 25,
   "id": "7bc4b09e",
   "metadata": {},
   "outputs": [],
   "source": [
    "# Deine tool call node\n",
    "def tool_calling_llm(state: MessagesState):\n",
    "    state[\"messages\"] = llm_with_tools.invoke(state[\"messages\"])\n",
    "    return state"
   ]
  },
  {
   "cell_type": "code",
   "execution_count": 26,
   "id": "d08895a3",
   "metadata": {},
   "outputs": [
    {
     "data": {
      "image/png": "[encoded data removed]",
      "text/plain": [
       "<IPython.core.display.Image object>"
      ]
     },
     "metadata": {},
     "output_type": "display_data"
    }
   ],
   "source": [
    "# Instatiate graph\n",
    "graphBuilder = StateGraph(MessagesState)\n",
    "graphBuilder.add_node(\"tool_calling_llm\", tool_calling_llm)\n",
    "\n",
    "graphBuilder.add_edge(START, \"tool_calling_llm\")\n",
    "graphBuilder.add_edge(\"tool_calling_llm\", END)\n",
    "\n",
    "graph = graphBuilder.compile()\n",
    "display(Image(graph.get_graph().draw_mermaid_png()))"
   ]
  },
  {
   "cell_type": "markdown",
   "id": "3fa956b3",
   "metadata": {},
   "source": [
    "## Test the setup"
   ]
  },
  {
   "cell_type": "code",
   "execution_count": 29,
   "id": "b85dd991",
   "metadata": {},
   "outputs": [
    {
     "name": "stdout",
     "output_type": "stream",
     "text": [
      "================================\u001b[1m Human Message \u001b[0m=================================\n",
      "Name: Arnab\n",
      "\n",
      "Hi! How are you?\n",
      "==================================\u001b[1m Ai Message \u001b[0m==================================\n",
      "\n",
      "Hello! I'm just a computer program, so I don't have feelings, but I'm here and ready to help you. How can I assist you today?\n"
     ]
    }
   ],
   "source": [
    "messages = graph.invoke({\"messages\": [HumanMessage(content=\"Hi! How are you?\", name=\"Arnab\")]})\n",
    "for m in messages[\"messages\"]:\n",
    "    m.pretty_print()"
   ]
  },
  {
   "cell_type": "code",
   "execution_count": 30,
   "id": "a977417a",
   "metadata": {},
   "outputs": [
    {
     "name": "stdout",
     "output_type": "stream",
     "text": [
      "================================\u001b[1m Human Message \u001b[0m=================================\n",
      "Name: Arnab\n",
      "\n",
      "What is the product of 3 and 4?\n",
      "==================================\u001b[1m Ai Message \u001b[0m==================================\n",
      "Tool Calls:\n",
      "  multiply (call_Vpn6VFlh7DvOafmQvOz6ynXj)\n",
      " Call ID: call_Vpn6VFlh7DvOafmQvOz6ynXj\n",
      "  Args:\n",
      "    a: 3\n",
      "    b: 4\n"
     ]
    }
   ],
   "source": [
    "messages = graph.invoke({\"messages\": [HumanMessage(content=\"What is the product of 3 and 4?\", name=\"Arnab\")]})\n",
    "for m in messages[\"messages\"]:\n",
    "    m.pretty_print()"
   ]
  }
 ],
 "metadata": {
  "kernelspec": {
   "display_name": "agentic-ai-5d-ElTE_-py3.12",
   "language": "python",
   "name": "python3"
  },
  "language_info": {
   "codemirror_mode": {
    "name": "ipython",
    "version": 3
   },
   "file_extension": ".py",
   "mimetype": "text/x-python",
   "name": "python",
   "nbconvert_exporter": "python",
   "pygments_lexer": "ipython3",
   "version": "3.12.2"
  }
 },
 "nbformat": 4,
 "nbformat_minor": 5
}
