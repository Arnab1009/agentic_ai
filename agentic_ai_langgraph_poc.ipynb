{
  "nbformat": 4,
  "nbformat_minor": 0,
  "metadata": {
    "colab": {
      "provenance": []
    },
    "kernelspec": {
      "name": "python3",
      "display_name": "Python 3"
    },
    "language_info": {
      "name": "python"
    }
  },
  "cells": [
    {
      "cell_type": "markdown",
      "source": [
        "## Install apackages"
      ],
      "metadata": {
        "id": "cgN69eFwpuEv"
      }
    },
    {
      "cell_type": "code",
      "source": [
        "!pip install -U langchain langgraph langchain-google-vertexai google-cloud-aiplatform vertexai"
      ],
      "metadata": {
        "colab": {
          "base_uri": "https://localhost:8080/"
        },
        "id": "2uEKpmzxpTKH",
        "outputId": "1a77d3a6-6fc5-48a3-c51d-0f442397e6ea"
      },
      "execution_count": 18,
      "outputs": [
        {
          "output_type": "stream",
          "name": "stdout",
          "text": [
            "Requirement already satisfied: langchain in /usr/local/lib/python3.11/dist-packages (0.3.21)\n",
            "Requirement already satisfied: langgraph in /usr/local/lib/python3.11/dist-packages (0.3.21)\n",
            "Requirement already satisfied: langchain-google-vertexai in /usr/local/lib/python3.11/dist-packages (2.0.18)\n",
            "Requirement already satisfied: google-cloud-aiplatform in /usr/local/lib/python3.11/dist-packages (1.86.0)\n",
            "Requirement already satisfied: vertexai in /usr/local/lib/python3.11/dist-packages (1.43.0)\n",
            "Collecting vertexai\n",
            "  Using cached vertexai-1.71.1-py3-none-any.whl.metadata (10 kB)\n",
            "Requirement already satisfied: langchain-core<1.0.0,>=0.3.45 in /usr/local/lib/python3.11/dist-packages (from langchain) (0.3.49)\n",
            "Requirement already satisfied: langchain-text-splitters<1.0.0,>=0.3.7 in /usr/local/lib/python3.11/dist-packages (from langchain) (0.3.7)\n",
            "Requirement already satisfied: langsmith<0.4,>=0.1.17 in /usr/local/lib/python3.11/dist-packages (from langchain) (0.3.18)\n",
            "Requirement already satisfied: pydantic<3.0.0,>=2.7.4 in /usr/local/lib/python3.11/dist-packages (from langchain) (2.10.6)\n",
            "Requirement already satisfied: SQLAlchemy<3,>=1.4 in /usr/local/lib/python3.11/dist-packages (from langchain) (2.0.39)\n",
            "Requirement already satisfied: requests<3,>=2 in /usr/local/lib/python3.11/dist-packages (from langchain) (2.32.3)\n",
            "Requirement already satisfied: PyYAML>=5.3 in /usr/local/lib/python3.11/dist-packages (from langchain) (6.0.2)\n",
            "Requirement already satisfied: langgraph-checkpoint<3.0.0,>=2.0.10 in /usr/local/lib/python3.11/dist-packages (from langgraph) (2.0.23)\n",
            "Requirement already satisfied: langgraph-prebuilt<0.2,>=0.1.1 in /usr/local/lib/python3.11/dist-packages (from langgraph) (0.1.7)\n",
            "Requirement already satisfied: langgraph-sdk<0.2.0,>=0.1.42 in /usr/local/lib/python3.11/dist-packages (from langgraph) (0.1.59)\n",
            "Requirement already satisfied: xxhash<4.0.0,>=3.5.0 in /usr/local/lib/python3.11/dist-packages (from langgraph) (3.5.0)\n",
            "Requirement already satisfied: google-cloud-storage<3.0.0,>=2.18.0 in /usr/local/lib/python3.11/dist-packages (from langchain-google-vertexai) (2.19.0)\n",
            "Requirement already satisfied: httpx<0.29.0,>=0.28.0 in /usr/local/lib/python3.11/dist-packages (from langchain-google-vertexai) (0.28.1)\n",
            "Requirement already satisfied: httpx-sse<0.5.0,>=0.4.0 in /usr/local/lib/python3.11/dist-packages (from langchain-google-vertexai) (0.4.0)\n",
            "Requirement already satisfied: validators<0.35.0,>=0.34.0 in /usr/local/lib/python3.11/dist-packages (from langchain-google-vertexai) (0.34.0)\n",
            "Requirement already satisfied: google-api-core!=2.0.*,!=2.1.*,!=2.2.*,!=2.3.*,!=2.4.*,!=2.5.*,!=2.6.*,!=2.7.*,<3.0.0,>=1.34.1 in /usr/local/lib/python3.11/dist-packages (from google-api-core[grpc]!=2.0.*,!=2.1.*,!=2.2.*,!=2.3.*,!=2.4.*,!=2.5.*,!=2.6.*,!=2.7.*,<3.0.0,>=1.34.1->google-cloud-aiplatform) (2.24.2)\n",
            "Requirement already satisfied: google-auth<3.0.0,>=2.14.1 in /usr/local/lib/python3.11/dist-packages (from google-cloud-aiplatform) (2.38.0)\n",
            "Requirement already satisfied: proto-plus<2.0.0,>=1.22.3 in /usr/local/lib/python3.11/dist-packages (from google-cloud-aiplatform) (1.26.1)\n",
            "Requirement already satisfied: protobuf!=4.21.0,!=4.21.1,!=4.21.2,!=4.21.3,!=4.21.4,!=4.21.5,<6.0.0,>=3.20.2 in /usr/local/lib/python3.11/dist-packages (from google-cloud-aiplatform) (5.29.4)\n",
            "Requirement already satisfied: packaging>=14.3 in /usr/local/lib/python3.11/dist-packages (from google-cloud-aiplatform) (24.2)\n",
            "Requirement already satisfied: google-cloud-bigquery!=3.20.0,<4.0.0,>=1.15.0 in /usr/local/lib/python3.11/dist-packages (from google-cloud-aiplatform) (3.29.0)\n",
            "Requirement already satisfied: google-cloud-resource-manager<3.0.0,>=1.3.3 in /usr/local/lib/python3.11/dist-packages (from google-cloud-aiplatform) (1.14.2)\n",
            "Requirement already satisfied: shapely<3.0.0 in /usr/local/lib/python3.11/dist-packages (from google-cloud-aiplatform) (2.0.7)\n",
            "Requirement already satisfied: typing-extensions in /usr/local/lib/python3.11/dist-packages (from google-cloud-aiplatform) (4.12.2)\n",
            "Requirement already satisfied: docstring-parser<1 in /usr/local/lib/python3.11/dist-packages (from google-cloud-aiplatform) (0.16)\n",
            "INFO: pip is looking at multiple versions of vertexai to determine which version is compatible with other requirements. This could take a while.\n",
            "  Using cached vertexai-1.71.0-py3-none-any.whl.metadata (10 kB)\n",
            "  Using cached vertexai-1.70.0-py3-none-any.whl.metadata (10 kB)\n",
            "  Using cached vertexai-1.69.0-py3-none-any.whl.metadata (10 kB)\n",
            "  Using cached vertexai-1.68.0-py3-none-any.whl.metadata (10 kB)\n",
            "  Using cached vertexai-1.67.1-py3-none-any.whl.metadata (10 kB)\n",
            "  Using cached vertexai-1.67.0-py3-none-any.whl.metadata (10 kB)\n",
            "  Using cached vertexai-1.66.0-py3-none-any.whl.metadata (10 kB)\n",
            "INFO: pip is still looking at multiple versions of vertexai to determine which version is compatible with other requirements. This could take a while.\n",
            "  Using cached vertexai-1.65.0-py3-none-any.whl.metadata (10 kB)\n",
            "  Using cached vertexai-1.64.0-py3-none-any.whl.metadata (10 kB)\n",
            "  Using cached vertexai-1.63.0-py3-none-any.whl.metadata (10 kB)\n",
            "  Using cached vertexai-1.60.0-py3-none-any.whl.metadata (10 kB)\n",
            "  Using cached vertexai-1.49.0-py3-none-any.whl.metadata (10 kB)\n",
            "INFO: This is taking longer than usual. You might need to provide the dependency resolver with stricter constraints to reduce runtime. See https://pip.pypa.io/warnings/backtracking for guidance. If you want to abort this run, press Ctrl + C.\n",
            "  Using cached vertexai-1.48.0-py3-none-any.whl.metadata (10 kB)\n",
            "  Using cached vertexai-1.47.0-py3-none-any.whl.metadata (7.7 kB)\n",
            "  Using cached vertexai-1.46.0-py3-none-any.whl.metadata (7.7 kB)\n",
            "Requirement already satisfied: googleapis-common-protos<2.0.0,>=1.56.2 in /usr/local/lib/python3.11/dist-packages (from google-api-core!=2.0.*,!=2.1.*,!=2.2.*,!=2.3.*,!=2.4.*,!=2.5.*,!=2.6.*,!=2.7.*,<3.0.0,>=1.34.1->google-api-core[grpc]!=2.0.*,!=2.1.*,!=2.2.*,!=2.3.*,!=2.4.*,!=2.5.*,!=2.6.*,!=2.7.*,<3.0.0,>=1.34.1->google-cloud-aiplatform) (1.69.2)\n",
            "Requirement already satisfied: grpcio<2.0dev,>=1.33.2 in /usr/local/lib/python3.11/dist-packages (from google-api-core[grpc]!=2.0.*,!=2.1.*,!=2.2.*,!=2.3.*,!=2.4.*,!=2.5.*,!=2.6.*,!=2.7.*,<3.0.0,>=1.34.1->google-cloud-aiplatform) (1.71.0)\n",
            "Requirement already satisfied: grpcio-status<2.0.dev0,>=1.33.2 in /usr/local/lib/python3.11/dist-packages (from google-api-core[grpc]!=2.0.*,!=2.1.*,!=2.2.*,!=2.3.*,!=2.4.*,!=2.5.*,!=2.6.*,!=2.7.*,<3.0.0,>=1.34.1->google-cloud-aiplatform) (1.71.0)\n",
            "Requirement already satisfied: cachetools<6.0,>=2.0.0 in /usr/local/lib/python3.11/dist-packages (from google-auth<3.0.0,>=2.14.1->google-cloud-aiplatform) (5.5.2)\n",
            "Requirement already satisfied: pyasn1-modules>=0.2.1 in /usr/local/lib/python3.11/dist-packages (from google-auth<3.0.0,>=2.14.1->google-cloud-aiplatform) (0.4.1)\n",
            "Requirement already satisfied: rsa<5,>=3.1.4 in /usr/local/lib/python3.11/dist-packages (from google-auth<3.0.0,>=2.14.1->google-cloud-aiplatform) (4.9)\n",
            "Requirement already satisfied: google-cloud-core<3.0.0dev,>=2.4.1 in /usr/local/lib/python3.11/dist-packages (from google-cloud-bigquery!=3.20.0,<4.0.0,>=1.15.0->google-cloud-aiplatform) (2.4.3)\n",
            "Requirement already satisfied: google-resumable-media<3.0dev,>=2.0.0 in /usr/local/lib/python3.11/dist-packages (from google-cloud-bigquery!=3.20.0,<4.0.0,>=1.15.0->google-cloud-aiplatform) (2.7.2)\n",
            "Requirement already satisfied: python-dateutil<3.0dev,>=2.7.3 in /usr/local/lib/python3.11/dist-packages (from google-cloud-bigquery!=3.20.0,<4.0.0,>=1.15.0->google-cloud-aiplatform) (2.8.2)\n",
            "Requirement already satisfied: grpc-google-iam-v1<1.0.0,>=0.14.0 in /usr/local/lib/python3.11/dist-packages (from google-cloud-resource-manager<3.0.0,>=1.3.3->google-cloud-aiplatform) (0.14.2)\n",
            "Requirement already satisfied: google-crc32c<2.0dev,>=1.0 in /usr/local/lib/python3.11/dist-packages (from google-cloud-storage<3.0.0,>=2.18.0->langchain-google-vertexai) (1.7.0)\n",
            "Requirement already satisfied: anyio in /usr/local/lib/python3.11/dist-packages (from httpx<0.29.0,>=0.28.0->langchain-google-vertexai) (4.9.0)\n",
            "Requirement already satisfied: certifi in /usr/local/lib/python3.11/dist-packages (from httpx<0.29.0,>=0.28.0->langchain-google-vertexai) (2025.1.31)\n",
            "Requirement already satisfied: httpcore==1.* in /usr/local/lib/python3.11/dist-packages (from httpx<0.29.0,>=0.28.0->langchain-google-vertexai) (1.0.7)\n",
            "Requirement already satisfied: idna in /usr/local/lib/python3.11/dist-packages (from httpx<0.29.0,>=0.28.0->langchain-google-vertexai) (3.10)\n",
            "Requirement already satisfied: h11<0.15,>=0.13 in /usr/local/lib/python3.11/dist-packages (from httpcore==1.*->httpx<0.29.0,>=0.28.0->langchain-google-vertexai) (0.14.0)\n",
            "Requirement already satisfied: tenacity!=8.4.0,<10.0.0,>=8.1.0 in /usr/local/lib/python3.11/dist-packages (from langchain-core<1.0.0,>=0.3.45->langchain) (9.0.0)\n",
            "Requirement already satisfied: jsonpatch<2.0,>=1.33 in /usr/local/lib/python3.11/dist-packages (from langchain-core<1.0.0,>=0.3.45->langchain) (1.33)\n",
            "Requirement already satisfied: ormsgpack<2.0.0,>=1.8.0 in /usr/local/lib/python3.11/dist-packages (from langgraph-checkpoint<3.0.0,>=2.0.10->langgraph) (1.9.0)\n",
            "Requirement already satisfied: orjson>=3.10.1 in /usr/local/lib/python3.11/dist-packages (from langgraph-sdk<0.2.0,>=0.1.42->langgraph) (3.10.15)\n",
            "Requirement already satisfied: requests-toolbelt<2.0.0,>=1.0.0 in /usr/local/lib/python3.11/dist-packages (from langsmith<0.4,>=0.1.17->langchain) (1.0.0)\n",
            "Requirement already satisfied: zstandard<0.24.0,>=0.23.0 in /usr/local/lib/python3.11/dist-packages (from langsmith<0.4,>=0.1.17->langchain) (0.23.0)\n",
            "Requirement already satisfied: annotated-types>=0.6.0 in /usr/local/lib/python3.11/dist-packages (from pydantic<3.0.0,>=2.7.4->langchain) (0.7.0)\n",
            "Requirement already satisfied: pydantic-core==2.27.2 in /usr/local/lib/python3.11/dist-packages (from pydantic<3.0.0,>=2.7.4->langchain) (2.27.2)\n",
            "Requirement already satisfied: charset-normalizer<4,>=2 in /usr/local/lib/python3.11/dist-packages (from requests<3,>=2->langchain) (3.4.1)\n",
            "Requirement already satisfied: urllib3<3,>=1.21.1 in /usr/local/lib/python3.11/dist-packages (from requests<3,>=2->langchain) (2.3.0)\n",
            "Requirement already satisfied: numpy<3,>=1.14 in /usr/local/lib/python3.11/dist-packages (from shapely<3.0.0->google-cloud-aiplatform) (2.0.2)\n",
            "Requirement already satisfied: greenlet!=0.4.17 in /usr/local/lib/python3.11/dist-packages (from SQLAlchemy<3,>=1.4->langchain) (3.1.1)\n",
            "Requirement already satisfied: jsonpointer>=1.9 in /usr/local/lib/python3.11/dist-packages (from jsonpatch<2.0,>=1.33->langchain-core<1.0.0,>=0.3.45->langchain) (3.0.0)\n",
            "Requirement already satisfied: pyasn1<0.7.0,>=0.4.6 in /usr/local/lib/python3.11/dist-packages (from pyasn1-modules>=0.2.1->google-auth<3.0.0,>=2.14.1->google-cloud-aiplatform) (0.6.1)\n",
            "Requirement already satisfied: six>=1.5 in /usr/local/lib/python3.11/dist-packages (from python-dateutil<3.0dev,>=2.7.3->google-cloud-bigquery!=3.20.0,<4.0.0,>=1.15.0->google-cloud-aiplatform) (1.17.0)\n",
            "Requirement already satisfied: sniffio>=1.1 in /usr/local/lib/python3.11/dist-packages (from anyio->httpx<0.29.0,>=0.28.0->langchain-google-vertexai) (1.3.1)\n"
          ]
        }
      ]
    },
    {
      "cell_type": "markdown",
      "source": [
        "## Import libraries"
      ],
      "metadata": {
        "id": "pUkDkKkDp0FG"
      }
    },
    {
      "cell_type": "code",
      "source": [
        "from google.colab import auth\n",
        "import google.cloud.aiplatform as aiplatform\n",
        "import vertexai\n",
        "\n",
        "from langchain_google_vertexai import VertexAI\n",
        "from langgraph.graph import StateGraph\n",
        "from typing import TypedDict"
      ],
      "metadata": {
        "id": "Q3k_JnhOp56j"
      },
      "execution_count": 19,
      "outputs": []
    },
    {
      "cell_type": "markdown",
      "source": [
        "## Authenticate and setup project details"
      ],
      "metadata": {
        "id": "brwAZKK7qAKA"
      }
    },
    {
      "cell_type": "code",
      "source": [
        "# Authenticate user\n",
        "auth.authenticate_user()\n",
        "\n",
        "# Setup project details\n",
        "PROJECT_ID = '' # Enter Project details\n",
        "REGION = 'us-central1'\n",
        "\n",
        "aiplatform.init(project=PROJECT_ID, location=REGION)\n",
        "\n",
        "# Initialize LLM\n",
        "llm = VertexAI(model_name=\"gemini-pro\")"
      ],
      "metadata": {
        "id": "yLRxDF2UqE_I"
      },
      "execution_count": 20,
      "outputs": []
    },
    {
      "cell_type": "markdown",
      "source": [
        "## Define Agent State"
      ],
      "metadata": {
        "id": "CjFZleJxqTHi"
      }
    },
    {
      "cell_type": "code",
      "source": [
        "class AgentState(TypedDict):\n",
        "    input: str\n",
        "    output: str"
      ],
      "metadata": {
        "id": "6Yn0gWLNqSwo"
      },
      "execution_count": 21,
      "outputs": []
    },
    {
      "cell_type": "markdown",
      "source": [
        "## Define Router function"
      ],
      "metadata": {
        "id": "MUnScI3itq4z"
      }
    },
    {
      "cell_type": "code",
      "source": [
        "# Router function returns the next node as a string\n",
        "def router(state: AgentState) -> str:\n",
        "    user_input = state[\"input\"].lower()\n",
        "\n",
        "    if \"translate\" in user_input:\n",
        "        return \"TranslatorAgent\"\n",
        "    elif \"solve\" in user_input or any(char.isdigit() for char in user_input):\n",
        "        return \"MathSolverAgent\"\n",
        "    else:\n",
        "        return \"SummarizerAgent\""
      ],
      "metadata": {
        "id": "ZqJa96gPtteq"
      },
      "execution_count": 22,
      "outputs": []
    },
    {
      "cell_type": "markdown",
      "source": [
        "## Define Agent Functions"
      ],
      "metadata": {
        "id": "WMfq5xbSqZeU"
      }
    },
    {
      "cell_type": "code",
      "source": [
        "# Summarizer agent function\n",
        "def summarizer_agent(state: AgentState) -> AgentState:\n",
        "    user_input = state[\"input\"]\n",
        "    prompt = f\"You are an expert summarizer. Summarize this:\\n\\n{user_input}\\n\\nSummary:\"\n",
        "    output = llm.invoke(prompt)\n",
        "    print(\"[SummarizerAgent] Output:\", output)\n",
        "    return {\"input\": user_input, \"output\": output}"
      ],
      "metadata": {
        "id": "lB8ywcBEqbNg"
      },
      "execution_count": 23,
      "outputs": []
    },
    {
      "cell_type": "code",
      "source": [
        "# Translator agent function\n",
        "def translator_agent(state: AgentState) -> AgentState:\n",
        "    user_input = state[\"input\"]\n",
        "    prompt = f\"You are a professional translator. Translate this to French:\\n\\n{user_input}\\n\\nFrench Translation:\"\n",
        "    output = llm.invoke(prompt)\n",
        "    print(\"[TranslatorAgent] Output:\", output)\n",
        "    return {\"input\": user_input, \"output\": output}"
      ],
      "metadata": {
        "id": "PyDw0ETGqeaO"
      },
      "execution_count": 24,
      "outputs": []
    },
    {
      "cell_type": "code",
      "source": [
        "# Math agent function\n",
        "def math_solver_agent(state: AgentState) -> AgentState:\n",
        "    user_input = state[\"input\"]\n",
        "    prompt = f\"You are a math expert. Solve this problem and return only the numeric answer:\\n\\n{user_input}\\n\\nAnswer:\"\n",
        "    output = llm.invoke(prompt)\n",
        "    print(\"[MathSolverAgent] Output:\", output)\n",
        "    return {\"input\": user_input, \"output\": output}"
      ],
      "metadata": {
        "id": "lIcAdN-qqioP"
      },
      "execution_count": 25,
      "outputs": []
    },
    {
      "cell_type": "markdown",
      "source": [
        "## Develop the Graph"
      ],
      "metadata": {
        "id": "9kM2kea4qoYv"
      }
    },
    {
      "cell_type": "code",
      "source": [
        "# Create graph\n",
        "graph = StateGraph(AgentState)"
      ],
      "metadata": {
        "id": "xjZ2ivEhuEuL"
      },
      "execution_count": 26,
      "outputs": []
    },
    {
      "cell_type": "code",
      "source": [
        "# Pass state from Router (entry point)\n",
        "graph.add_node(\"Router\", lambda state: state)"
      ],
      "metadata": {
        "colab": {
          "base_uri": "https://localhost:8080/"
        },
        "id": "C4CmSWfauHlP",
        "outputId": "c0c10a98-a08b-424c-fd7e-6e190b37c03d"
      },
      "execution_count": 27,
      "outputs": [
        {
          "output_type": "execute_result",
          "data": {
            "text/plain": [
              "<langgraph.graph.state.StateGraph at 0x7d4451219450>"
            ]
          },
          "metadata": {},
          "execution_count": 27
        }
      ]
    },
    {
      "cell_type": "code",
      "source": [
        "# Add agents\n",
        "graph.add_node(\"SummarizerAgent\", summarizer_agent)\n",
        "graph.add_node(\"TranslatorAgent\", translator_agent)\n",
        "graph.add_node(\"MathSolverAgent\", math_solver_agent)"
      ],
      "metadata": {
        "colab": {
          "base_uri": "https://localhost:8080/"
        },
        "id": "Or9ICCuluLPp",
        "outputId": "b26d4ec8-2a96-49fa-bcec-70afb5185cbf"
      },
      "execution_count": 28,
      "outputs": [
        {
          "output_type": "execute_result",
          "data": {
            "text/plain": [
              "<langgraph.graph.state.StateGraph at 0x7d4451219450>"
            ]
          },
          "metadata": {},
          "execution_count": 28
        }
      ]
    },
    {
      "cell_type": "code",
      "source": [
        "# Conditional edges from Router to agents based on router decision\n",
        "graph.add_conditional_edges(\"Router\", router)"
      ],
      "metadata": {
        "colab": {
          "base_uri": "https://localhost:8080/"
        },
        "id": "fMEhTl8VuOp4",
        "outputId": "e18a7a66-bfdb-43ff-d2fe-3d9a77a55dd8"
      },
      "execution_count": 29,
      "outputs": [
        {
          "output_type": "execute_result",
          "data": {
            "text/plain": [
              "<langgraph.graph.state.StateGraph at 0x7d4451219450>"
            ]
          },
          "metadata": {},
          "execution_count": 29
        }
      ]
    },
    {
      "cell_type": "code",
      "source": [
        "# After agents finish, end\n",
        "graph.add_edge(\"SummarizerAgent\", \"__end__\")\n",
        "graph.add_edge(\"TranslatorAgent\", \"__end__\")\n",
        "graph.add_edge(\"MathSolverAgent\", \"__end__\")\n",
        "\n",
        "graph.set_entry_point(\"Router\")"
      ],
      "metadata": {
        "colab": {
          "base_uri": "https://localhost:8080/"
        },
        "id": "pyi9DZsAqq91",
        "outputId": "125df36d-e24d-4323-c4ab-c134bdb516c8"
      },
      "execution_count": 30,
      "outputs": [
        {
          "output_type": "execute_result",
          "data": {
            "text/plain": [
              "<langgraph.graph.state.StateGraph at 0x7d4451219450>"
            ]
          },
          "metadata": {},
          "execution_count": 30
        }
      ]
    },
    {
      "cell_type": "code",
      "source": [
        "# Compile Graph\n",
        "app = graph.compile()"
      ],
      "metadata": {
        "id": "pqVndMCIq0I0"
      },
      "execution_count": 31,
      "outputs": []
    },
    {
      "cell_type": "markdown",
      "source": [
        "## Invoke Agents"
      ],
      "metadata": {
        "id": "kQum-o0-q7tg"
      }
    },
    {
      "cell_type": "code",
      "source": [
        "# Summarizer\n",
        "response_summary = app.invoke({\"input\": \"Artificial Intelligence is a field of computer science that focuses on creating intelligent machines.\"})\n",
        "print(\"\\n=== Summarizer Agent Response ===\\n\", response_summary[\"output\"])"
      ],
      "metadata": {
        "colab": {
          "base_uri": "https://localhost:8080/"
        },
        "id": "U9ZP2PLPq9Lg",
        "outputId": "61b16d6c-33af-4781-dfa5-16f53ca08aca"
      },
      "execution_count": 32,
      "outputs": [
        {
          "output_type": "stream",
          "name": "stdout",
          "text": [
            "[SummarizerAgent] Output: ## Artificial Intelligence: A Summary\n",
            "\n",
            "Artificial intelligence (AI) is a branch of computer science dedicated to simulating human intelligence in machines. This involves creating algorithms and systems that can reason, learn, solve problems, and understand language. \n",
            "\n",
            "The goal of AI is to develop machines that can perform tasks that typically require human intelligence, such as:\n",
            "\n",
            "* **Problem-solving:** AI can be used to solve complex problems by analyzing data and identifying patterns. \n",
            "* **Decision-making:** AI can make decisions based on a set of rules or by learning from past experiences. \n",
            "* **Natural language processing:** AI can understand and generate human language, allowing for natural interaction between humans and machines. \n",
            "* **Machine learning:** AI can learn from data without explicitly being programmed, enabling it to adapt to new situations and improve its performance over time. \n",
            "\n",
            "AI has numerous applications in various fields, including healthcare, finance, transportation, and manufacturing.  \n",
            "\n",
            "Here are some specific examples:\n",
            "\n",
            "* In healthcare, AI is used to diagnose diseases, analyze medical images, and personalize treatment plans. \n",
            "* In finance, AI is used to detect fraud, predict market trends, and manage risk. \n",
            "* In transportation, AI is used to develop self-driving cars and optimize traffic flow. \n",
            "* In manufacturing, AI is used to automate tasks, improve quality control, and optimize production processes. \n",
            "\n",
            "\n",
            "=== Summarizer Agent Response ===\n",
            " ## Artificial Intelligence: A Summary\n",
            "\n",
            "Artificial intelligence (AI) is a branch of computer science dedicated to simulating human intelligence in machines. This involves creating algorithms and systems that can reason, learn, solve problems, and understand language. \n",
            "\n",
            "The goal of AI is to develop machines that can perform tasks that typically require human intelligence, such as:\n",
            "\n",
            "* **Problem-solving:** AI can be used to solve complex problems by analyzing data and identifying patterns. \n",
            "* **Decision-making:** AI can make decisions based on a set of rules or by learning from past experiences. \n",
            "* **Natural language processing:** AI can understand and generate human language, allowing for natural interaction between humans and machines. \n",
            "* **Machine learning:** AI can learn from data without explicitly being programmed, enabling it to adapt to new situations and improve its performance over time. \n",
            "\n",
            "AI has numerous applications in various fields, including healthcare, finance, transportation, and manufacturing.  \n",
            "\n",
            "Here are some specific examples:\n",
            "\n",
            "* In healthcare, AI is used to diagnose diseases, analyze medical images, and personalize treatment plans. \n",
            "* In finance, AI is used to detect fraud, predict market trends, and manage risk. \n",
            "* In transportation, AI is used to develop self-driving cars and optimize traffic flow. \n",
            "* In manufacturing, AI is used to automate tasks, improve quality control, and optimize production processes. \n",
            "\n"
          ]
        }
      ]
    },
    {
      "cell_type": "code",
      "source": [
        "# Translator\n",
        "response_translation = app.invoke({\"input\": \"Translate this sentence: Hello, how are you?\"})\n",
        "print(\"\\n=== Translator Agent Response ===\\n\", response_translation[\"output\"])"
      ],
      "metadata": {
        "colab": {
          "base_uri": "https://localhost:8080/"
        },
        "id": "O7zBDg59rE2G",
        "outputId": "4fd9a6ab-7101-4e99-ddbe-1e86770b4efe"
      },
      "execution_count": 33,
      "outputs": [
        {
          "output_type": "stream",
          "name": "stdout",
          "text": [
            "[TranslatorAgent] Output: Bonjour, comment allez-vous? \n",
            "\n",
            "\n",
            "=== Translator Agent Response ===\n",
            " Bonjour, comment allez-vous? \n",
            "\n"
          ]
        }
      ]
    },
    {
      "cell_type": "code",
      "source": [
        "# Math Solver\n",
        "response_math = app.invoke({\"input\": \"What is 1234 multiplied by 5678?\"})\n",
        "print(\"\\n=== Math Solver Agent Response ===\\n\", response_math[\"output\"])"
      ],
      "metadata": {
        "colab": {
          "base_uri": "https://localhost:8080/"
        },
        "id": "XWEtvj0BrGei",
        "outputId": "d130e50d-b2af-415b-c5f6-40ce4815f27b"
      },
      "execution_count": 34,
      "outputs": [
        {
          "output_type": "stream",
          "name": "stdout",
          "text": [
            "[MathSolverAgent] Output: 7,043,732\n",
            "\n",
            "=== Math Solver Agent Response ===\n",
            " 7,043,732\n"
          ]
        }
      ]
    }
  ]
}