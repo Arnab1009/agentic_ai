{
 "cells": [
  {
   "cell_type": "markdown",
   "id": "2eba0111",
   "metadata": {},
   "source": [
    "# Condition based breakpoints"
   ]
  },
  {
   "cell_type": "markdown",
   "id": "157a392e",
   "metadata": {},
   "source": [
    "## Build simple agent"
   ]
  },
  {
   "cell_type": "code",
   "execution_count": 17,
   "id": "c2c4e58e",
   "metadata": {},
   "outputs": [],
   "source": [
    "# Import libraries\n",
    "from langgraph.graph import StateGraph, START, END\n",
    "from langgraph.errors import NodeInterrupt\n",
    "from langgraph.checkpoint.memory import MemorySaver\n",
    "from IPython.display import display, Image\n",
    "from typing_extensions import TypedDict\n"
   ]
  },
  {
   "cell_type": "code",
   "execution_count": 18,
   "id": "27ef31cc",
   "metadata": {},
   "outputs": [
    {
     "data": {
      "image/png": "[encoded data removed]",
      "text/plain": [
       "<IPython.core.display.Image object>"
      ]
     },
     "metadata": {},
     "output_type": "display_data"
    }
   ],
   "source": [
    "# Build agent\n",
    "\n",
    "# Define state\n",
    "class State(TypedDict):\n",
    "    key: str\n",
    "    val: str\n",
    "\n",
    "# Define nodes\n",
    "def node_1(state: State) -> State:\n",
    "    print(\"-- Node 1 --\")\n",
    "    state[\"val\"] = \"Working\"\n",
    "    return state\n",
    "\n",
    "def node_2(state: State) -> State:\n",
    "    if len(state['key']) > 5:\n",
    "        raise NodeInterrupt(f\"received input that is longer than 5 characters: {state[\"key\"]}\")\n",
    "    print(\"-- Node 2 --\")\n",
    "    return state\n",
    "\n",
    "def node_3(state: State) -> State:\n",
    "    print(\"-- Node 3 --\")\n",
    "    return state\n",
    "\n",
    "# Build graph\n",
    "memory = MemorySaver()\n",
    "graphBuilder = StateGraph(State)\n",
    "graphBuilder.add_node(\"node_1\", node_1)\n",
    "graphBuilder.add_node(\"node_2\", node_2)\n",
    "graphBuilder.add_node(\"node_3\", node_3)\n",
    "graphBuilder.add_edge(START, \"node_1\")\n",
    "graphBuilder.add_edge(\"node_1\", \"node_2\")\n",
    "graphBuilder.add_edge(\"node_2\", \"node_3\")\n",
    "graphBuilder.add_edge(\"node_3\", END)\n",
    "\n",
    "graph = graphBuilder.compile(checkpointer=memory)\n",
    "display(Image(graph.get_graph().draw_mermaid_png()))"
   ]
  },
  {
   "cell_type": "markdown",
   "id": "f2d5922f",
   "metadata": {},
   "source": [
    "## Test the Interrupt"
   ]
  },
  {
   "cell_type": "code",
   "execution_count": 24,
   "id": "8570a3cf",
   "metadata": {},
   "outputs": [
    {
     "name": "stdout",
     "output_type": "stream",
     "text": [
      "{'key': 'Hello world!', 'val': 'init'}\n",
      "******************************\n",
      "-- Node 1 --\n",
      "{'key': 'Hello world!', 'val': 'Working'}\n",
      "******************************\n",
      "{'__interrupt__': (Interrupt(value='received input that is longer than 5 characters: Hello world!', resumable=False, ns=None),)}\n",
      "******************************\n"
     ]
    }
   ],
   "source": [
    "# Trigger test\n",
    "config = {\"configurable\": {\"thread_id\": 1}}\n",
    "initial_input = {\"key\": \"Hello world!\", \"val\": \"init\"}\n",
    "\n",
    "for event in graph.stream(initial_input, config, stream_mode=\"values\"):\n",
    "    print(event)\n",
    "    print(\"*\" * 30)"
   ]
  },
  {
   "cell_type": "code",
   "execution_count": 25,
   "id": "1f0e37b0",
   "metadata": {},
   "outputs": [
    {
     "name": "stdout",
     "output_type": "stream",
     "text": [
      "Next node: ('node_2',)\n",
      "Interrupt trace: (PregelTask(id='3a5b9bb7-1ec1-3e30-e8e3-3e2620f302ea', name='node_2', path=('__pregel_pull', 'node_2'), error=None, interrupts=(Interrupt(value='received input that is longer than 5 characters: Hello world!', resumable=False, ns=None),), state=None, result=None),)\n"
     ]
    }
   ],
   "source": [
    "# Get state and display next node\n",
    "current_state = graph.get_state(config)\n",
    "print(f\"Next node: {current_state.next}\")\n",
    "print(f\"Interrupt trace: {current_state.tasks}\")"
   ]
  },
  {
   "cell_type": "code",
   "execution_count": 26,
   "id": "9bff4555",
   "metadata": {},
   "outputs": [
    {
     "name": "stdout",
     "output_type": "stream",
     "text": [
      "{'key': 'Hello world!', 'val': 'Working'}\n",
      "******************************\n",
      "{'__interrupt__': (Interrupt(value='received input that is longer than 5 characters: Hello world!', resumable=False, ns=None),)}\n",
      "******************************\n"
     ]
    }
   ],
   "source": [
    "# Attempt to move on from the interrupt\n",
    "for event in graph.stream(None, config, stream_mode=\"values\"):\n",
    "    print(event)\n",
    "    print(\"*\" * 30)"
   ]
  },
  {
   "cell_type": "code",
   "execution_count": 27,
   "id": "5f1c6aa9",
   "metadata": {},
   "outputs": [
    {
     "data": {
      "text/plain": [
       "{'configurable': {'thread_id': '1',\n",
       "  'checkpoint_ns': '',\n",
       "  'checkpoint_id': '1f03b4c9-344e-68a2-8008-031d059c9a10'}}"
      ]
     },
     "execution_count": 27,
     "metadata": {},
     "output_type": "execute_result"
    }
   ],
   "source": [
    "# Update state to remove error\n",
    "graph.update_state(config, {\"key\": \"Hi!\"})"
   ]
  },
  {
   "cell_type": "code",
   "execution_count": 28,
   "id": "89097c6b",
   "metadata": {},
   "outputs": [
    {
     "name": "stdout",
     "output_type": "stream",
     "text": [
      "{'key': 'Hi!', 'val': 'Working'}\n",
      "******************************\n",
      "-- Node 2 --\n",
      "{'key': 'Hi!', 'val': 'Working'}\n",
      "******************************\n",
      "-- Node 3 --\n",
      "{'key': 'Hi!', 'val': 'Working'}\n",
      "******************************\n"
     ]
    }
   ],
   "source": [
    "# Attempt to move on from the interrupt\n",
    "for event in graph.stream(None, config, stream_mode=\"values\"):\n",
    "    print(event)\n",
    "    print(\"*\" * 30)"
   ]
  }
 ],
 "metadata": {
  "kernelspec": {
   "display_name": "agentic-ai-5d-ElTE_-py3.12",
   "language": "python",
   "name": "python3"
  },
  "language_info": {
   "codemirror_mode": {
    "name": "ipython",
    "version": 3
   },
   "file_extension": ".py",
   "mimetype": "text/x-python",
   "name": "python",
   "nbconvert_exporter": "python",
   "pygments_lexer": "ipython3",
   "version": "3.12.2"
  }
 },
 "nbformat": 4,
 "nbformat_minor": 5
}
