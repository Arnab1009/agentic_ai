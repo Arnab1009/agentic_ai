{
 "cells": [
  {
   "cell_type": "markdown",
   "id": "1abe1a13",
   "metadata": {},
   "source": [
    "# Breakpoints - Approval mechanism"
   ]
  },
  {
   "cell_type": "markdown",
   "id": "d697c255",
   "metadata": {},
   "source": [
    "## Define ReAct Agent"
   ]
  },
  {
   "cell_type": "code",
   "execution_count": 1,
   "id": "d401f75b",
   "metadata": {},
   "outputs": [],
   "source": [
    "from langgraph.graph import StateGraph, START, END, MessagesState\n",
    "from langgraph.prebuilt import tools_condition, ToolNode\n",
    "from langgraph.checkpoint.memory import MemorySaver\n",
    "from langchain_openai import ChatOpenAI\n",
    "from langchain_core.messages import SystemMessage, HumanMessage\n",
    "from langgraph.checkpoint.memory import MemorySaver\n",
    "from IPython.display import Image, display"
   ]
  },
  {
   "cell_type": "code",
   "execution_count": 2,
   "id": "12f10296",
   "metadata": {},
   "outputs": [
    {
     "data": {
      "image/png": "[encoded data removed]",
      "text/plain": [
       "<IPython.core.display.Image object>"
      ]
     },
     "metadata": {},
     "output_type": "display_data"
    }
   ],
   "source": [
    "# Build agent\n",
    "\n",
    "# Tool definitions\n",
    "\n",
    "def multiply(a: int, b: int) -> int:\n",
    "    \"\"\"\n",
    "        Function to multiply 2 given numbers\n",
    "        The return value is an integer which is the product of a and b\n",
    "    \"\"\"\n",
    "    return a * b\n",
    "\n",
    "def add(a: int, b: int) -> int:\n",
    "    \"\"\"\n",
    "        Function to add 2 given numbers\n",
    "        The return value is an integer which is the sum of a and b\n",
    "    \"\"\"\n",
    "    return a + b\n",
    "\n",
    "def subtract(a: int, b: int) -> int:\n",
    "    \"\"\"\n",
    "        Function to subtract 2 given numbers\n",
    "        The return value is an integer which is the difference of a and b\n",
    "    \"\"\"\n",
    "    return a - b\n",
    "\n",
    "def divide(a: int, b: int) -> int:\n",
    "    \"\"\"\n",
    "        Function to perform division on 2 given numbers\n",
    "        The return value is an integer which is the quotient of a and b\n",
    "    \"\"\"\n",
    "    return a / b\n",
    "\n",
    "# Bind tools with Chat model\n",
    "llm = ChatOpenAI(model=\"gpt-4o\", temperature=0)\n",
    "tools = [multiply, add, subtract, divide]\n",
    "llm_with_tools = llm.bind_tools(tools, parallel_tool_calls=False)\n",
    "\n",
    "# Define LLM node\n",
    "def assistant(state: MessagesState) -> MessagesState:\n",
    "    systemMessage = [SystemMessage(content=\"You are a helpful assistant that can perform basic arithmetic operations.\")]\n",
    "    state[\"messages\"] = llm_with_tools.invoke(systemMessage + state[\"messages\"])\n",
    "    return state\n",
    "\n",
    "# Build Graph\n",
    "memory = MemorySaver()\n",
    "graphBuilder = StateGraph(MessagesState)\n",
    "graphBuilder.add_node(\"assistant\", assistant)\n",
    "graphBuilder.add_node(\"tools\", ToolNode(tools))\n",
    "\n",
    "graphBuilder.add_edge(START, \"assistant\")\n",
    "graphBuilder.add_conditional_edges(\"assistant\", tools_condition)\n",
    "graphBuilder.add_edge(\"tools\", \"assistant\")\n",
    "\n",
    "graph = graphBuilder.compile(checkpointer = memory, interrupt_before = [\"tools\"])\n",
    "display(Image(graph.get_graph().draw_mermaid_png()))"
   ]
  },
  {
   "cell_type": "markdown",
   "id": "26ae1b8e",
   "metadata": {},
   "source": [
    "## Interrupt and continue mechanism"
   ]
  },
  {
   "cell_type": "code",
   "execution_count": 3,
   "id": "b5c27bd5",
   "metadata": {},
   "outputs": [
    {
     "name": "stdout",
     "output_type": "stream",
     "text": [
      "================================\u001b[1m Human Message \u001b[0m=================================\n",
      "\n",
      "What is the product of 3 and 16?\n",
      "******************************\n",
      "================================\u001b[1m Human Message \u001b[0m=================================\n",
      "\n",
      "What is the product of 3 and 16?\n",
      "==================================\u001b[1m Ai Message \u001b[0m==================================\n",
      "Tool Calls:\n",
      "  multiply (call_YuxeLy0mDfbJiCbGLlHA23eg)\n",
      " Call ID: call_YuxeLy0mDfbJiCbGLlHA23eg\n",
      "  Args:\n",
      "    a: 3\n",
      "    b: 16\n",
      "******************************\n"
     ]
    }
   ],
   "source": [
    "# Stream graph to observe interrupt\n",
    "config = {\"configurable\": {\"thread_id\": 1}}\n",
    "input_message = [HumanMessage(content=\"What is the product of 3 and 16?\")]\n",
    "\n",
    "for event in graph.stream({\"messages\": input_message}, config, stream_mode=\"values\"):\n",
    "    for m in event[\"messages\"]:\n",
    "        m.pretty_print()\n",
    "    print(\"*\" * 30)"
   ]
  },
  {
   "cell_type": "code",
   "execution_count": 4,
   "id": "240e6934",
   "metadata": {},
   "outputs": [
    {
     "data": {
      "text/plain": [
       "('tools',)"
      ]
     },
     "execution_count": 4,
     "metadata": {},
     "output_type": "execute_result"
    }
   ],
   "source": [
    "state = graph.get_state(config)\n",
    "state.next"
   ]
  },
  {
   "cell_type": "code",
   "execution_count": 5,
   "id": "2bdbcba3",
   "metadata": {},
   "outputs": [
    {
     "name": "stdout",
     "output_type": "stream",
     "text": [
      "================================\u001b[1m Human Message \u001b[0m=================================\n",
      "\n",
      "What is the product of 3 and 16?\n",
      "==================================\u001b[1m Ai Message \u001b[0m==================================\n",
      "Tool Calls:\n",
      "  multiply (call_YuxeLy0mDfbJiCbGLlHA23eg)\n",
      " Call ID: call_YuxeLy0mDfbJiCbGLlHA23eg\n",
      "  Args:\n",
      "    a: 3\n",
      "    b: 16\n",
      "******************************\n",
      "================================\u001b[1m Human Message \u001b[0m=================================\n",
      "\n",
      "What is the product of 3 and 16?\n",
      "==================================\u001b[1m Ai Message \u001b[0m==================================\n",
      "Tool Calls:\n",
      "  multiply (call_YuxeLy0mDfbJiCbGLlHA23eg)\n",
      " Call ID: call_YuxeLy0mDfbJiCbGLlHA23eg\n",
      "  Args:\n",
      "    a: 3\n",
      "    b: 16\n",
      "=================================\u001b[1m Tool Message \u001b[0m=================================\n",
      "Name: multiply\n",
      "\n",
      "48\n",
      "******************************\n",
      "================================\u001b[1m Human Message \u001b[0m=================================\n",
      "\n",
      "What is the product of 3 and 16?\n",
      "==================================\u001b[1m Ai Message \u001b[0m==================================\n",
      "Tool Calls:\n",
      "  multiply (call_YuxeLy0mDfbJiCbGLlHA23eg)\n",
      " Call ID: call_YuxeLy0mDfbJiCbGLlHA23eg\n",
      "  Args:\n",
      "    a: 3\n",
      "    b: 16\n",
      "=================================\u001b[1m Tool Message \u001b[0m=================================\n",
      "Name: multiply\n",
      "\n",
      "48\n",
      "==================================\u001b[1m Ai Message \u001b[0m==================================\n",
      "\n",
      "The product of 3 and 16 is 48.\n",
      "******************************\n"
     ]
    }
   ],
   "source": [
    "# Continue from breakpoint\n",
    "\n",
    "for event in graph.stream(None, config, stream_mode=\"values\"):\n",
    "    for m in event[\"messages\"]:\n",
    "        m.pretty_print()\n",
    "    print(\"*\" * 30)"
   ]
  },
  {
   "cell_type": "code",
   "execution_count": 6,
   "id": "8fc9aac5",
   "metadata": {},
   "outputs": [
    {
     "name": "stdout",
     "output_type": "stream",
     "text": [
      "================================\u001b[1m Human Message \u001b[0m=================================\n",
      "\n",
      "What is the sum of 11 and 23\n",
      "==================================\u001b[1m Ai Message \u001b[0m==================================\n",
      "Tool Calls:\n",
      "  add (call_ximworbwmi6CVyOGVZ0DQoaT)\n",
      " Call ID: call_ximworbwmi6CVyOGVZ0DQoaT\n",
      "  Args:\n",
      "    a: 11\n",
      "    b: 23\n",
      "==================================\u001b[1m Ai Message \u001b[0m==================================\n",
      "Tool Calls:\n",
      "  add (call_ximworbwmi6CVyOGVZ0DQoaT)\n",
      " Call ID: call_ximworbwmi6CVyOGVZ0DQoaT\n",
      "  Args:\n",
      "    a: 11\n",
      "    b: 23\n",
      "=================================\u001b[1m Tool Message \u001b[0m=================================\n",
      "Name: add\n",
      "\n",
      "34\n",
      "==================================\u001b[1m Ai Message \u001b[0m==================================\n",
      "\n",
      "The sum of 11 and 23 is 34.\n"
     ]
    }
   ],
   "source": [
    "# Approval mechanism\n",
    "thread = {\"configurable\": {\"thread_id\": 2}}\n",
    "input_message = [HumanMessage(content=\"What is the sum of 11 and 23\")]\n",
    "\n",
    "for event in graph.stream({\"messages\": input_message}, thread, stream_mode=\"values\"):\n",
    "    event[\"messages\"][-1].pretty_print()\n",
    "\n",
    "user_input = input(\"Do you want to continue? (yes/no)\")\n",
    "\n",
    "if user_input.lower() == \"yes\":\n",
    "    for event in graph.stream(None, thread, stream_mode=\"values\"):\n",
    "        event[\"messages\"][-1].pretty_print()\n",
    "\n",
    "else:\n",
    "    print(\"The execution has been terminated!\")"
   ]
  }
 ],
 "metadata": {
  "kernelspec": {
   "display_name": "agentic-ai-5d-ElTE_-py3.12",
   "language": "python",
   "name": "python3"
  },
  "language_info": {
   "codemirror_mode": {
    "name": "ipython",
    "version": 3
   },
   "file_extension": ".py",
   "mimetype": "text/x-python",
   "name": "python",
   "nbconvert_exporter": "python",
   "pygments_lexer": "ipython3",
   "version": "3.12.2"
  }
 },
 "nbformat": 4,
 "nbformat_minor": 5
}
