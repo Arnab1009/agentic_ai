{
 "cells": [
  {
   "cell_type": "markdown",
   "id": "8365e8c2",
   "metadata": {},
   "source": [
    "# State Reducers"
   ]
  },
  {
   "cell_type": "markdown",
   "id": "3d8ad45f",
   "metadata": {},
   "source": [
    "## Default reducer"
   ]
  },
  {
   "cell_type": "code",
   "execution_count": 21,
   "id": "00647058",
   "metadata": {},
   "outputs": [],
   "source": [
    "# Import libraries\n",
    "from langgraph.graph import StateGraph, START, END\n",
    "from IPython.display import display, Image\n",
    "from typing_extensions import TypedDict"
   ]
  },
  {
   "cell_type": "code",
   "execution_count": 22,
   "id": "6497e260",
   "metadata": {},
   "outputs": [],
   "source": [
    "# Define state\n",
    "class DefaultState(TypedDict):\n",
    "    val: int"
   ]
  },
  {
   "cell_type": "code",
   "execution_count": 23,
   "id": "201242ee",
   "metadata": {},
   "outputs": [],
   "source": [
    "# Define node\n",
    "def def_node(state: DefaultState) -> DefaultState:\n",
    "    return {\"val\": state[\"val\"] + 1}"
   ]
  },
  {
   "cell_type": "code",
   "execution_count": 24,
   "id": "9b856e77",
   "metadata": {},
   "outputs": [
    {
     "data": {
      "image/png": "[encoded data removed]",
      "text/plain": [
       "<IPython.core.display.Image object>"
      ]
     },
     "metadata": {},
     "output_type": "display_data"
    }
   ],
   "source": [
    "# Define graph\n",
    "graphBuilder = StateGraph(DefaultState)\n",
    "graphBuilder.add_node(\"def_node\", def_node)\n",
    "\n",
    "graphBuilder.add_edge(START, \"def_node\")\n",
    "graphBuilder.add_edge(\"def_node\", END)\n",
    "\n",
    "graph = graphBuilder.compile()\n",
    "display(Image(graph.get_graph().draw_mermaid_png()))"
   ]
  },
  {
   "cell_type": "code",
   "execution_count": 25,
   "id": "59154aab",
   "metadata": {},
   "outputs": [
    {
     "data": {
      "text/plain": [
       "{'val': 2}"
      ]
     },
     "execution_count": 25,
     "metadata": {},
     "output_type": "execute_result"
    }
   ],
   "source": [
    "# Test the graph\n",
    "graph.invoke({\"val\": 1})"
   ]
  },
  {
   "cell_type": "markdown",
   "id": "7227a207",
   "metadata": {},
   "source": [
    "## Simple reducer implementation\n",
    "### Defualt reducer: Overwrite\n",
    "### Simple implementation to add to a list using add from operator"
   ]
  },
  {
   "cell_type": "code",
   "execution_count": null,
   "id": "0adb4aa2",
   "metadata": {},
   "outputs": [],
   "source": [
    "# Import libraries\n",
    "from typing import Annotated\n",
    "from operator import add"
   ]
  },
  {
   "cell_type": "code",
   "execution_count": 4,
   "id": "efed2873",
   "metadata": {},
   "outputs": [],
   "source": [
    "# Define state\n",
    "class State(TypedDict):\n",
    "    data: Annotated[list[int], add]"
   ]
  },
  {
   "cell_type": "code",
   "execution_count": 18,
   "id": "d5b1f868",
   "metadata": {},
   "outputs": [],
   "source": [
    "# Define node\n",
    "def node_1(state: State) -> State:\n",
    "    return {\"data\": [state[\"data\"][-1] + 1]}\n",
    "\n",
    "def node_2(state: State) -> State:\n",
    "    return {\"data\": [state[\"data\"][-1] + 1]}\n",
    "\n",
    "def node_3(state: State) -> State:\n",
    "    return {\"data\": [state[\"data\"][-1] + 1]}"
   ]
  },
  {
   "cell_type": "code",
   "execution_count": 19,
   "id": "1653d5cb",
   "metadata": {},
   "outputs": [
    {
     "data": {
      "image/png": "[encoded data removed]",
      "text/plain": [
       "<IPython.core.display.Image object>"
      ]
     },
     "metadata": {},
     "output_type": "display_data"
    }
   ],
   "source": [
    "# Define graph with branching\n",
    "graphBuilder = StateGraph(State)\n",
    "graphBuilder.add_node(\"node_1\", node_1)\n",
    "graphBuilder.add_node(\"node_2\", node_2)\n",
    "graphBuilder.add_node(\"node_3\", node_3)\n",
    "\n",
    "graphBuilder.add_edge(START, \"node_1\")\n",
    "graphBuilder.add_edge(\"node_1\", \"node_2\")\n",
    "graphBuilder.add_edge(\"node_1\", \"node_3\")\n",
    "graphBuilder.add_edge(\"node_2\", END)\n",
    "graphBuilder.add_edge(\"node_3\", END)\n",
    "\n",
    "graph = graphBuilder.compile()\n",
    "display(Image(graph.get_graph().draw_mermaid_png()))\n"
   ]
  },
  {
   "cell_type": "code",
   "execution_count": 20,
   "id": "20113872",
   "metadata": {},
   "outputs": [
    {
     "data": {
      "text/plain": [
       "{'data': [1, 2, 3, 3]}"
      ]
     },
     "execution_count": 20,
     "metadata": {},
     "output_type": "execute_result"
    }
   ],
   "source": [
    "graph.invoke({\"data\": [1]})"
   ]
  },
  {
   "cell_type": "markdown",
   "id": "872cab9c",
   "metadata": {},
   "source": [
    "## Custom Reducers\n",
    "### Define and use a reducer for list concatenation but considers None type"
   ]
  },
  {
   "cell_type": "code",
   "execution_count": 26,
   "id": "a39379e6",
   "metadata": {},
   "outputs": [],
   "source": [
    "# Define reducer and build state from it\n",
    "def safe_add(left: list[int] | None, right: list[int] | None) -> list[int]:\n",
    "    if left is None:\n",
    "        left = []\n",
    "    if right is None:\n",
    "        right = []\n",
    "    return left + right\n",
    "\n",
    "class CustomState(TypedDict):\n",
    "    data: Annotated[list[int], safe_add]"
   ]
  },
  {
   "cell_type": "code",
   "execution_count": 27,
   "id": "e043060d",
   "metadata": {},
   "outputs": [],
   "source": [
    "# Define a node that always returns [2]\n",
    "def node_1(state: CustomState) -> CustomState:\n",
    "    return {\"data\": [2]}"
   ]
  },
  {
   "cell_type": "code",
   "execution_count": 28,
   "id": "4a559fd0",
   "metadata": {},
   "outputs": [
    {
     "data": {
      "image/png": "[encoded data removed]",
      "text/plain": [
       "<IPython.core.display.Image object>"
      ]
     },
     "metadata": {},
     "output_type": "display_data"
    }
   ],
   "source": [
    "# Define graph\n",
    "graphBuilder = StateGraph(CustomState)\n",
    "graphBuilder.add_node(\"node_1\", node_1)\n",
    "\n",
    "graphBuilder.add_edge(START, \"node_1\")\n",
    "graphBuilder.add_edge(\"node_1\", END)\n",
    "\n",
    "graph = graphBuilder.compile()\n",
    "display(Image(graph.get_graph().draw_mermaid_png()))"
   ]
  },
  {
   "cell_type": "code",
   "execution_count": 31,
   "id": "9a53fe7c",
   "metadata": {},
   "outputs": [
    {
     "data": {
      "text/plain": [
       "{'data': [2]}"
      ]
     },
     "execution_count": 31,
     "metadata": {},
     "output_type": "execute_result"
    }
   ],
   "source": [
    "# Test the graph\n",
    "graph.invoke({\"data\": None})"
   ]
  },
  {
   "cell_type": "markdown",
   "id": "8ba374a1",
   "metadata": {},
   "source": [
    "## Add Messages Reducer for Messages"
   ]
  },
  {
   "cell_type": "code",
   "execution_count": 32,
   "id": "5d18401b",
   "metadata": {},
   "outputs": [],
   "source": [
    "# Import libraries\n",
    "from langchain_core.messages import AIMessage, HumanMessage, AnyMessage, RemoveMessage\n",
    "from langgraph.graph.message import add_messages"
   ]
  },
  {
   "cell_type": "markdown",
   "id": "aec50a49",
   "metadata": {},
   "source": [
    "### Add to a list of messages using add_messages reducer"
   ]
  },
  {
   "cell_type": "code",
   "execution_count": 34,
   "id": "235890f7",
   "metadata": {},
   "outputs": [
    {
     "data": {
      "text/plain": [
       "[HumanMessage(content='Hello!', additional_kwargs={}, response_metadata={}, name='Arnab', id='975da296-15fc-4fc8-9be4-c8d2c6bbc156'),\n",
       " AIMessage(content='Hi there!', additional_kwargs={}, response_metadata={}, name='model', id='ed2c3ba4-21d4-4e74-aec0-f9498434b7cb'),\n",
       " HumanMessage(content='How are you?', additional_kwargs={}, response_metadata={}, name='Arnab', id='bc1fdb05-7f68-47c1-9302-77aad871b3a5')]"
      ]
     },
     "execution_count": 34,
     "metadata": {},
     "output_type": "execute_result"
    }
   ],
   "source": [
    "messages = [HumanMessage(content=\"Hello!\", name=\"Arnab\"), AIMessage(content=\"Hi there!\", name=\"model\")]\n",
    "\n",
    "new_message = HumanMessage(content=\"How are you?\", name=\"Arnab\")\n",
    "\n",
    "add_messages(messages, new_message)"
   ]
  },
  {
   "cell_type": "markdown",
   "id": "a317d275",
   "metadata": {},
   "source": [
    "### Overwrite messages"
   ]
  },
  {
   "cell_type": "code",
   "execution_count": 35,
   "id": "8c72739b",
   "metadata": {},
   "outputs": [
    {
     "data": {
      "text/plain": [
       "[HumanMessage(content='Howdy!', additional_kwargs={}, response_metadata={}, name='Arnab', id='1'),\n",
       " AIMessage(content='Hi there!', additional_kwargs={}, response_metadata={}, name='model', id='2')]"
      ]
     },
     "execution_count": 35,
     "metadata": {},
     "output_type": "execute_result"
    }
   ],
   "source": [
    "messages = [HumanMessage(content=\"Hello!\", name=\"Arnab\", id=1), AIMessage(content=\"Hi there!\", name=\"model\", id=2)]\n",
    "\n",
    "new_message = HumanMessage(content=\"Howdy!\", name=\"Arnab\", id=1)\n",
    "\n",
    "add_messages(messages, new_message)"
   ]
  },
  {
   "cell_type": "markdown",
   "id": "52460bf1",
   "metadata": {},
   "source": [
    "### Remove messages"
   ]
  },
  {
   "cell_type": "code",
   "execution_count": 39,
   "id": "0f682ad9",
   "metadata": {},
   "outputs": [
    {
     "name": "stdout",
     "output_type": "stream",
     "text": [
      "[RemoveMessage(content='', additional_kwargs={}, response_metadata={}, id='1'), RemoveMessage(content='', additional_kwargs={}, response_metadata={}, id='2')]\n"
     ]
    },
    {
     "data": {
      "text/plain": [
       "[HumanMessage(content='How are you?', additional_kwargs={}, response_metadata={}, name='Arnab', id='3'),\n",
       " AIMessage(content='I am doing great!', additional_kwargs={}, response_metadata={}, name='model', id='4')]"
      ]
     },
     "execution_count": 39,
     "metadata": {},
     "output_type": "execute_result"
    }
   ],
   "source": [
    "# Define wole list of messages\n",
    "messages = [HumanMessage(content=\"Hello!\", name=\"Arnab\", id=1), \n",
    "            AIMessage(content=\"Hi there!\", name=\"model\", id=2), \n",
    "            HumanMessage(content=\"How are you?\", name=\"Arnab\", id=3), \n",
    "            AIMessage(content=\"I am doing great!\", name=\"model\", id=4)]\n",
    "\n",
    "# Identify messages to remove\n",
    "messages_to_remove = [RemoveMessage(id=m.id) for m in messages[:-2]]\n",
    "print(messages_to_remove)\n",
    "\n",
    "# Remove messages\n",
    "add_messages(messages, messages_to_remove)"
   ]
  }
 ],
 "metadata": {
  "kernelspec": {
   "display_name": "agentic-ai-5d-ElTE_-py3.12",
   "language": "python",
   "name": "python3"
  },
  "language_info": {
   "codemirror_mode": {
    "name": "ipython",
    "version": 3
   },
   "file_extension": ".py",
   "mimetype": "text/x-python",
   "name": "python",
   "nbconvert_exporter": "python",
   "pygments_lexer": "ipython3",
   "version": "3.12.2"
  }
 },
 "nbformat": 4,
 "nbformat_minor": 5
}
