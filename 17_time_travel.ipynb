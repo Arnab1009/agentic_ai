{
 "cells": [
  {
   "cell_type": "markdown",
   "id": "ea1ce4a8",
   "metadata": {},
   "source": [
    "# Replay and Fork an agent"
   ]
  },
  {
   "cell_type": "markdown",
   "id": "fb0dbfdc",
   "metadata": {},
   "source": [
    "## Build the agent"
   ]
  },
  {
   "cell_type": "code",
   "execution_count": 1,
   "id": "6c297e42",
   "metadata": {},
   "outputs": [],
   "source": [
    "# Import libraries\n",
    "from langgraph.graph import StateGraph, START, END, MessagesState\n",
    "from langgraph.prebuilt import tools_condition, ToolNode\n",
    "from langgraph.checkpoint.memory import MemorySaver\n",
    "from langchain_openai import ChatOpenAI\n",
    "from langchain_core.messages import SystemMessage, HumanMessage\n",
    "from langgraph.checkpoint.memory import MemorySaver\n",
    "from IPython.display import Image, display"
   ]
  },
  {
   "cell_type": "code",
   "execution_count": 2,
   "id": "355279f4",
   "metadata": {},
   "outputs": [
    {
     "data": {
      "image/png": "[encoded data removed]",
      "text/plain": [
       "<IPython.core.display.Image object>"
      ]
     },
     "metadata": {},
     "output_type": "display_data"
    }
   ],
   "source": [
    "# Build agent\n",
    "\n",
    "# Tool definitions\n",
    "\n",
    "def multiply(a: int, b: int) -> int:\n",
    "    \"\"\"\n",
    "        Function to multiply 2 given numbers\n",
    "        The return value is an integer which is the product of a and b\n",
    "    \"\"\"\n",
    "    return a * b\n",
    "\n",
    "def add(a: int, b: int) -> int:\n",
    "    \"\"\"\n",
    "        Function to add 2 given numbers\n",
    "        The return value is an integer which is the sum of a and b\n",
    "    \"\"\"\n",
    "    return a + b\n",
    "\n",
    "def subtract(a: int, b: int) -> int:\n",
    "    \"\"\"\n",
    "        Function to subtract 2 given numbers\n",
    "        The return value is an integer which is the difference of a and b\n",
    "    \"\"\"\n",
    "    return a - b\n",
    "\n",
    "def divide(a: int, b: int) -> int:\n",
    "    \"\"\"\n",
    "        Function to perform division on 2 given numbers\n",
    "        The return value is an integer which is the quotient of a and b\n",
    "    \"\"\"\n",
    "    return a / b\n",
    "\n",
    "# Bind tools with Chat model\n",
    "llm = ChatOpenAI(model=\"gpt-4o\", temperature=0)\n",
    "tools = [multiply, add, subtract, divide]\n",
    "llm_with_tools = llm.bind_tools(tools, parallel_tool_calls=False)\n",
    "\n",
    "# Define LLM node\n",
    "def assistant(state: MessagesState) -> MessagesState:\n",
    "    systemMessage = [SystemMessage(content=\"You are a helpful assistant that can perform basic arithmetic operations.\")]\n",
    "    state[\"messages\"] = llm_with_tools.invoke(systemMessage + state[\"messages\"])\n",
    "    return state\n",
    "\n",
    "# Build Graph\n",
    "memory = MemorySaver()\n",
    "graphBuilder = StateGraph(MessagesState)\n",
    "graphBuilder.add_node(\"assistant\", assistant)\n",
    "graphBuilder.add_node(\"tools\", ToolNode(tools))\n",
    "\n",
    "graphBuilder.add_edge(START, \"assistant\")\n",
    "graphBuilder.add_conditional_edges(\"assistant\", tools_condition)\n",
    "graphBuilder.add_edge(\"tools\", \"assistant\")\n",
    "\n",
    "graph = graphBuilder.compile(checkpointer = memory)\n",
    "display(Image(graph.get_graph().draw_mermaid_png()))"
   ]
  },
  {
   "cell_type": "markdown",
   "id": "3b42e7ad",
   "metadata": {},
   "source": [
    "## Replay"
   ]
  },
  {
   "cell_type": "code",
   "execution_count": 3,
   "id": "aa9c7bda",
   "metadata": {},
   "outputs": [
    {
     "name": "stdout",
     "output_type": "stream",
     "text": [
      "================================\u001b[1m Human Message \u001b[0m=================================\n",
      "\n",
      "What is the product of 56 and 34?\n",
      "==================================\u001b[1m Ai Message \u001b[0m==================================\n",
      "Tool Calls:\n",
      "  multiply (call_3PHnsjNRbX7JdBYTXASBTBTf)\n",
      " Call ID: call_3PHnsjNRbX7JdBYTXASBTBTf\n",
      "  Args:\n",
      "    a: 56\n",
      "    b: 34\n",
      "=================================\u001b[1m Tool Message \u001b[0m=================================\n",
      "Name: multiply\n",
      "\n",
      "1904\n",
      "==================================\u001b[1m Ai Message \u001b[0m==================================\n",
      "\n",
      "The product of 56 and 34 is 1,904.\n"
     ]
    }
   ],
   "source": [
    "# Execute the graph\n",
    "initial_input = [HumanMessage(content=\"What is the product of 56 and 34?\")]\n",
    "thread = {\"configurable\": {\"thread_id\": 1}}\n",
    "\n",
    "for event in graph.stream({\"messages\": initial_input}, thread, stream_mode=\"values\"):\n",
    "    event[\"messages\"][-1].pretty_print()"
   ]
  },
  {
   "cell_type": "code",
   "execution_count": 4,
   "id": "ee518b5c",
   "metadata": {},
   "outputs": [
    {
     "data": {
      "text/plain": [
       "StateSnapshot(values={'messages': [HumanMessage(content='What is the product of 56 and 34?', additional_kwargs={}, response_metadata={}, id='8ebf2a0c-6ec7-4e81-8251-95eaf6a7a9f8'), AIMessage(content='', additional_kwargs={'tool_calls': [{'id': 'call_3PHnsjNRbX7JdBYTXASBTBTf', 'function': {'arguments': '{\"a\":56,\"b\":34}', 'name': 'multiply'}, 'type': 'function'}], 'refusal': None}, response_metadata={'token_usage': {'completion_tokens': 17, 'prompt_tokens': 212, 'total_tokens': 229, 'completion_tokens_details': {'accepted_prediction_tokens': 0, 'audio_tokens': 0, 'reasoning_tokens': 0, 'rejected_prediction_tokens': 0}, 'prompt_tokens_details': {'audio_tokens': 0, 'cached_tokens': 0}}, 'model_name': 'gpt-4o-2024-08-06', 'system_fingerprint': 'fp_76544d79cb', 'id': 'chatcmpl-BbyCrDG3SYlWweZPJNEOyZxeevvfH', 'service_tier': 'default', 'finish_reason': 'tool_calls', 'logprobs': None}, id='run--787b4c94-5a65-4a7e-85c9-0332478e4853-0', tool_calls=[{'name': 'multiply', 'args': {'a': 56, 'b': 34}, 'id': 'call_3PHnsjNRbX7JdBYTXASBTBTf', 'type': 'tool_call'}], usage_metadata={'input_tokens': 212, 'output_tokens': 17, 'total_tokens': 229, 'input_token_details': {'audio': 0, 'cache_read': 0}, 'output_token_details': {'audio': 0, 'reasoning': 0}}), ToolMessage(content='1904', name='multiply', id='3a329272-2aa0-41a2-b6c6-3db2e19199a9', tool_call_id='call_3PHnsjNRbX7JdBYTXASBTBTf'), AIMessage(content='The product of 56 and 34 is 1,904.', additional_kwargs={'refusal': None}, response_metadata={'token_usage': {'completion_tokens': 15, 'prompt_tokens': 238, 'total_tokens': 253, 'completion_tokens_details': {'accepted_prediction_tokens': 0, 'audio_tokens': 0, 'reasoning_tokens': 0, 'rejected_prediction_tokens': 0}, 'prompt_tokens_details': {'audio_tokens': 0, 'cached_tokens': 0}}, 'model_name': 'gpt-4o-2024-08-06', 'system_fingerprint': 'fp_76544d79cb', 'id': 'chatcmpl-BbyCtaG0boDGANZ7wiC53oVsyE693', 'service_tier': 'default', 'finish_reason': 'stop', 'logprobs': None}, id='run--99a9c90e-e801-4584-9b25-4d73f889b197-0', usage_metadata={'input_tokens': 238, 'output_tokens': 15, 'total_tokens': 253, 'input_token_details': {'audio': 0, 'cache_read': 0}, 'output_token_details': {'audio': 0, 'reasoning': 0}})]}, next=(), config={'configurable': {'thread_id': '1', 'checkpoint_ns': '', 'checkpoint_id': '1f03b541-24dd-6562-8003-0bbeefde6276'}}, metadata={'source': 'loop', 'writes': {'assistant': {'messages': AIMessage(content='The product of 56 and 34 is 1,904.', additional_kwargs={'refusal': None}, response_metadata={'token_usage': {'completion_tokens': 15, 'prompt_tokens': 238, 'total_tokens': 253, 'completion_tokens_details': {'accepted_prediction_tokens': 0, 'audio_tokens': 0, 'reasoning_tokens': 0, 'rejected_prediction_tokens': 0}, 'prompt_tokens_details': {'audio_tokens': 0, 'cached_tokens': 0}}, 'model_name': 'gpt-4o-2024-08-06', 'system_fingerprint': 'fp_76544d79cb', 'id': 'chatcmpl-BbyCtaG0boDGANZ7wiC53oVsyE693', 'service_tier': 'default', 'finish_reason': 'stop', 'logprobs': None}, id='run--99a9c90e-e801-4584-9b25-4d73f889b197-0', usage_metadata={'input_tokens': 238, 'output_tokens': 15, 'total_tokens': 253, 'input_token_details': {'audio': 0, 'cache_read': 0}, 'output_token_details': {'audio': 0, 'reasoning': 0}})}}, 'step': 3, 'parents': {}, 'thread_id': 1}, created_at='2025-05-27T23:41:11.886769+00:00', parent_config={'configurable': {'thread_id': '1', 'checkpoint_ns': '', 'checkpoint_id': '1f03b541-1b2e-61ba-8002-ce3bd203c95e'}}, tasks=(), interrupts=())"
      ]
     },
     "execution_count": 4,
     "metadata": {},
     "output_type": "execute_result"
    }
   ],
   "source": [
    "# Get current state\n",
    "graph.get_state(thread)"
   ]
  },
  {
   "cell_type": "code",
   "execution_count": 5,
   "id": "7a7f833e",
   "metadata": {},
   "outputs": [
    {
     "name": "stdout",
     "output_type": "stream",
     "text": [
      "States:\n",
      "[StateSnapshot(values={'messages': [HumanMessage(content='What is the product of 56 and 34?', additional_kwargs={}, response_metadata={}, id='8ebf2a0c-6ec7-4e81-8251-95eaf6a7a9f8'), AIMessage(content='', additional_kwargs={'tool_calls': [{'id': 'call_3PHnsjNRbX7JdBYTXASBTBTf', 'function': {'arguments': '{\"a\":56,\"b\":34}', 'name': 'multiply'}, 'type': 'function'}], 'refusal': None}, response_metadata={'token_usage': {'completion_tokens': 17, 'prompt_tokens': 212, 'total_tokens': 229, 'completion_tokens_details': {'accepted_prediction_tokens': 0, 'audio_tokens': 0, 'reasoning_tokens': 0, 'rejected_prediction_tokens': 0}, 'prompt_tokens_details': {'audio_tokens': 0, 'cached_tokens': 0}}, 'model_name': 'gpt-4o-2024-08-06', 'system_fingerprint': 'fp_76544d79cb', 'id': 'chatcmpl-BbyCrDG3SYlWweZPJNEOyZxeevvfH', 'service_tier': 'default', 'finish_reason': 'tool_calls', 'logprobs': None}, id='run--787b4c94-5a65-4a7e-85c9-0332478e4853-0', tool_calls=[{'name': 'multiply', 'args': {'a': 56, 'b': 34}, 'id': 'call_3PHnsjNRbX7JdBYTXASBTBTf', 'type': 'tool_call'}], usage_metadata={'input_tokens': 212, 'output_tokens': 17, 'total_tokens': 229, 'input_token_details': {'audio': 0, 'cache_read': 0}, 'output_token_details': {'audio': 0, 'reasoning': 0}}), ToolMessage(content='1904', name='multiply', id='3a329272-2aa0-41a2-b6c6-3db2e19199a9', tool_call_id='call_3PHnsjNRbX7JdBYTXASBTBTf'), AIMessage(content='The product of 56 and 34 is 1,904.', additional_kwargs={'refusal': None}, response_metadata={'token_usage': {'completion_tokens': 15, 'prompt_tokens': 238, 'total_tokens': 253, 'completion_tokens_details': {'accepted_prediction_tokens': 0, 'audio_tokens': 0, 'reasoning_tokens': 0, 'rejected_prediction_tokens': 0}, 'prompt_tokens_details': {'audio_tokens': 0, 'cached_tokens': 0}}, 'model_name': 'gpt-4o-2024-08-06', 'system_fingerprint': 'fp_76544d79cb', 'id': 'chatcmpl-BbyCtaG0boDGANZ7wiC53oVsyE693', 'service_tier': 'default', 'finish_reason': 'stop', 'logprobs': None}, id='run--99a9c90e-e801-4584-9b25-4d73f889b197-0', usage_metadata={'input_tokens': 238, 'output_tokens': 15, 'total_tokens': 253, 'input_token_details': {'audio': 0, 'cache_read': 0}, 'output_token_details': {'audio': 0, 'reasoning': 0}})]}, next=(), config={'configurable': {'thread_id': '1', 'checkpoint_ns': '', 'checkpoint_id': '1f03b541-24dd-6562-8003-0bbeefde6276'}}, metadata={'source': 'loop', 'writes': {'assistant': {'messages': AIMessage(content='The product of 56 and 34 is 1,904.', additional_kwargs={'refusal': None}, response_metadata={'token_usage': {'completion_tokens': 15, 'prompt_tokens': 238, 'total_tokens': 253, 'completion_tokens_details': {'accepted_prediction_tokens': 0, 'audio_tokens': 0, 'reasoning_tokens': 0, 'rejected_prediction_tokens': 0}, 'prompt_tokens_details': {'audio_tokens': 0, 'cached_tokens': 0}}, 'model_name': 'gpt-4o-2024-08-06', 'system_fingerprint': 'fp_76544d79cb', 'id': 'chatcmpl-BbyCtaG0boDGANZ7wiC53oVsyE693', 'service_tier': 'default', 'finish_reason': 'stop', 'logprobs': None}, id='run--99a9c90e-e801-4584-9b25-4d73f889b197-0', usage_metadata={'input_tokens': 238, 'output_tokens': 15, 'total_tokens': 253, 'input_token_details': {'audio': 0, 'cache_read': 0}, 'output_token_details': {'audio': 0, 'reasoning': 0}})}}, 'step': 3, 'parents': {}, 'thread_id': 1}, created_at='2025-05-27T23:41:11.886769+00:00', parent_config={'configurable': {'thread_id': '1', 'checkpoint_ns': '', 'checkpoint_id': '1f03b541-1b2e-61ba-8002-ce3bd203c95e'}}, tasks=(), interrupts=()), StateSnapshot(values={'messages': [HumanMessage(content='What is the product of 56 and 34?', additional_kwargs={}, response_metadata={}, id='8ebf2a0c-6ec7-4e81-8251-95eaf6a7a9f8'), AIMessage(content='', additional_kwargs={'tool_calls': [{'id': 'call_3PHnsjNRbX7JdBYTXASBTBTf', 'function': {'arguments': '{\"a\":56,\"b\":34}', 'name': 'multiply'}, 'type': 'function'}], 'refusal': None}, response_metadata={'token_usage': {'completion_tokens': 17, 'prompt_tokens': 212, 'total_tokens': 229, 'completion_tokens_details': {'accepted_prediction_tokens': 0, 'audio_tokens': 0, 'reasoning_tokens': 0, 'rejected_prediction_tokens': 0}, 'prompt_tokens_details': {'audio_tokens': 0, 'cached_tokens': 0}}, 'model_name': 'gpt-4o-2024-08-06', 'system_fingerprint': 'fp_76544d79cb', 'id': 'chatcmpl-BbyCrDG3SYlWweZPJNEOyZxeevvfH', 'service_tier': 'default', 'finish_reason': 'tool_calls', 'logprobs': None}, id='run--787b4c94-5a65-4a7e-85c9-0332478e4853-0', tool_calls=[{'name': 'multiply', 'args': {'a': 56, 'b': 34}, 'id': 'call_3PHnsjNRbX7JdBYTXASBTBTf', 'type': 'tool_call'}], usage_metadata={'input_tokens': 212, 'output_tokens': 17, 'total_tokens': 229, 'input_token_details': {'audio': 0, 'cache_read': 0}, 'output_token_details': {'audio': 0, 'reasoning': 0}}), ToolMessage(content='1904', name='multiply', id='3a329272-2aa0-41a2-b6c6-3db2e19199a9', tool_call_id='call_3PHnsjNRbX7JdBYTXASBTBTf')]}, next=('assistant',), config={'configurable': {'thread_id': '1', 'checkpoint_ns': '', 'checkpoint_id': '1f03b541-1b2e-61ba-8002-ce3bd203c95e'}}, metadata={'source': 'loop', 'writes': {'tools': {'messages': [ToolMessage(content='1904', name='multiply', id='3a329272-2aa0-41a2-b6c6-3db2e19199a9', tool_call_id='call_3PHnsjNRbX7JdBYTXASBTBTf')]}}, 'step': 2, 'parents': {}, 'thread_id': 1}, created_at='2025-05-27T23:41:10.871282+00:00', parent_config={'configurable': {'thread_id': '1', 'checkpoint_ns': '', 'checkpoint_id': '1f03b541-1b25-645c-8001-1d25ffbd3463'}}, tasks=(PregelTask(id='03d02ce1-4116-2192-727e-17bfeb26757c', name='assistant', path=('__pregel_pull', 'assistant'), error=None, interrupts=(), state=None, result={'messages': AIMessage(content='The product of 56 and 34 is 1,904.', additional_kwargs={'refusal': None}, response_metadata={'token_usage': {'completion_tokens': 15, 'prompt_tokens': 238, 'total_tokens': 253, 'completion_tokens_details': {'accepted_prediction_tokens': 0, 'audio_tokens': 0, 'reasoning_tokens': 0, 'rejected_prediction_tokens': 0}, 'prompt_tokens_details': {'audio_tokens': 0, 'cached_tokens': 0}}, 'model_name': 'gpt-4o-2024-08-06', 'system_fingerprint': 'fp_76544d79cb', 'id': 'chatcmpl-BbyCtaG0boDGANZ7wiC53oVsyE693', 'service_tier': 'default', 'finish_reason': 'stop', 'logprobs': None}, id='run--99a9c90e-e801-4584-9b25-4d73f889b197-0', usage_metadata={'input_tokens': 238, 'output_tokens': 15, 'total_tokens': 253, 'input_token_details': {'audio': 0, 'cache_read': 0}, 'output_token_details': {'audio': 0, 'reasoning': 0}})}),), interrupts=()), StateSnapshot(values={'messages': [HumanMessage(content='What is the product of 56 and 34?', additional_kwargs={}, response_metadata={}, id='8ebf2a0c-6ec7-4e81-8251-95eaf6a7a9f8'), AIMessage(content='', additional_kwargs={'tool_calls': [{'id': 'call_3PHnsjNRbX7JdBYTXASBTBTf', 'function': {'arguments': '{\"a\":56,\"b\":34}', 'name': 'multiply'}, 'type': 'function'}], 'refusal': None}, response_metadata={'token_usage': {'completion_tokens': 17, 'prompt_tokens': 212, 'total_tokens': 229, 'completion_tokens_details': {'accepted_prediction_tokens': 0, 'audio_tokens': 0, 'reasoning_tokens': 0, 'rejected_prediction_tokens': 0}, 'prompt_tokens_details': {'audio_tokens': 0, 'cached_tokens': 0}}, 'model_name': 'gpt-4o-2024-08-06', 'system_fingerprint': 'fp_76544d79cb', 'id': 'chatcmpl-BbyCrDG3SYlWweZPJNEOyZxeevvfH', 'service_tier': 'default', 'finish_reason': 'tool_calls', 'logprobs': None}, id='run--787b4c94-5a65-4a7e-85c9-0332478e4853-0', tool_calls=[{'name': 'multiply', 'args': {'a': 56, 'b': 34}, 'id': 'call_3PHnsjNRbX7JdBYTXASBTBTf', 'type': 'tool_call'}], usage_metadata={'input_tokens': 212, 'output_tokens': 17, 'total_tokens': 229, 'input_token_details': {'audio': 0, 'cache_read': 0}, 'output_token_details': {'audio': 0, 'reasoning': 0}})]}, next=('tools',), config={'configurable': {'thread_id': '1', 'checkpoint_ns': '', 'checkpoint_id': '1f03b541-1b25-645c-8001-1d25ffbd3463'}}, metadata={'source': 'loop', 'writes': {'assistant': {'messages': AIMessage(content='', additional_kwargs={'tool_calls': [{'id': 'call_3PHnsjNRbX7JdBYTXASBTBTf', 'function': {'arguments': '{\"a\":56,\"b\":34}', 'name': 'multiply'}, 'type': 'function'}], 'refusal': None}, response_metadata={'token_usage': {'completion_tokens': 17, 'prompt_tokens': 212, 'total_tokens': 229, 'completion_tokens_details': {'accepted_prediction_tokens': 0, 'audio_tokens': 0, 'reasoning_tokens': 0, 'rejected_prediction_tokens': 0}, 'prompt_tokens_details': {'audio_tokens': 0, 'cached_tokens': 0}}, 'model_name': 'gpt-4o-2024-08-06', 'system_fingerprint': 'fp_76544d79cb', 'id': 'chatcmpl-BbyCrDG3SYlWweZPJNEOyZxeevvfH', 'service_tier': 'default', 'finish_reason': 'tool_calls', 'logprobs': None}, id='run--787b4c94-5a65-4a7e-85c9-0332478e4853-0', tool_calls=[{'name': 'multiply', 'args': {'a': 56, 'b': 34}, 'id': 'call_3PHnsjNRbX7JdBYTXASBTBTf', 'type': 'tool_call'}], usage_metadata={'input_tokens': 212, 'output_tokens': 17, 'total_tokens': 229, 'input_token_details': {'audio': 0, 'cache_read': 0}, 'output_token_details': {'audio': 0, 'reasoning': 0}})}}, 'step': 1, 'parents': {}, 'thread_id': 1}, created_at='2025-05-27T23:41:10.867659+00:00', parent_config={'configurable': {'thread_id': '1', 'checkpoint_ns': '', 'checkpoint_id': '1f03b541-0cc4-6e80-8000-8d05e9fa9fb0'}}, tasks=(PregelTask(id='2126da40-a3e4-5453-a0f1-defe96272342', name='tools', path=('__pregel_pull', 'tools'), error=None, interrupts=(), state=None, result={'messages': [ToolMessage(content='1904', name='multiply', id='3a329272-2aa0-41a2-b6c6-3db2e19199a9', tool_call_id='call_3PHnsjNRbX7JdBYTXASBTBTf')]}),), interrupts=()), StateSnapshot(values={'messages': [HumanMessage(content='What is the product of 56 and 34?', additional_kwargs={}, response_metadata={}, id='8ebf2a0c-6ec7-4e81-8251-95eaf6a7a9f8')]}, next=('assistant',), config={'configurable': {'thread_id': '1', 'checkpoint_ns': '', 'checkpoint_id': '1f03b541-0cc4-6e80-8000-8d05e9fa9fb0'}}, metadata={'source': 'loop', 'writes': None, 'step': 0, 'parents': {}, 'thread_id': 1}, created_at='2025-05-27T23:41:09.360188+00:00', parent_config={'configurable': {'thread_id': '1', 'checkpoint_ns': '', 'checkpoint_id': '1f03b541-0cc3-6b34-bfff-09c3dd05e19d'}}, tasks=(PregelTask(id='61432d47-d116-915b-fa46-64bd4b666d29', name='assistant', path=('__pregel_pull', 'assistant'), error=None, interrupts=(), state=None, result={'messages': AIMessage(content='', additional_kwargs={'tool_calls': [{'id': 'call_3PHnsjNRbX7JdBYTXASBTBTf', 'function': {'arguments': '{\"a\":56,\"b\":34}', 'name': 'multiply'}, 'type': 'function'}], 'refusal': None}, response_metadata={'token_usage': {'completion_tokens': 17, 'prompt_tokens': 212, 'total_tokens': 229, 'completion_tokens_details': {'accepted_prediction_tokens': 0, 'audio_tokens': 0, 'reasoning_tokens': 0, 'rejected_prediction_tokens': 0}, 'prompt_tokens_details': {'audio_tokens': 0, 'cached_tokens': 0}}, 'model_name': 'gpt-4o-2024-08-06', 'system_fingerprint': 'fp_76544d79cb', 'id': 'chatcmpl-BbyCrDG3SYlWweZPJNEOyZxeevvfH', 'service_tier': 'default', 'finish_reason': 'tool_calls', 'logprobs': None}, id='run--787b4c94-5a65-4a7e-85c9-0332478e4853-0', tool_calls=[{'name': 'multiply', 'args': {'a': 56, 'b': 34}, 'id': 'call_3PHnsjNRbX7JdBYTXASBTBTf', 'type': 'tool_call'}], usage_metadata={'input_tokens': 212, 'output_tokens': 17, 'total_tokens': 229, 'input_token_details': {'audio': 0, 'cache_read': 0}, 'output_token_details': {'audio': 0, 'reasoning': 0}})}),), interrupts=()), StateSnapshot(values={'messages': []}, next=('__start__',), config={'configurable': {'thread_id': '1', 'checkpoint_ns': '', 'checkpoint_id': '1f03b541-0cc3-6b34-bfff-09c3dd05e19d'}}, metadata={'source': 'input', 'writes': {'__start__': {'messages': [HumanMessage(content='What is the product of 56 and 34?', additional_kwargs={}, response_metadata={})]}}, 'step': -1, 'parents': {}, 'thread_id': 1}, created_at='2025-05-27T23:41:09.359693+00:00', parent_config=None, tasks=(PregelTask(id='5b90a438-e181-27eb-17c4-90c0dfc87a19', name='__start__', path=('__pregel_pull', '__start__'), error=None, interrupts=(), state=None, result={'messages': [HumanMessage(content='What is the product of 56 and 34?', additional_kwargs={}, response_metadata={})]}),), interrupts=())]\n",
      "Number of states: 5\n"
     ]
    }
   ],
   "source": [
    "# Get state history\n",
    "history = [ s for s in graph.get_state_history(thread)]\n",
    "print(\"States:\")\n",
    "print(history)\n",
    "print(f\"Number of states: {len(history)}\")"
   ]
  },
  {
   "cell_type": "code",
   "execution_count": 6,
   "id": "be01bd4a",
   "metadata": {},
   "outputs": [
    {
     "data": {
      "text/plain": [
       "StateSnapshot(values={'messages': [HumanMessage(content='What is the product of 56 and 34?', additional_kwargs={}, response_metadata={}, id='8ebf2a0c-6ec7-4e81-8251-95eaf6a7a9f8')]}, next=('assistant',), config={'configurable': {'thread_id': '1', 'checkpoint_ns': '', 'checkpoint_id': '1f03b541-0cc4-6e80-8000-8d05e9fa9fb0'}}, metadata={'source': 'loop', 'writes': None, 'step': 0, 'parents': {}, 'thread_id': 1}, created_at='2025-05-27T23:41:09.360188+00:00', parent_config={'configurable': {'thread_id': '1', 'checkpoint_ns': '', 'checkpoint_id': '1f03b541-0cc3-6b34-bfff-09c3dd05e19d'}}, tasks=(PregelTask(id='61432d47-d116-915b-fa46-64bd4b666d29', name='assistant', path=('__pregel_pull', 'assistant'), error=None, interrupts=(), state=None, result={'messages': AIMessage(content='', additional_kwargs={'tool_calls': [{'id': 'call_3PHnsjNRbX7JdBYTXASBTBTf', 'function': {'arguments': '{\"a\":56,\"b\":34}', 'name': 'multiply'}, 'type': 'function'}], 'refusal': None}, response_metadata={'token_usage': {'completion_tokens': 17, 'prompt_tokens': 212, 'total_tokens': 229, 'completion_tokens_details': {'accepted_prediction_tokens': 0, 'audio_tokens': 0, 'reasoning_tokens': 0, 'rejected_prediction_tokens': 0}, 'prompt_tokens_details': {'audio_tokens': 0, 'cached_tokens': 0}}, 'model_name': 'gpt-4o-2024-08-06', 'system_fingerprint': 'fp_76544d79cb', 'id': 'chatcmpl-BbyCrDG3SYlWweZPJNEOyZxeevvfH', 'service_tier': 'default', 'finish_reason': 'tool_calls', 'logprobs': None}, id='run--787b4c94-5a65-4a7e-85c9-0332478e4853-0', tool_calls=[{'name': 'multiply', 'args': {'a': 56, 'b': 34}, 'id': 'call_3PHnsjNRbX7JdBYTXASBTBTf', 'type': 'tool_call'}], usage_metadata={'input_tokens': 212, 'output_tokens': 17, 'total_tokens': 229, 'input_token_details': {'audio': 0, 'cache_read': 0}, 'output_token_details': {'audio': 0, 'reasoning': 0}})}),), interrupts=())"
      ]
     },
     "execution_count": 6,
     "metadata": {},
     "output_type": "execute_result"
    }
   ],
   "source": [
    "# Select a state in history\n",
    "to_replay = history[-2]\n",
    "to_replay"
   ]
  },
  {
   "cell_type": "code",
   "execution_count": 7,
   "id": "b1e4cec9",
   "metadata": {},
   "outputs": [
    {
     "name": "stdout",
     "output_type": "stream",
     "text": [
      "Selected node values:\n",
      "{'messages': [HumanMessage(content='What is the product of 56 and 34?', additional_kwargs={}, response_metadata={}, id='8ebf2a0c-6ec7-4e81-8251-95eaf6a7a9f8')]}\n",
      "Selected node config:\n",
      "{'configurable': {'thread_id': '1', 'checkpoint_ns': '', 'checkpoint_id': '1f03b541-0cc4-6e80-8000-8d05e9fa9fb0'}}\n",
      "Next node of selected node:\n",
      "('assistant',)\n"
     ]
    }
   ],
   "source": [
    "# Check history values, config and next node information\n",
    "print(\"Selected node values:\")\n",
    "print(to_replay.values)\n",
    "print(\"Selected node config:\")\n",
    "print(to_replay.config)\n",
    "print(\"Next node of selected node:\")\n",
    "print(to_replay.next)"
   ]
  },
  {
   "cell_type": "code",
   "execution_count": 8,
   "id": "88d71461",
   "metadata": {},
   "outputs": [
    {
     "name": "stdout",
     "output_type": "stream",
     "text": [
      "================================\u001b[1m Human Message \u001b[0m=================================\n",
      "\n",
      "What is the product of 56 and 34?\n",
      "==================================\u001b[1m Ai Message \u001b[0m==================================\n",
      "Tool Calls:\n",
      "  multiply (call_eRTw3Ujhxe2UvAmk7wPywnnH)\n",
      " Call ID: call_eRTw3Ujhxe2UvAmk7wPywnnH\n",
      "  Args:\n",
      "    a: 56\n",
      "    b: 34\n",
      "=================================\u001b[1m Tool Message \u001b[0m=================================\n",
      "Name: multiply\n",
      "\n",
      "1904\n",
      "==================================\u001b[1m Ai Message \u001b[0m==================================\n",
      "\n",
      "The product of 56 and 34 is 1904.\n"
     ]
    }
   ],
   "source": [
    "# Trigger replay\n",
    "for event in graph.stream(None, to_replay.config, stream_mode=\"values\"):\n",
    "    event[\"messages\"][-1].pretty_print()"
   ]
  },
  {
   "cell_type": "code",
   "execution_count": 9,
   "id": "d39de9b9",
   "metadata": {},
   "outputs": [
    {
     "name": "stdout",
     "output_type": "stream",
     "text": [
      "States:\n",
      "[StateSnapshot(values={'messages': [HumanMessage(content='What is the product of 56 and 34?', additional_kwargs={}, response_metadata={}, id='8ebf2a0c-6ec7-4e81-8251-95eaf6a7a9f8'), AIMessage(content='', additional_kwargs={'tool_calls': [{'id': 'call_eRTw3Ujhxe2UvAmk7wPywnnH', 'function': {'arguments': '{\"a\":56,\"b\":34}', 'name': 'multiply'}, 'type': 'function'}], 'refusal': None}, response_metadata={'token_usage': {'completion_tokens': 17, 'prompt_tokens': 212, 'total_tokens': 229, 'completion_tokens_details': {'accepted_prediction_tokens': 0, 'audio_tokens': 0, 'reasoning_tokens': 0, 'rejected_prediction_tokens': 0}, 'prompt_tokens_details': {'audio_tokens': 0, 'cached_tokens': 0}}, 'model_name': 'gpt-4o-2024-08-06', 'system_fingerprint': 'fp_76544d79cb', 'id': 'chatcmpl-BbyD5NoMCcUtb7yiCrRnOeWotAtZ9', 'service_tier': 'default', 'finish_reason': 'tool_calls', 'logprobs': None}, id='run--09331abd-b8ca-4867-976c-8e5b263aebd7-0', tool_calls=[{'name': 'multiply', 'args': {'a': 56, 'b': 34}, 'id': 'call_eRTw3Ujhxe2UvAmk7wPywnnH', 'type': 'tool_call'}], usage_metadata={'input_tokens': 212, 'output_tokens': 17, 'total_tokens': 229, 'input_token_details': {'audio': 0, 'cache_read': 0}, 'output_token_details': {'audio': 0, 'reasoning': 0}}), ToolMessage(content='1904', name='multiply', id='b051acde-b6a6-4984-b412-380c51e6e969', tool_call_id='call_eRTw3Ujhxe2UvAmk7wPywnnH'), AIMessage(content='The product of 56 and 34 is 1904.', additional_kwargs={'refusal': None}, response_metadata={'token_usage': {'completion_tokens': 14, 'prompt_tokens': 238, 'total_tokens': 252, 'completion_tokens_details': {'accepted_prediction_tokens': 0, 'audio_tokens': 0, 'reasoning_tokens': 0, 'rejected_prediction_tokens': 0}, 'prompt_tokens_details': {'audio_tokens': 0, 'cached_tokens': 0}}, 'model_name': 'gpt-4o-2024-08-06', 'system_fingerprint': 'fp_76544d79cb', 'id': 'chatcmpl-BbyD6caK3CxPvUl8VcWEwa6xpungA', 'service_tier': 'default', 'finish_reason': 'stop', 'logprobs': None}, id='run--0b240db7-29ad-4ab5-a434-2dd4d54e683a-0', usage_metadata={'input_tokens': 238, 'output_tokens': 14, 'total_tokens': 252, 'input_token_details': {'audio': 0, 'cache_read': 0}, 'output_token_details': {'audio': 0, 'reasoning': 0}})]}, next=(), config={'configurable': {'thread_id': '1', 'checkpoint_ns': '', 'checkpoint_id': '1f03b541-9ff2-670c-8003-baa736529899'}}, metadata={'source': 'loop', 'writes': {'assistant': {'messages': AIMessage(content='The product of 56 and 34 is 1904.', additional_kwargs={'refusal': None}, response_metadata={'token_usage': {'completion_tokens': 14, 'prompt_tokens': 238, 'total_tokens': 252, 'completion_tokens_details': {'accepted_prediction_tokens': 0, 'audio_tokens': 0, 'reasoning_tokens': 0, 'rejected_prediction_tokens': 0}, 'prompt_tokens_details': {'audio_tokens': 0, 'cached_tokens': 0}}, 'model_name': 'gpt-4o-2024-08-06', 'system_fingerprint': 'fp_76544d79cb', 'id': 'chatcmpl-BbyD6caK3CxPvUl8VcWEwa6xpungA', 'service_tier': 'default', 'finish_reason': 'stop', 'logprobs': None}, id='run--0b240db7-29ad-4ab5-a434-2dd4d54e683a-0', usage_metadata={'input_tokens': 238, 'output_tokens': 14, 'total_tokens': 252, 'input_token_details': {'audio': 0, 'cache_read': 0}, 'output_token_details': {'audio': 0, 'reasoning': 0}})}}, 'step': 3, 'parents': {}, 'thread_id': '1'}, created_at='2025-05-27T23:41:24.792906+00:00', parent_config={'configurable': {'thread_id': '1', 'checkpoint_ns': '', 'checkpoint_id': '1f03b541-9618-6d44-8002-ba773d0fe52e'}}, tasks=(), interrupts=()), StateSnapshot(values={'messages': [HumanMessage(content='What is the product of 56 and 34?', additional_kwargs={}, response_metadata={}, id='8ebf2a0c-6ec7-4e81-8251-95eaf6a7a9f8'), AIMessage(content='', additional_kwargs={'tool_calls': [{'id': 'call_eRTw3Ujhxe2UvAmk7wPywnnH', 'function': {'arguments': '{\"a\":56,\"b\":34}', 'name': 'multiply'}, 'type': 'function'}], 'refusal': None}, response_metadata={'token_usage': {'completion_tokens': 17, 'prompt_tokens': 212, 'total_tokens': 229, 'completion_tokens_details': {'accepted_prediction_tokens': 0, 'audio_tokens': 0, 'reasoning_tokens': 0, 'rejected_prediction_tokens': 0}, 'prompt_tokens_details': {'audio_tokens': 0, 'cached_tokens': 0}}, 'model_name': 'gpt-4o-2024-08-06', 'system_fingerprint': 'fp_76544d79cb', 'id': 'chatcmpl-BbyD5NoMCcUtb7yiCrRnOeWotAtZ9', 'service_tier': 'default', 'finish_reason': 'tool_calls', 'logprobs': None}, id='run--09331abd-b8ca-4867-976c-8e5b263aebd7-0', tool_calls=[{'name': 'multiply', 'args': {'a': 56, 'b': 34}, 'id': 'call_eRTw3Ujhxe2UvAmk7wPywnnH', 'type': 'tool_call'}], usage_metadata={'input_tokens': 212, 'output_tokens': 17, 'total_tokens': 229, 'input_token_details': {'audio': 0, 'cache_read': 0}, 'output_token_details': {'audio': 0, 'reasoning': 0}}), ToolMessage(content='1904', name='multiply', id='b051acde-b6a6-4984-b412-380c51e6e969', tool_call_id='call_eRTw3Ujhxe2UvAmk7wPywnnH')]}, next=('assistant',), config={'configurable': {'thread_id': '1', 'checkpoint_ns': '', 'checkpoint_id': '1f03b541-9618-6d44-8002-ba773d0fe52e'}}, metadata={'source': 'loop', 'writes': {'tools': {'messages': [ToolMessage(content='1904', name='multiply', id='b051acde-b6a6-4984-b412-380c51e6e969', tool_call_id='call_eRTw3Ujhxe2UvAmk7wPywnnH')]}}, 'step': 2, 'parents': {}, 'thread_id': '1'}, created_at='2025-05-27T23:41:23.760048+00:00', parent_config={'configurable': {'thread_id': '1', 'checkpoint_ns': '', 'checkpoint_id': '1f03b541-960e-66a0-8001-d8b9e130683b'}}, tasks=(PregelTask(id='12df652e-aaa7-60ad-7cdf-8a5a57a3f680', name='assistant', path=('__pregel_pull', 'assistant'), error=None, interrupts=(), state=None, result={'messages': AIMessage(content='The product of 56 and 34 is 1904.', additional_kwargs={'refusal': None}, response_metadata={'token_usage': {'completion_tokens': 14, 'prompt_tokens': 238, 'total_tokens': 252, 'completion_tokens_details': {'accepted_prediction_tokens': 0, 'audio_tokens': 0, 'reasoning_tokens': 0, 'rejected_prediction_tokens': 0}, 'prompt_tokens_details': {'audio_tokens': 0, 'cached_tokens': 0}}, 'model_name': 'gpt-4o-2024-08-06', 'system_fingerprint': 'fp_76544d79cb', 'id': 'chatcmpl-BbyD6caK3CxPvUl8VcWEwa6xpungA', 'service_tier': 'default', 'finish_reason': 'stop', 'logprobs': None}, id='run--0b240db7-29ad-4ab5-a434-2dd4d54e683a-0', usage_metadata={'input_tokens': 238, 'output_tokens': 14, 'total_tokens': 252, 'input_token_details': {'audio': 0, 'cache_read': 0}, 'output_token_details': {'audio': 0, 'reasoning': 0}})}),), interrupts=()), StateSnapshot(values={'messages': [HumanMessage(content='What is the product of 56 and 34?', additional_kwargs={}, response_metadata={}, id='8ebf2a0c-6ec7-4e81-8251-95eaf6a7a9f8'), AIMessage(content='', additional_kwargs={'tool_calls': [{'id': 'call_eRTw3Ujhxe2UvAmk7wPywnnH', 'function': {'arguments': '{\"a\":56,\"b\":34}', 'name': 'multiply'}, 'type': 'function'}], 'refusal': None}, response_metadata={'token_usage': {'completion_tokens': 17, 'prompt_tokens': 212, 'total_tokens': 229, 'completion_tokens_details': {'accepted_prediction_tokens': 0, 'audio_tokens': 0, 'reasoning_tokens': 0, 'rejected_prediction_tokens': 0}, 'prompt_tokens_details': {'audio_tokens': 0, 'cached_tokens': 0}}, 'model_name': 'gpt-4o-2024-08-06', 'system_fingerprint': 'fp_76544d79cb', 'id': 'chatcmpl-BbyD5NoMCcUtb7yiCrRnOeWotAtZ9', 'service_tier': 'default', 'finish_reason': 'tool_calls', 'logprobs': None}, id='run--09331abd-b8ca-4867-976c-8e5b263aebd7-0', tool_calls=[{'name': 'multiply', 'args': {'a': 56, 'b': 34}, 'id': 'call_eRTw3Ujhxe2UvAmk7wPywnnH', 'type': 'tool_call'}], usage_metadata={'input_tokens': 212, 'output_tokens': 17, 'total_tokens': 229, 'input_token_details': {'audio': 0, 'cache_read': 0}, 'output_token_details': {'audio': 0, 'reasoning': 0}})]}, next=('tools',), config={'configurable': {'thread_id': '1', 'checkpoint_ns': '', 'checkpoint_id': '1f03b541-960e-66a0-8001-d8b9e130683b'}}, metadata={'source': 'loop', 'writes': {'assistant': {'messages': AIMessage(content='', additional_kwargs={'tool_calls': [{'id': 'call_eRTw3Ujhxe2UvAmk7wPywnnH', 'function': {'arguments': '{\"a\":56,\"b\":34}', 'name': 'multiply'}, 'type': 'function'}], 'refusal': None}, response_metadata={'token_usage': {'completion_tokens': 17, 'prompt_tokens': 212, 'total_tokens': 229, 'completion_tokens_details': {'accepted_prediction_tokens': 0, 'audio_tokens': 0, 'reasoning_tokens': 0, 'rejected_prediction_tokens': 0}, 'prompt_tokens_details': {'audio_tokens': 0, 'cached_tokens': 0}}, 'model_name': 'gpt-4o-2024-08-06', 'system_fingerprint': 'fp_76544d79cb', 'id': 'chatcmpl-BbyD5NoMCcUtb7yiCrRnOeWotAtZ9', 'service_tier': 'default', 'finish_reason': 'tool_calls', 'logprobs': None}, id='run--09331abd-b8ca-4867-976c-8e5b263aebd7-0', tool_calls=[{'name': 'multiply', 'args': {'a': 56, 'b': 34}, 'id': 'call_eRTw3Ujhxe2UvAmk7wPywnnH', 'type': 'tool_call'}], usage_metadata={'input_tokens': 212, 'output_tokens': 17, 'total_tokens': 229, 'input_token_details': {'audio': 0, 'cache_read': 0}, 'output_token_details': {'audio': 0, 'reasoning': 0}})}}, 'step': 1, 'parents': {}, 'thread_id': '1'}, created_at='2025-05-27T23:41:23.755773+00:00', parent_config={'configurable': {'thread_id': '1', 'checkpoint_ns': '', 'checkpoint_id': '1f03b541-0cc4-6e80-8000-8d05e9fa9fb0'}}, tasks=(PregelTask(id='cf07769c-6d4b-f7ef-c7f7-ff8e5a72df01', name='tools', path=('__pregel_pull', 'tools'), error=None, interrupts=(), state=None, result={'messages': [ToolMessage(content='1904', name='multiply', id='b051acde-b6a6-4984-b412-380c51e6e969', tool_call_id='call_eRTw3Ujhxe2UvAmk7wPywnnH')]}),), interrupts=()), StateSnapshot(values={'messages': [HumanMessage(content='What is the product of 56 and 34?', additional_kwargs={}, response_metadata={}, id='8ebf2a0c-6ec7-4e81-8251-95eaf6a7a9f8'), AIMessage(content='', additional_kwargs={'tool_calls': [{'id': 'call_3PHnsjNRbX7JdBYTXASBTBTf', 'function': {'arguments': '{\"a\":56,\"b\":34}', 'name': 'multiply'}, 'type': 'function'}], 'refusal': None}, response_metadata={'token_usage': {'completion_tokens': 17, 'prompt_tokens': 212, 'total_tokens': 229, 'completion_tokens_details': {'accepted_prediction_tokens': 0, 'audio_tokens': 0, 'reasoning_tokens': 0, 'rejected_prediction_tokens': 0}, 'prompt_tokens_details': {'audio_tokens': 0, 'cached_tokens': 0}}, 'model_name': 'gpt-4o-2024-08-06', 'system_fingerprint': 'fp_76544d79cb', 'id': 'chatcmpl-BbyCrDG3SYlWweZPJNEOyZxeevvfH', 'service_tier': 'default', 'finish_reason': 'tool_calls', 'logprobs': None}, id='run--787b4c94-5a65-4a7e-85c9-0332478e4853-0', tool_calls=[{'name': 'multiply', 'args': {'a': 56, 'b': 34}, 'id': 'call_3PHnsjNRbX7JdBYTXASBTBTf', 'type': 'tool_call'}], usage_metadata={'input_tokens': 212, 'output_tokens': 17, 'total_tokens': 229, 'input_token_details': {'audio': 0, 'cache_read': 0}, 'output_token_details': {'audio': 0, 'reasoning': 0}}), ToolMessage(content='1904', name='multiply', id='3a329272-2aa0-41a2-b6c6-3db2e19199a9', tool_call_id='call_3PHnsjNRbX7JdBYTXASBTBTf'), AIMessage(content='The product of 56 and 34 is 1,904.', additional_kwargs={'refusal': None}, response_metadata={'token_usage': {'completion_tokens': 15, 'prompt_tokens': 238, 'total_tokens': 253, 'completion_tokens_details': {'accepted_prediction_tokens': 0, 'audio_tokens': 0, 'reasoning_tokens': 0, 'rejected_prediction_tokens': 0}, 'prompt_tokens_details': {'audio_tokens': 0, 'cached_tokens': 0}}, 'model_name': 'gpt-4o-2024-08-06', 'system_fingerprint': 'fp_76544d79cb', 'id': 'chatcmpl-BbyCtaG0boDGANZ7wiC53oVsyE693', 'service_tier': 'default', 'finish_reason': 'stop', 'logprobs': None}, id='run--99a9c90e-e801-4584-9b25-4d73f889b197-0', usage_metadata={'input_tokens': 238, 'output_tokens': 15, 'total_tokens': 253, 'input_token_details': {'audio': 0, 'cache_read': 0}, 'output_token_details': {'audio': 0, 'reasoning': 0}})]}, next=(), config={'configurable': {'thread_id': '1', 'checkpoint_ns': '', 'checkpoint_id': '1f03b541-24dd-6562-8003-0bbeefde6276'}}, metadata={'source': 'loop', 'writes': {'assistant': {'messages': AIMessage(content='The product of 56 and 34 is 1,904.', additional_kwargs={'refusal': None}, response_metadata={'token_usage': {'completion_tokens': 15, 'prompt_tokens': 238, 'total_tokens': 253, 'completion_tokens_details': {'accepted_prediction_tokens': 0, 'audio_tokens': 0, 'reasoning_tokens': 0, 'rejected_prediction_tokens': 0}, 'prompt_tokens_details': {'audio_tokens': 0, 'cached_tokens': 0}}, 'model_name': 'gpt-4o-2024-08-06', 'system_fingerprint': 'fp_76544d79cb', 'id': 'chatcmpl-BbyCtaG0boDGANZ7wiC53oVsyE693', 'service_tier': 'default', 'finish_reason': 'stop', 'logprobs': None}, id='run--99a9c90e-e801-4584-9b25-4d73f889b197-0', usage_metadata={'input_tokens': 238, 'output_tokens': 15, 'total_tokens': 253, 'input_token_details': {'audio': 0, 'cache_read': 0}, 'output_token_details': {'audio': 0, 'reasoning': 0}})}}, 'step': 3, 'parents': {}, 'thread_id': 1}, created_at='2025-05-27T23:41:11.886769+00:00', parent_config={'configurable': {'thread_id': '1', 'checkpoint_ns': '', 'checkpoint_id': '1f03b541-1b2e-61ba-8002-ce3bd203c95e'}}, tasks=(), interrupts=()), StateSnapshot(values={'messages': [HumanMessage(content='What is the product of 56 and 34?', additional_kwargs={}, response_metadata={}, id='8ebf2a0c-6ec7-4e81-8251-95eaf6a7a9f8'), AIMessage(content='', additional_kwargs={'tool_calls': [{'id': 'call_3PHnsjNRbX7JdBYTXASBTBTf', 'function': {'arguments': '{\"a\":56,\"b\":34}', 'name': 'multiply'}, 'type': 'function'}], 'refusal': None}, response_metadata={'token_usage': {'completion_tokens': 17, 'prompt_tokens': 212, 'total_tokens': 229, 'completion_tokens_details': {'accepted_prediction_tokens': 0, 'audio_tokens': 0, 'reasoning_tokens': 0, 'rejected_prediction_tokens': 0}, 'prompt_tokens_details': {'audio_tokens': 0, 'cached_tokens': 0}}, 'model_name': 'gpt-4o-2024-08-06', 'system_fingerprint': 'fp_76544d79cb', 'id': 'chatcmpl-BbyCrDG3SYlWweZPJNEOyZxeevvfH', 'service_tier': 'default', 'finish_reason': 'tool_calls', 'logprobs': None}, id='run--787b4c94-5a65-4a7e-85c9-0332478e4853-0', tool_calls=[{'name': 'multiply', 'args': {'a': 56, 'b': 34}, 'id': 'call_3PHnsjNRbX7JdBYTXASBTBTf', 'type': 'tool_call'}], usage_metadata={'input_tokens': 212, 'output_tokens': 17, 'total_tokens': 229, 'input_token_details': {'audio': 0, 'cache_read': 0}, 'output_token_details': {'audio': 0, 'reasoning': 0}}), ToolMessage(content='1904', name='multiply', id='3a329272-2aa0-41a2-b6c6-3db2e19199a9', tool_call_id='call_3PHnsjNRbX7JdBYTXASBTBTf')]}, next=('assistant',), config={'configurable': {'thread_id': '1', 'checkpoint_ns': '', 'checkpoint_id': '1f03b541-1b2e-61ba-8002-ce3bd203c95e'}}, metadata={'source': 'loop', 'writes': {'tools': {'messages': [ToolMessage(content='1904', name='multiply', id='3a329272-2aa0-41a2-b6c6-3db2e19199a9', tool_call_id='call_3PHnsjNRbX7JdBYTXASBTBTf')]}}, 'step': 2, 'parents': {}, 'thread_id': 1}, created_at='2025-05-27T23:41:10.871282+00:00', parent_config={'configurable': {'thread_id': '1', 'checkpoint_ns': '', 'checkpoint_id': '1f03b541-1b25-645c-8001-1d25ffbd3463'}}, tasks=(PregelTask(id='03d02ce1-4116-2192-727e-17bfeb26757c', name='assistant', path=('__pregel_pull', 'assistant'), error=None, interrupts=(), state=None, result={'messages': AIMessage(content='The product of 56 and 34 is 1,904.', additional_kwargs={'refusal': None}, response_metadata={'token_usage': {'completion_tokens': 15, 'prompt_tokens': 238, 'total_tokens': 253, 'completion_tokens_details': {'accepted_prediction_tokens': 0, 'audio_tokens': 0, 'reasoning_tokens': 0, 'rejected_prediction_tokens': 0}, 'prompt_tokens_details': {'audio_tokens': 0, 'cached_tokens': 0}}, 'model_name': 'gpt-4o-2024-08-06', 'system_fingerprint': 'fp_76544d79cb', 'id': 'chatcmpl-BbyCtaG0boDGANZ7wiC53oVsyE693', 'service_tier': 'default', 'finish_reason': 'stop', 'logprobs': None}, id='run--99a9c90e-e801-4584-9b25-4d73f889b197-0', usage_metadata={'input_tokens': 238, 'output_tokens': 15, 'total_tokens': 253, 'input_token_details': {'audio': 0, 'cache_read': 0}, 'output_token_details': {'audio': 0, 'reasoning': 0}})}),), interrupts=()), StateSnapshot(values={'messages': [HumanMessage(content='What is the product of 56 and 34?', additional_kwargs={}, response_metadata={}, id='8ebf2a0c-6ec7-4e81-8251-95eaf6a7a9f8'), AIMessage(content='', additional_kwargs={'tool_calls': [{'id': 'call_3PHnsjNRbX7JdBYTXASBTBTf', 'function': {'arguments': '{\"a\":56,\"b\":34}', 'name': 'multiply'}, 'type': 'function'}], 'refusal': None}, response_metadata={'token_usage': {'completion_tokens': 17, 'prompt_tokens': 212, 'total_tokens': 229, 'completion_tokens_details': {'accepted_prediction_tokens': 0, 'audio_tokens': 0, 'reasoning_tokens': 0, 'rejected_prediction_tokens': 0}, 'prompt_tokens_details': {'audio_tokens': 0, 'cached_tokens': 0}}, 'model_name': 'gpt-4o-2024-08-06', 'system_fingerprint': 'fp_76544d79cb', 'id': 'chatcmpl-BbyCrDG3SYlWweZPJNEOyZxeevvfH', 'service_tier': 'default', 'finish_reason': 'tool_calls', 'logprobs': None}, id='run--787b4c94-5a65-4a7e-85c9-0332478e4853-0', tool_calls=[{'name': 'multiply', 'args': {'a': 56, 'b': 34}, 'id': 'call_3PHnsjNRbX7JdBYTXASBTBTf', 'type': 'tool_call'}], usage_metadata={'input_tokens': 212, 'output_tokens': 17, 'total_tokens': 229, 'input_token_details': {'audio': 0, 'cache_read': 0}, 'output_token_details': {'audio': 0, 'reasoning': 0}})]}, next=('tools',), config={'configurable': {'thread_id': '1', 'checkpoint_ns': '', 'checkpoint_id': '1f03b541-1b25-645c-8001-1d25ffbd3463'}}, metadata={'source': 'loop', 'writes': {'assistant': {'messages': AIMessage(content='', additional_kwargs={'tool_calls': [{'id': 'call_3PHnsjNRbX7JdBYTXASBTBTf', 'function': {'arguments': '{\"a\":56,\"b\":34}', 'name': 'multiply'}, 'type': 'function'}], 'refusal': None}, response_metadata={'token_usage': {'completion_tokens': 17, 'prompt_tokens': 212, 'total_tokens': 229, 'completion_tokens_details': {'accepted_prediction_tokens': 0, 'audio_tokens': 0, 'reasoning_tokens': 0, 'rejected_prediction_tokens': 0}, 'prompt_tokens_details': {'audio_tokens': 0, 'cached_tokens': 0}}, 'model_name': 'gpt-4o-2024-08-06', 'system_fingerprint': 'fp_76544d79cb', 'id': 'chatcmpl-BbyCrDG3SYlWweZPJNEOyZxeevvfH', 'service_tier': 'default', 'finish_reason': 'tool_calls', 'logprobs': None}, id='run--787b4c94-5a65-4a7e-85c9-0332478e4853-0', tool_calls=[{'name': 'multiply', 'args': {'a': 56, 'b': 34}, 'id': 'call_3PHnsjNRbX7JdBYTXASBTBTf', 'type': 'tool_call'}], usage_metadata={'input_tokens': 212, 'output_tokens': 17, 'total_tokens': 229, 'input_token_details': {'audio': 0, 'cache_read': 0}, 'output_token_details': {'audio': 0, 'reasoning': 0}})}}, 'step': 1, 'parents': {}, 'thread_id': 1}, created_at='2025-05-27T23:41:10.867659+00:00', parent_config={'configurable': {'thread_id': '1', 'checkpoint_ns': '', 'checkpoint_id': '1f03b541-0cc4-6e80-8000-8d05e9fa9fb0'}}, tasks=(PregelTask(id='2126da40-a3e4-5453-a0f1-defe96272342', name='tools', path=('__pregel_pull', 'tools'), error=None, interrupts=(), state=None, result={'messages': [ToolMessage(content='1904', name='multiply', id='3a329272-2aa0-41a2-b6c6-3db2e19199a9', tool_call_id='call_3PHnsjNRbX7JdBYTXASBTBTf')]}),), interrupts=()), StateSnapshot(values={'messages': [HumanMessage(content='What is the product of 56 and 34?', additional_kwargs={}, response_metadata={}, id='8ebf2a0c-6ec7-4e81-8251-95eaf6a7a9f8')]}, next=('assistant',), config={'configurable': {'thread_id': '1', 'checkpoint_ns': '', 'checkpoint_id': '1f03b541-0cc4-6e80-8000-8d05e9fa9fb0'}}, metadata={'source': 'loop', 'writes': None, 'step': 0, 'parents': {}, 'thread_id': 1}, created_at='2025-05-27T23:41:09.360188+00:00', parent_config={'configurable': {'thread_id': '1', 'checkpoint_ns': '', 'checkpoint_id': '1f03b541-0cc3-6b34-bfff-09c3dd05e19d'}}, tasks=(PregelTask(id='61432d47-d116-915b-fa46-64bd4b666d29', name='assistant', path=('__pregel_pull', 'assistant'), error=None, interrupts=(), state=None, result={'messages': AIMessage(content='', additional_kwargs={'tool_calls': [{'id': 'call_3PHnsjNRbX7JdBYTXASBTBTf', 'function': {'arguments': '{\"a\":56,\"b\":34}', 'name': 'multiply'}, 'type': 'function'}], 'refusal': None}, response_metadata={'token_usage': {'completion_tokens': 17, 'prompt_tokens': 212, 'total_tokens': 229, 'completion_tokens_details': {'accepted_prediction_tokens': 0, 'audio_tokens': 0, 'reasoning_tokens': 0, 'rejected_prediction_tokens': 0}, 'prompt_tokens_details': {'audio_tokens': 0, 'cached_tokens': 0}}, 'model_name': 'gpt-4o-2024-08-06', 'system_fingerprint': 'fp_76544d79cb', 'id': 'chatcmpl-BbyCrDG3SYlWweZPJNEOyZxeevvfH', 'service_tier': 'default', 'finish_reason': 'tool_calls', 'logprobs': None}, id='run--787b4c94-5a65-4a7e-85c9-0332478e4853-0', tool_calls=[{'name': 'multiply', 'args': {'a': 56, 'b': 34}, 'id': 'call_3PHnsjNRbX7JdBYTXASBTBTf', 'type': 'tool_call'}], usage_metadata={'input_tokens': 212, 'output_tokens': 17, 'total_tokens': 229, 'input_token_details': {'audio': 0, 'cache_read': 0}, 'output_token_details': {'audio': 0, 'reasoning': 0}})}),), interrupts=()), StateSnapshot(values={'messages': []}, next=('__start__',), config={'configurable': {'thread_id': '1', 'checkpoint_ns': '', 'checkpoint_id': '1f03b541-0cc3-6b34-bfff-09c3dd05e19d'}}, metadata={'source': 'input', 'writes': {'__start__': {'messages': [HumanMessage(content='What is the product of 56 and 34?', additional_kwargs={}, response_metadata={})]}}, 'step': -1, 'parents': {}, 'thread_id': 1}, created_at='2025-05-27T23:41:09.359693+00:00', parent_config=None, tasks=(PregelTask(id='5b90a438-e181-27eb-17c4-90c0dfc87a19', name='__start__', path=('__pregel_pull', '__start__'), error=None, interrupts=(), state=None, result={'messages': [HumanMessage(content='What is the product of 56 and 34?', additional_kwargs={}, response_metadata={})]}),), interrupts=())]\n",
      "Number of states: 8\n"
     ]
    }
   ],
   "source": [
    "# Get state history after replay\n",
    "history = [ s for s in graph.get_state_history(thread)]\n",
    "print(\"States:\")\n",
    "print(history)\n",
    "print(f\"Number of states: {len(history)}\")"
   ]
  },
  {
   "cell_type": "markdown",
   "id": "f7ca7e7a",
   "metadata": {},
   "source": [
    "## Forking"
   ]
  },
  {
   "cell_type": "code",
   "execution_count": 10,
   "id": "8b9fbc42",
   "metadata": {},
   "outputs": [
    {
     "data": {
      "text/plain": [
       "[HumanMessage(content='What is the product of 56 and 34?', additional_kwargs={}, response_metadata={}, id='8ebf2a0c-6ec7-4e81-8251-95eaf6a7a9f8')]"
      ]
     },
     "execution_count": 10,
     "metadata": {},
     "output_type": "execute_result"
    }
   ],
   "source": [
    "# Get message to fork\n",
    "to_fork = history[-2]\n",
    "to_fork.values[\"messages\"]"
   ]
  },
  {
   "cell_type": "code",
   "execution_count": 21,
   "id": "d241eb74",
   "metadata": {},
   "outputs": [
    {
     "data": {
      "text/plain": [
       "{'configurable': {'thread_id': '1',\n",
       "  'checkpoint_ns': '',\n",
       "  'checkpoint_id': '1f03b4f4-5397-6314-8000-df78f1aac30f'}}"
      ]
     },
     "execution_count": 21,
     "metadata": {},
     "output_type": "execute_result"
    }
   ],
   "source": [
    "# View fork config\n",
    "to_fork.config"
   ]
  },
  {
   "cell_type": "code",
   "execution_count": 11,
   "id": "728f8745",
   "metadata": {},
   "outputs": [
    {
     "data": {
      "text/plain": [
       "{'configurable': {'thread_id': '1',\n",
       "  'checkpoint_ns': '',\n",
       "  'checkpoint_id': '1f03b545-e5d2-64d0-8001-f4603461a002'}}"
      ]
     },
     "execution_count": 11,
     "metadata": {},
     "output_type": "execute_result"
    }
   ],
   "source": [
    "# Create a forked checkpoint\n",
    "forked_config = graph.update_state(to_fork.config, \n",
    "                                   {\"messages\": [HumanMessage(content=\"What is the sum of 10 and 5?\",\n",
    "                                                              id=to_fork.values[\"messages\"][0].id)]})\n",
    "forked_config"
   ]
  },
  {
   "cell_type": "code",
   "execution_count": 12,
   "id": "be95d391",
   "metadata": {},
   "outputs": [
    {
     "data": {
      "text/plain": [
       "[StateSnapshot(values={'messages': [HumanMessage(content='What is the sum of 10 and 5?', additional_kwargs={}, response_metadata={}, id='8ebf2a0c-6ec7-4e81-8251-95eaf6a7a9f8')]}, next=('assistant',), config={'configurable': {'thread_id': '1', 'checkpoint_ns': '', 'checkpoint_id': '1f03b545-e5d2-64d0-8001-f4603461a002'}}, metadata={'source': 'update', 'writes': {'__start__': {'messages': [HumanMessage(content='What is the sum of 10 and 5?', additional_kwargs={}, response_metadata={}, id='8ebf2a0c-6ec7-4e81-8251-95eaf6a7a9f8')]}}, 'step': 1, 'parents': {}, 'thread_id': '1', 'checkpoint_ns': '', 'checkpoint_id': '1f03b541-0cc4-6e80-8000-8d05e9fa9fb0'}, created_at='2025-05-27T23:43:19.493946+00:00', parent_config={'configurable': {'thread_id': '1', 'checkpoint_ns': '', 'checkpoint_id': '1f03b541-0cc4-6e80-8000-8d05e9fa9fb0'}}, tasks=(PregelTask(id='79bf3516-c4ce-8b0d-afa4-e437bbb42ecc', name='assistant', path=('__pregel_pull', 'assistant'), error=None, interrupts=(), state=None, result=None),), interrupts=()),\n",
       " StateSnapshot(values={'messages': [HumanMessage(content='What is the product of 56 and 34?', additional_kwargs={}, response_metadata={}, id='8ebf2a0c-6ec7-4e81-8251-95eaf6a7a9f8'), AIMessage(content='', additional_kwargs={'tool_calls': [{'id': 'call_eRTw3Ujhxe2UvAmk7wPywnnH', 'function': {'arguments': '{\"a\":56,\"b\":34}', 'name': 'multiply'}, 'type': 'function'}], 'refusal': None}, response_metadata={'token_usage': {'completion_tokens': 17, 'prompt_tokens': 212, 'total_tokens': 229, 'completion_tokens_details': {'accepted_prediction_tokens': 0, 'audio_tokens': 0, 'reasoning_tokens': 0, 'rejected_prediction_tokens': 0}, 'prompt_tokens_details': {'audio_tokens': 0, 'cached_tokens': 0}}, 'model_name': 'gpt-4o-2024-08-06', 'system_fingerprint': 'fp_76544d79cb', 'id': 'chatcmpl-BbyD5NoMCcUtb7yiCrRnOeWotAtZ9', 'service_tier': 'default', 'finish_reason': 'tool_calls', 'logprobs': None}, id='run--09331abd-b8ca-4867-976c-8e5b263aebd7-0', tool_calls=[{'name': 'multiply', 'args': {'a': 56, 'b': 34}, 'id': 'call_eRTw3Ujhxe2UvAmk7wPywnnH', 'type': 'tool_call'}], usage_metadata={'input_tokens': 212, 'output_tokens': 17, 'total_tokens': 229, 'input_token_details': {'audio': 0, 'cache_read': 0}, 'output_token_details': {'audio': 0, 'reasoning': 0}}), ToolMessage(content='1904', name='multiply', id='b051acde-b6a6-4984-b412-380c51e6e969', tool_call_id='call_eRTw3Ujhxe2UvAmk7wPywnnH'), AIMessage(content='The product of 56 and 34 is 1904.', additional_kwargs={'refusal': None}, response_metadata={'token_usage': {'completion_tokens': 14, 'prompt_tokens': 238, 'total_tokens': 252, 'completion_tokens_details': {'accepted_prediction_tokens': 0, 'audio_tokens': 0, 'reasoning_tokens': 0, 'rejected_prediction_tokens': 0}, 'prompt_tokens_details': {'audio_tokens': 0, 'cached_tokens': 0}}, 'model_name': 'gpt-4o-2024-08-06', 'system_fingerprint': 'fp_76544d79cb', 'id': 'chatcmpl-BbyD6caK3CxPvUl8VcWEwa6xpungA', 'service_tier': 'default', 'finish_reason': 'stop', 'logprobs': None}, id='run--0b240db7-29ad-4ab5-a434-2dd4d54e683a-0', usage_metadata={'input_tokens': 238, 'output_tokens': 14, 'total_tokens': 252, 'input_token_details': {'audio': 0, 'cache_read': 0}, 'output_token_details': {'audio': 0, 'reasoning': 0}})]}, next=(), config={'configurable': {'thread_id': '1', 'checkpoint_ns': '', 'checkpoint_id': '1f03b541-9ff2-670c-8003-baa736529899'}}, metadata={'source': 'loop', 'writes': {'assistant': {'messages': AIMessage(content='The product of 56 and 34 is 1904.', additional_kwargs={'refusal': None}, response_metadata={'token_usage': {'completion_tokens': 14, 'prompt_tokens': 238, 'total_tokens': 252, 'completion_tokens_details': {'accepted_prediction_tokens': 0, 'audio_tokens': 0, 'reasoning_tokens': 0, 'rejected_prediction_tokens': 0}, 'prompt_tokens_details': {'audio_tokens': 0, 'cached_tokens': 0}}, 'model_name': 'gpt-4o-2024-08-06', 'system_fingerprint': 'fp_76544d79cb', 'id': 'chatcmpl-BbyD6caK3CxPvUl8VcWEwa6xpungA', 'service_tier': 'default', 'finish_reason': 'stop', 'logprobs': None}, id='run--0b240db7-29ad-4ab5-a434-2dd4d54e683a-0', usage_metadata={'input_tokens': 238, 'output_tokens': 14, 'total_tokens': 252, 'input_token_details': {'audio': 0, 'cache_read': 0}, 'output_token_details': {'audio': 0, 'reasoning': 0}})}}, 'step': 3, 'parents': {}, 'thread_id': '1'}, created_at='2025-05-27T23:41:24.792906+00:00', parent_config={'configurable': {'thread_id': '1', 'checkpoint_ns': '', 'checkpoint_id': '1f03b541-9618-6d44-8002-ba773d0fe52e'}}, tasks=(), interrupts=()),\n",
       " StateSnapshot(values={'messages': [HumanMessage(content='What is the product of 56 and 34?', additional_kwargs={}, response_metadata={}, id='8ebf2a0c-6ec7-4e81-8251-95eaf6a7a9f8'), AIMessage(content='', additional_kwargs={'tool_calls': [{'id': 'call_eRTw3Ujhxe2UvAmk7wPywnnH', 'function': {'arguments': '{\"a\":56,\"b\":34}', 'name': 'multiply'}, 'type': 'function'}], 'refusal': None}, response_metadata={'token_usage': {'completion_tokens': 17, 'prompt_tokens': 212, 'total_tokens': 229, 'completion_tokens_details': {'accepted_prediction_tokens': 0, 'audio_tokens': 0, 'reasoning_tokens': 0, 'rejected_prediction_tokens': 0}, 'prompt_tokens_details': {'audio_tokens': 0, 'cached_tokens': 0}}, 'model_name': 'gpt-4o-2024-08-06', 'system_fingerprint': 'fp_76544d79cb', 'id': 'chatcmpl-BbyD5NoMCcUtb7yiCrRnOeWotAtZ9', 'service_tier': 'default', 'finish_reason': 'tool_calls', 'logprobs': None}, id='run--09331abd-b8ca-4867-976c-8e5b263aebd7-0', tool_calls=[{'name': 'multiply', 'args': {'a': 56, 'b': 34}, 'id': 'call_eRTw3Ujhxe2UvAmk7wPywnnH', 'type': 'tool_call'}], usage_metadata={'input_tokens': 212, 'output_tokens': 17, 'total_tokens': 229, 'input_token_details': {'audio': 0, 'cache_read': 0}, 'output_token_details': {'audio': 0, 'reasoning': 0}}), ToolMessage(content='1904', name='multiply', id='b051acde-b6a6-4984-b412-380c51e6e969', tool_call_id='call_eRTw3Ujhxe2UvAmk7wPywnnH')]}, next=('assistant',), config={'configurable': {'thread_id': '1', 'checkpoint_ns': '', 'checkpoint_id': '1f03b541-9618-6d44-8002-ba773d0fe52e'}}, metadata={'source': 'loop', 'writes': {'tools': {'messages': [ToolMessage(content='1904', name='multiply', id='b051acde-b6a6-4984-b412-380c51e6e969', tool_call_id='call_eRTw3Ujhxe2UvAmk7wPywnnH')]}}, 'step': 2, 'parents': {}, 'thread_id': '1'}, created_at='2025-05-27T23:41:23.760048+00:00', parent_config={'configurable': {'thread_id': '1', 'checkpoint_ns': '', 'checkpoint_id': '1f03b541-960e-66a0-8001-d8b9e130683b'}}, tasks=(PregelTask(id='12df652e-aaa7-60ad-7cdf-8a5a57a3f680', name='assistant', path=('__pregel_pull', 'assistant'), error=None, interrupts=(), state=None, result={'messages': AIMessage(content='The product of 56 and 34 is 1904.', additional_kwargs={'refusal': None}, response_metadata={'token_usage': {'completion_tokens': 14, 'prompt_tokens': 238, 'total_tokens': 252, 'completion_tokens_details': {'accepted_prediction_tokens': 0, 'audio_tokens': 0, 'reasoning_tokens': 0, 'rejected_prediction_tokens': 0}, 'prompt_tokens_details': {'audio_tokens': 0, 'cached_tokens': 0}}, 'model_name': 'gpt-4o-2024-08-06', 'system_fingerprint': 'fp_76544d79cb', 'id': 'chatcmpl-BbyD6caK3CxPvUl8VcWEwa6xpungA', 'service_tier': 'default', 'finish_reason': 'stop', 'logprobs': None}, id='run--0b240db7-29ad-4ab5-a434-2dd4d54e683a-0', usage_metadata={'input_tokens': 238, 'output_tokens': 14, 'total_tokens': 252, 'input_token_details': {'audio': 0, 'cache_read': 0}, 'output_token_details': {'audio': 0, 'reasoning': 0}})}),), interrupts=()),\n",
       " StateSnapshot(values={'messages': [HumanMessage(content='What is the product of 56 and 34?', additional_kwargs={}, response_metadata={}, id='8ebf2a0c-6ec7-4e81-8251-95eaf6a7a9f8'), AIMessage(content='', additional_kwargs={'tool_calls': [{'id': 'call_eRTw3Ujhxe2UvAmk7wPywnnH', 'function': {'arguments': '{\"a\":56,\"b\":34}', 'name': 'multiply'}, 'type': 'function'}], 'refusal': None}, response_metadata={'token_usage': {'completion_tokens': 17, 'prompt_tokens': 212, 'total_tokens': 229, 'completion_tokens_details': {'accepted_prediction_tokens': 0, 'audio_tokens': 0, 'reasoning_tokens': 0, 'rejected_prediction_tokens': 0}, 'prompt_tokens_details': {'audio_tokens': 0, 'cached_tokens': 0}}, 'model_name': 'gpt-4o-2024-08-06', 'system_fingerprint': 'fp_76544d79cb', 'id': 'chatcmpl-BbyD5NoMCcUtb7yiCrRnOeWotAtZ9', 'service_tier': 'default', 'finish_reason': 'tool_calls', 'logprobs': None}, id='run--09331abd-b8ca-4867-976c-8e5b263aebd7-0', tool_calls=[{'name': 'multiply', 'args': {'a': 56, 'b': 34}, 'id': 'call_eRTw3Ujhxe2UvAmk7wPywnnH', 'type': 'tool_call'}], usage_metadata={'input_tokens': 212, 'output_tokens': 17, 'total_tokens': 229, 'input_token_details': {'audio': 0, 'cache_read': 0}, 'output_token_details': {'audio': 0, 'reasoning': 0}})]}, next=('tools',), config={'configurable': {'thread_id': '1', 'checkpoint_ns': '', 'checkpoint_id': '1f03b541-960e-66a0-8001-d8b9e130683b'}}, metadata={'source': 'loop', 'writes': {'assistant': {'messages': AIMessage(content='', additional_kwargs={'tool_calls': [{'id': 'call_eRTw3Ujhxe2UvAmk7wPywnnH', 'function': {'arguments': '{\"a\":56,\"b\":34}', 'name': 'multiply'}, 'type': 'function'}], 'refusal': None}, response_metadata={'token_usage': {'completion_tokens': 17, 'prompt_tokens': 212, 'total_tokens': 229, 'completion_tokens_details': {'accepted_prediction_tokens': 0, 'audio_tokens': 0, 'reasoning_tokens': 0, 'rejected_prediction_tokens': 0}, 'prompt_tokens_details': {'audio_tokens': 0, 'cached_tokens': 0}}, 'model_name': 'gpt-4o-2024-08-06', 'system_fingerprint': 'fp_76544d79cb', 'id': 'chatcmpl-BbyD5NoMCcUtb7yiCrRnOeWotAtZ9', 'service_tier': 'default', 'finish_reason': 'tool_calls', 'logprobs': None}, id='run--09331abd-b8ca-4867-976c-8e5b263aebd7-0', tool_calls=[{'name': 'multiply', 'args': {'a': 56, 'b': 34}, 'id': 'call_eRTw3Ujhxe2UvAmk7wPywnnH', 'type': 'tool_call'}], usage_metadata={'input_tokens': 212, 'output_tokens': 17, 'total_tokens': 229, 'input_token_details': {'audio': 0, 'cache_read': 0}, 'output_token_details': {'audio': 0, 'reasoning': 0}})}}, 'step': 1, 'parents': {}, 'thread_id': '1'}, created_at='2025-05-27T23:41:23.755773+00:00', parent_config={'configurable': {'thread_id': '1', 'checkpoint_ns': '', 'checkpoint_id': '1f03b541-0cc4-6e80-8000-8d05e9fa9fb0'}}, tasks=(PregelTask(id='cf07769c-6d4b-f7ef-c7f7-ff8e5a72df01', name='tools', path=('__pregel_pull', 'tools'), error=None, interrupts=(), state=None, result={'messages': [ToolMessage(content='1904', name='multiply', id='b051acde-b6a6-4984-b412-380c51e6e969', tool_call_id='call_eRTw3Ujhxe2UvAmk7wPywnnH')]}),), interrupts=()),\n",
       " StateSnapshot(values={'messages': [HumanMessage(content='What is the product of 56 and 34?', additional_kwargs={}, response_metadata={}, id='8ebf2a0c-6ec7-4e81-8251-95eaf6a7a9f8'), AIMessage(content='', additional_kwargs={'tool_calls': [{'id': 'call_3PHnsjNRbX7JdBYTXASBTBTf', 'function': {'arguments': '{\"a\":56,\"b\":34}', 'name': 'multiply'}, 'type': 'function'}], 'refusal': None}, response_metadata={'token_usage': {'completion_tokens': 17, 'prompt_tokens': 212, 'total_tokens': 229, 'completion_tokens_details': {'accepted_prediction_tokens': 0, 'audio_tokens': 0, 'reasoning_tokens': 0, 'rejected_prediction_tokens': 0}, 'prompt_tokens_details': {'audio_tokens': 0, 'cached_tokens': 0}}, 'model_name': 'gpt-4o-2024-08-06', 'system_fingerprint': 'fp_76544d79cb', 'id': 'chatcmpl-BbyCrDG3SYlWweZPJNEOyZxeevvfH', 'service_tier': 'default', 'finish_reason': 'tool_calls', 'logprobs': None}, id='run--787b4c94-5a65-4a7e-85c9-0332478e4853-0', tool_calls=[{'name': 'multiply', 'args': {'a': 56, 'b': 34}, 'id': 'call_3PHnsjNRbX7JdBYTXASBTBTf', 'type': 'tool_call'}], usage_metadata={'input_tokens': 212, 'output_tokens': 17, 'total_tokens': 229, 'input_token_details': {'audio': 0, 'cache_read': 0}, 'output_token_details': {'audio': 0, 'reasoning': 0}}), ToolMessage(content='1904', name='multiply', id='3a329272-2aa0-41a2-b6c6-3db2e19199a9', tool_call_id='call_3PHnsjNRbX7JdBYTXASBTBTf'), AIMessage(content='The product of 56 and 34 is 1,904.', additional_kwargs={'refusal': None}, response_metadata={'token_usage': {'completion_tokens': 15, 'prompt_tokens': 238, 'total_tokens': 253, 'completion_tokens_details': {'accepted_prediction_tokens': 0, 'audio_tokens': 0, 'reasoning_tokens': 0, 'rejected_prediction_tokens': 0}, 'prompt_tokens_details': {'audio_tokens': 0, 'cached_tokens': 0}}, 'model_name': 'gpt-4o-2024-08-06', 'system_fingerprint': 'fp_76544d79cb', 'id': 'chatcmpl-BbyCtaG0boDGANZ7wiC53oVsyE693', 'service_tier': 'default', 'finish_reason': 'stop', 'logprobs': None}, id='run--99a9c90e-e801-4584-9b25-4d73f889b197-0', usage_metadata={'input_tokens': 238, 'output_tokens': 15, 'total_tokens': 253, 'input_token_details': {'audio': 0, 'cache_read': 0}, 'output_token_details': {'audio': 0, 'reasoning': 0}})]}, next=(), config={'configurable': {'thread_id': '1', 'checkpoint_ns': '', 'checkpoint_id': '1f03b541-24dd-6562-8003-0bbeefde6276'}}, metadata={'source': 'loop', 'writes': {'assistant': {'messages': AIMessage(content='The product of 56 and 34 is 1,904.', additional_kwargs={'refusal': None}, response_metadata={'token_usage': {'completion_tokens': 15, 'prompt_tokens': 238, 'total_tokens': 253, 'completion_tokens_details': {'accepted_prediction_tokens': 0, 'audio_tokens': 0, 'reasoning_tokens': 0, 'rejected_prediction_tokens': 0}, 'prompt_tokens_details': {'audio_tokens': 0, 'cached_tokens': 0}}, 'model_name': 'gpt-4o-2024-08-06', 'system_fingerprint': 'fp_76544d79cb', 'id': 'chatcmpl-BbyCtaG0boDGANZ7wiC53oVsyE693', 'service_tier': 'default', 'finish_reason': 'stop', 'logprobs': None}, id='run--99a9c90e-e801-4584-9b25-4d73f889b197-0', usage_metadata={'input_tokens': 238, 'output_tokens': 15, 'total_tokens': 253, 'input_token_details': {'audio': 0, 'cache_read': 0}, 'output_token_details': {'audio': 0, 'reasoning': 0}})}}, 'step': 3, 'parents': {}, 'thread_id': 1}, created_at='2025-05-27T23:41:11.886769+00:00', parent_config={'configurable': {'thread_id': '1', 'checkpoint_ns': '', 'checkpoint_id': '1f03b541-1b2e-61ba-8002-ce3bd203c95e'}}, tasks=(), interrupts=()),\n",
       " StateSnapshot(values={'messages': [HumanMessage(content='What is the product of 56 and 34?', additional_kwargs={}, response_metadata={}, id='8ebf2a0c-6ec7-4e81-8251-95eaf6a7a9f8'), AIMessage(content='', additional_kwargs={'tool_calls': [{'id': 'call_3PHnsjNRbX7JdBYTXASBTBTf', 'function': {'arguments': '{\"a\":56,\"b\":34}', 'name': 'multiply'}, 'type': 'function'}], 'refusal': None}, response_metadata={'token_usage': {'completion_tokens': 17, 'prompt_tokens': 212, 'total_tokens': 229, 'completion_tokens_details': {'accepted_prediction_tokens': 0, 'audio_tokens': 0, 'reasoning_tokens': 0, 'rejected_prediction_tokens': 0}, 'prompt_tokens_details': {'audio_tokens': 0, 'cached_tokens': 0}}, 'model_name': 'gpt-4o-2024-08-06', 'system_fingerprint': 'fp_76544d79cb', 'id': 'chatcmpl-BbyCrDG3SYlWweZPJNEOyZxeevvfH', 'service_tier': 'default', 'finish_reason': 'tool_calls', 'logprobs': None}, id='run--787b4c94-5a65-4a7e-85c9-0332478e4853-0', tool_calls=[{'name': 'multiply', 'args': {'a': 56, 'b': 34}, 'id': 'call_3PHnsjNRbX7JdBYTXASBTBTf', 'type': 'tool_call'}], usage_metadata={'input_tokens': 212, 'output_tokens': 17, 'total_tokens': 229, 'input_token_details': {'audio': 0, 'cache_read': 0}, 'output_token_details': {'audio': 0, 'reasoning': 0}}), ToolMessage(content='1904', name='multiply', id='3a329272-2aa0-41a2-b6c6-3db2e19199a9', tool_call_id='call_3PHnsjNRbX7JdBYTXASBTBTf')]}, next=('assistant',), config={'configurable': {'thread_id': '1', 'checkpoint_ns': '', 'checkpoint_id': '1f03b541-1b2e-61ba-8002-ce3bd203c95e'}}, metadata={'source': 'loop', 'writes': {'tools': {'messages': [ToolMessage(content='1904', name='multiply', id='3a329272-2aa0-41a2-b6c6-3db2e19199a9', tool_call_id='call_3PHnsjNRbX7JdBYTXASBTBTf')]}}, 'step': 2, 'parents': {}, 'thread_id': 1}, created_at='2025-05-27T23:41:10.871282+00:00', parent_config={'configurable': {'thread_id': '1', 'checkpoint_ns': '', 'checkpoint_id': '1f03b541-1b25-645c-8001-1d25ffbd3463'}}, tasks=(PregelTask(id='03d02ce1-4116-2192-727e-17bfeb26757c', name='assistant', path=('__pregel_pull', 'assistant'), error=None, interrupts=(), state=None, result={'messages': AIMessage(content='The product of 56 and 34 is 1,904.', additional_kwargs={'refusal': None}, response_metadata={'token_usage': {'completion_tokens': 15, 'prompt_tokens': 238, 'total_tokens': 253, 'completion_tokens_details': {'accepted_prediction_tokens': 0, 'audio_tokens': 0, 'reasoning_tokens': 0, 'rejected_prediction_tokens': 0}, 'prompt_tokens_details': {'audio_tokens': 0, 'cached_tokens': 0}}, 'model_name': 'gpt-4o-2024-08-06', 'system_fingerprint': 'fp_76544d79cb', 'id': 'chatcmpl-BbyCtaG0boDGANZ7wiC53oVsyE693', 'service_tier': 'default', 'finish_reason': 'stop', 'logprobs': None}, id='run--99a9c90e-e801-4584-9b25-4d73f889b197-0', usage_metadata={'input_tokens': 238, 'output_tokens': 15, 'total_tokens': 253, 'input_token_details': {'audio': 0, 'cache_read': 0}, 'output_token_details': {'audio': 0, 'reasoning': 0}})}),), interrupts=()),\n",
       " StateSnapshot(values={'messages': [HumanMessage(content='What is the product of 56 and 34?', additional_kwargs={}, response_metadata={}, id='8ebf2a0c-6ec7-4e81-8251-95eaf6a7a9f8'), AIMessage(content='', additional_kwargs={'tool_calls': [{'id': 'call_3PHnsjNRbX7JdBYTXASBTBTf', 'function': {'arguments': '{\"a\":56,\"b\":34}', 'name': 'multiply'}, 'type': 'function'}], 'refusal': None}, response_metadata={'token_usage': {'completion_tokens': 17, 'prompt_tokens': 212, 'total_tokens': 229, 'completion_tokens_details': {'accepted_prediction_tokens': 0, 'audio_tokens': 0, 'reasoning_tokens': 0, 'rejected_prediction_tokens': 0}, 'prompt_tokens_details': {'audio_tokens': 0, 'cached_tokens': 0}}, 'model_name': 'gpt-4o-2024-08-06', 'system_fingerprint': 'fp_76544d79cb', 'id': 'chatcmpl-BbyCrDG3SYlWweZPJNEOyZxeevvfH', 'service_tier': 'default', 'finish_reason': 'tool_calls', 'logprobs': None}, id='run--787b4c94-5a65-4a7e-85c9-0332478e4853-0', tool_calls=[{'name': 'multiply', 'args': {'a': 56, 'b': 34}, 'id': 'call_3PHnsjNRbX7JdBYTXASBTBTf', 'type': 'tool_call'}], usage_metadata={'input_tokens': 212, 'output_tokens': 17, 'total_tokens': 229, 'input_token_details': {'audio': 0, 'cache_read': 0}, 'output_token_details': {'audio': 0, 'reasoning': 0}})]}, next=('tools',), config={'configurable': {'thread_id': '1', 'checkpoint_ns': '', 'checkpoint_id': '1f03b541-1b25-645c-8001-1d25ffbd3463'}}, metadata={'source': 'loop', 'writes': {'assistant': {'messages': AIMessage(content='', additional_kwargs={'tool_calls': [{'id': 'call_3PHnsjNRbX7JdBYTXASBTBTf', 'function': {'arguments': '{\"a\":56,\"b\":34}', 'name': 'multiply'}, 'type': 'function'}], 'refusal': None}, response_metadata={'token_usage': {'completion_tokens': 17, 'prompt_tokens': 212, 'total_tokens': 229, 'completion_tokens_details': {'accepted_prediction_tokens': 0, 'audio_tokens': 0, 'reasoning_tokens': 0, 'rejected_prediction_tokens': 0}, 'prompt_tokens_details': {'audio_tokens': 0, 'cached_tokens': 0}}, 'model_name': 'gpt-4o-2024-08-06', 'system_fingerprint': 'fp_76544d79cb', 'id': 'chatcmpl-BbyCrDG3SYlWweZPJNEOyZxeevvfH', 'service_tier': 'default', 'finish_reason': 'tool_calls', 'logprobs': None}, id='run--787b4c94-5a65-4a7e-85c9-0332478e4853-0', tool_calls=[{'name': 'multiply', 'args': {'a': 56, 'b': 34}, 'id': 'call_3PHnsjNRbX7JdBYTXASBTBTf', 'type': 'tool_call'}], usage_metadata={'input_tokens': 212, 'output_tokens': 17, 'total_tokens': 229, 'input_token_details': {'audio': 0, 'cache_read': 0}, 'output_token_details': {'audio': 0, 'reasoning': 0}})}}, 'step': 1, 'parents': {}, 'thread_id': 1}, created_at='2025-05-27T23:41:10.867659+00:00', parent_config={'configurable': {'thread_id': '1', 'checkpoint_ns': '', 'checkpoint_id': '1f03b541-0cc4-6e80-8000-8d05e9fa9fb0'}}, tasks=(PregelTask(id='2126da40-a3e4-5453-a0f1-defe96272342', name='tools', path=('__pregel_pull', 'tools'), error=None, interrupts=(), state=None, result={'messages': [ToolMessage(content='1904', name='multiply', id='3a329272-2aa0-41a2-b6c6-3db2e19199a9', tool_call_id='call_3PHnsjNRbX7JdBYTXASBTBTf')]}),), interrupts=()),\n",
       " StateSnapshot(values={'messages': [HumanMessage(content='What is the product of 56 and 34?', additional_kwargs={}, response_metadata={}, id='8ebf2a0c-6ec7-4e81-8251-95eaf6a7a9f8')]}, next=('assistant',), config={'configurable': {'thread_id': '1', 'checkpoint_ns': '', 'checkpoint_id': '1f03b541-0cc4-6e80-8000-8d05e9fa9fb0'}}, metadata={'source': 'loop', 'writes': None, 'step': 0, 'parents': {}, 'thread_id': 1}, created_at='2025-05-27T23:41:09.360188+00:00', parent_config={'configurable': {'thread_id': '1', 'checkpoint_ns': '', 'checkpoint_id': '1f03b541-0cc3-6b34-bfff-09c3dd05e19d'}}, tasks=(PregelTask(id='61432d47-d116-915b-fa46-64bd4b666d29', name='assistant', path=('__pregel_pull', 'assistant'), error=None, interrupts=(), state=None, result={'messages': AIMessage(content='', additional_kwargs={'tool_calls': [{'id': 'call_3PHnsjNRbX7JdBYTXASBTBTf', 'function': {'arguments': '{\"a\":56,\"b\":34}', 'name': 'multiply'}, 'type': 'function'}], 'refusal': None}, response_metadata={'token_usage': {'completion_tokens': 17, 'prompt_tokens': 212, 'total_tokens': 229, 'completion_tokens_details': {'accepted_prediction_tokens': 0, 'audio_tokens': 0, 'reasoning_tokens': 0, 'rejected_prediction_tokens': 0}, 'prompt_tokens_details': {'audio_tokens': 0, 'cached_tokens': 0}}, 'model_name': 'gpt-4o-2024-08-06', 'system_fingerprint': 'fp_76544d79cb', 'id': 'chatcmpl-BbyCrDG3SYlWweZPJNEOyZxeevvfH', 'service_tier': 'default', 'finish_reason': 'tool_calls', 'logprobs': None}, id='run--787b4c94-5a65-4a7e-85c9-0332478e4853-0', tool_calls=[{'name': 'multiply', 'args': {'a': 56, 'b': 34}, 'id': 'call_3PHnsjNRbX7JdBYTXASBTBTf', 'type': 'tool_call'}], usage_metadata={'input_tokens': 212, 'output_tokens': 17, 'total_tokens': 229, 'input_token_details': {'audio': 0, 'cache_read': 0}, 'output_token_details': {'audio': 0, 'reasoning': 0}})}),), interrupts=()),\n",
       " StateSnapshot(values={'messages': []}, next=('__start__',), config={'configurable': {'thread_id': '1', 'checkpoint_ns': '', 'checkpoint_id': '1f03b541-0cc3-6b34-bfff-09c3dd05e19d'}}, metadata={'source': 'input', 'writes': {'__start__': {'messages': [HumanMessage(content='What is the product of 56 and 34?', additional_kwargs={}, response_metadata={})]}}, 'step': -1, 'parents': {}, 'thread_id': 1}, created_at='2025-05-27T23:41:09.359693+00:00', parent_config=None, tasks=(PregelTask(id='5b90a438-e181-27eb-17c4-90c0dfc87a19', name='__start__', path=('__pregel_pull', '__start__'), error=None, interrupts=(), state=None, result={'messages': [HumanMessage(content='What is the product of 56 and 34?', additional_kwargs={}, response_metadata={})]}),), interrupts=())]"
      ]
     },
     "execution_count": 12,
     "metadata": {},
     "output_type": "execute_result"
    }
   ],
   "source": [
    "# Get history after forking\n",
    "history = [ s for s in graph.get_state_history(thread)]\n",
    "history"
   ]
  },
  {
   "cell_type": "code",
   "execution_count": 13,
   "id": "c4eaa7c5",
   "metadata": {},
   "outputs": [
    {
     "name": "stdout",
     "output_type": "stream",
     "text": [
      "================================\u001b[1m Human Message \u001b[0m=================================\n",
      "\n",
      "What is the sum of 10 and 5?\n",
      "==================================\u001b[1m Ai Message \u001b[0m==================================\n",
      "Tool Calls:\n",
      "  add (call_Or1JNhw4RkhZ7GBgVKz83lqM)\n",
      " Call ID: call_Or1JNhw4RkhZ7GBgVKz83lqM\n",
      "  Args:\n",
      "    a: 10\n",
      "    b: 5\n",
      "=================================\u001b[1m Tool Message \u001b[0m=================================\n",
      "Name: add\n",
      "\n",
      "15\n",
      "==================================\u001b[1m Ai Message \u001b[0m==================================\n",
      "\n",
      "The sum of 10 and 5 is 15.\n"
     ]
    }
   ],
   "source": [
    "# Run the graph from the created forked checkpoint\n",
    "for event in graph.stream(None, forked_config, stream_mode=\"values\"):\n",
    "    event[\"messages\"][-1].pretty_print()"
   ]
  },
  {
   "cell_type": "code",
   "execution_count": 15,
   "id": "e2ada3ce",
   "metadata": {},
   "outputs": [
    {
     "data": {
      "text/plain": [
       "StateSnapshot(values={'messages': [HumanMessage(content='What is the sum of 10 and 5?', additional_kwargs={}, response_metadata={}, id='8ebf2a0c-6ec7-4e81-8251-95eaf6a7a9f8'), AIMessage(content='', additional_kwargs={'tool_calls': [{'id': 'call_Or1JNhw4RkhZ7GBgVKz83lqM', 'function': {'arguments': '{\"a\":10,\"b\":5}', 'name': 'add'}, 'type': 'function'}], 'refusal': None}, response_metadata={'token_usage': {'completion_tokens': 17, 'prompt_tokens': 212, 'total_tokens': 229, 'completion_tokens_details': {'accepted_prediction_tokens': 0, 'audio_tokens': 0, 'reasoning_tokens': 0, 'rejected_prediction_tokens': 0}, 'prompt_tokens_details': {'audio_tokens': 0, 'cached_tokens': 0}}, 'model_name': 'gpt-4o-2024-08-06', 'system_fingerprint': 'fp_76544d79cb', 'id': 'chatcmpl-BbyF56vVM781k746w0aFhSucfTbFz', 'service_tier': 'default', 'finish_reason': 'tool_calls', 'logprobs': None}, id='run--b0a6eaea-6cbb-45a9-8d43-211f655a38e9-0', tool_calls=[{'name': 'add', 'args': {'a': 10, 'b': 5}, 'id': 'call_Or1JNhw4RkhZ7GBgVKz83lqM', 'type': 'tool_call'}], usage_metadata={'input_tokens': 212, 'output_tokens': 17, 'total_tokens': 229, 'input_token_details': {'audio': 0, 'cache_read': 0}, 'output_token_details': {'audio': 0, 'reasoning': 0}}), ToolMessage(content='15', name='add', id='8b29a253-7c42-46e2-909f-3f20ebb2aa52', tool_call_id='call_Or1JNhw4RkhZ7GBgVKz83lqM'), AIMessage(content='The sum of 10 and 5 is 15.', additional_kwargs={'refusal': None}, response_metadata={'token_usage': {'completion_tokens': 13, 'prompt_tokens': 237, 'total_tokens': 250, 'completion_tokens_details': {'accepted_prediction_tokens': 0, 'audio_tokens': 0, 'reasoning_tokens': 0, 'rejected_prediction_tokens': 0}, 'prompt_tokens_details': {'audio_tokens': 0, 'cached_tokens': 0}}, 'model_name': 'gpt-4o-2024-08-06', 'system_fingerprint': 'fp_76544d79cb', 'id': 'chatcmpl-BbyF6RS5TylpwWAaA1xbaeCeQrwYC', 'service_tier': 'default', 'finish_reason': 'stop', 'logprobs': None}, id='run--f2defc84-462a-4dcf-ba55-e0f16d04b1b1-0', usage_metadata={'input_tokens': 237, 'output_tokens': 13, 'total_tokens': 250, 'input_token_details': {'audio': 0, 'cache_read': 0}, 'output_token_details': {'audio': 0, 'reasoning': 0}})]}, next=(), config={'configurable': {'thread_id': '1', 'checkpoint_ns': '', 'checkpoint_id': '1f03b546-41cf-6dbe-8004-c6b289919511'}}, metadata={'source': 'loop', 'writes': {'assistant': {'messages': AIMessage(content='The sum of 10 and 5 is 15.', additional_kwargs={'refusal': None}, response_metadata={'token_usage': {'completion_tokens': 13, 'prompt_tokens': 237, 'total_tokens': 250, 'completion_tokens_details': {'accepted_prediction_tokens': 0, 'audio_tokens': 0, 'reasoning_tokens': 0, 'rejected_prediction_tokens': 0}, 'prompt_tokens_details': {'audio_tokens': 0, 'cached_tokens': 0}}, 'model_name': 'gpt-4o-2024-08-06', 'system_fingerprint': 'fp_76544d79cb', 'id': 'chatcmpl-BbyF6RS5TylpwWAaA1xbaeCeQrwYC', 'service_tier': 'default', 'finish_reason': 'stop', 'logprobs': None}, id='run--f2defc84-462a-4dcf-ba55-e0f16d04b1b1-0', usage_metadata={'input_tokens': 237, 'output_tokens': 13, 'total_tokens': 250, 'input_token_details': {'audio': 0, 'cache_read': 0}, 'output_token_details': {'audio': 0, 'reasoning': 0}})}}, 'step': 4, 'parents': {}, 'thread_id': '1'}, created_at='2025-05-27T23:43:29.139846+00:00', parent_config={'configurable': {'thread_id': '1', 'checkpoint_ns': '', 'checkpoint_id': '1f03b546-3aa5-649e-8003-59a921b2bafb'}}, tasks=(), interrupts=())"
      ]
     },
     "execution_count": 15,
     "metadata": {},
     "output_type": "execute_result"
    }
   ],
   "source": [
    "# Check state\n",
    "current_state = graph.get_state({'configurable': {'thread_id': '1'}})\n",
    "current_state"
   ]
  },
  {
   "cell_type": "code",
   "execution_count": 18,
   "id": "27bb7b63",
   "metadata": {},
   "outputs": [
    {
     "name": "stdout",
     "output_type": "stream",
     "text": [
      "================================\u001b[1m Human Message \u001b[0m=================================\n",
      "\n",
      "What is the sum of 10 and 5?\n",
      "==================================\u001b[1m Ai Message \u001b[0m==================================\n",
      "Tool Calls:\n",
      "  add (call_Or1JNhw4RkhZ7GBgVKz83lqM)\n",
      " Call ID: call_Or1JNhw4RkhZ7GBgVKz83lqM\n",
      "  Args:\n",
      "    a: 10\n",
      "    b: 5\n",
      "=================================\u001b[1m Tool Message \u001b[0m=================================\n",
      "Name: add\n",
      "\n",
      "15\n",
      "==================================\u001b[1m Ai Message \u001b[0m==================================\n",
      "\n",
      "The sum of 10 and 5 is 15.\n",
      "******************************\n",
      "================================\u001b[1m Human Message \u001b[0m=================================\n",
      "\n",
      "What is the sum of 10 and 5?\n",
      "==================================\u001b[1m Ai Message \u001b[0m==================================\n",
      "Tool Calls:\n",
      "  add (call_Or1JNhw4RkhZ7GBgVKz83lqM)\n",
      " Call ID: call_Or1JNhw4RkhZ7GBgVKz83lqM\n",
      "  Args:\n",
      "    a: 10\n",
      "    b: 5\n",
      "=================================\u001b[1m Tool Message \u001b[0m=================================\n",
      "Name: add\n",
      "\n",
      "15\n",
      "******************************\n",
      "================================\u001b[1m Human Message \u001b[0m=================================\n",
      "\n",
      "What is the sum of 10 and 5?\n",
      "==================================\u001b[1m Ai Message \u001b[0m==================================\n",
      "Tool Calls:\n",
      "  add (call_Or1JNhw4RkhZ7GBgVKz83lqM)\n",
      " Call ID: call_Or1JNhw4RkhZ7GBgVKz83lqM\n",
      "  Args:\n",
      "    a: 10\n",
      "    b: 5\n",
      "******************************\n",
      "================================\u001b[1m Human Message \u001b[0m=================================\n",
      "\n",
      "What is the sum of 10 and 5?\n",
      "******************************\n",
      "================================\u001b[1m Human Message \u001b[0m=================================\n",
      "\n",
      "What is the product of 56 and 34?\n",
      "==================================\u001b[1m Ai Message \u001b[0m==================================\n",
      "Tool Calls:\n",
      "  multiply (call_eRTw3Ujhxe2UvAmk7wPywnnH)\n",
      " Call ID: call_eRTw3Ujhxe2UvAmk7wPywnnH\n",
      "  Args:\n",
      "    a: 56\n",
      "    b: 34\n",
      "=================================\u001b[1m Tool Message \u001b[0m=================================\n",
      "Name: multiply\n",
      "\n",
      "1904\n",
      "==================================\u001b[1m Ai Message \u001b[0m==================================\n",
      "\n",
      "The product of 56 and 34 is 1904.\n",
      "******************************\n",
      "================================\u001b[1m Human Message \u001b[0m=================================\n",
      "\n",
      "What is the product of 56 and 34?\n",
      "==================================\u001b[1m Ai Message \u001b[0m==================================\n",
      "Tool Calls:\n",
      "  multiply (call_eRTw3Ujhxe2UvAmk7wPywnnH)\n",
      " Call ID: call_eRTw3Ujhxe2UvAmk7wPywnnH\n",
      "  Args:\n",
      "    a: 56\n",
      "    b: 34\n",
      "=================================\u001b[1m Tool Message \u001b[0m=================================\n",
      "Name: multiply\n",
      "\n",
      "1904\n",
      "******************************\n",
      "================================\u001b[1m Human Message \u001b[0m=================================\n",
      "\n",
      "What is the product of 56 and 34?\n",
      "==================================\u001b[1m Ai Message \u001b[0m==================================\n",
      "Tool Calls:\n",
      "  multiply (call_eRTw3Ujhxe2UvAmk7wPywnnH)\n",
      " Call ID: call_eRTw3Ujhxe2UvAmk7wPywnnH\n",
      "  Args:\n",
      "    a: 56\n",
      "    b: 34\n",
      "******************************\n",
      "================================\u001b[1m Human Message \u001b[0m=================================\n",
      "\n",
      "What is the product of 56 and 34?\n",
      "==================================\u001b[1m Ai Message \u001b[0m==================================\n",
      "Tool Calls:\n",
      "  multiply (call_3PHnsjNRbX7JdBYTXASBTBTf)\n",
      " Call ID: call_3PHnsjNRbX7JdBYTXASBTBTf\n",
      "  Args:\n",
      "    a: 56\n",
      "    b: 34\n",
      "=================================\u001b[1m Tool Message \u001b[0m=================================\n",
      "Name: multiply\n",
      "\n",
      "1904\n",
      "==================================\u001b[1m Ai Message \u001b[0m==================================\n",
      "\n",
      "The product of 56 and 34 is 1,904.\n",
      "******************************\n",
      "================================\u001b[1m Human Message \u001b[0m=================================\n",
      "\n",
      "What is the product of 56 and 34?\n",
      "==================================\u001b[1m Ai Message \u001b[0m==================================\n",
      "Tool Calls:\n",
      "  multiply (call_3PHnsjNRbX7JdBYTXASBTBTf)\n",
      " Call ID: call_3PHnsjNRbX7JdBYTXASBTBTf\n",
      "  Args:\n",
      "    a: 56\n",
      "    b: 34\n",
      "=================================\u001b[1m Tool Message \u001b[0m=================================\n",
      "Name: multiply\n",
      "\n",
      "1904\n",
      "******************************\n",
      "================================\u001b[1m Human Message \u001b[0m=================================\n",
      "\n",
      "What is the product of 56 and 34?\n",
      "==================================\u001b[1m Ai Message \u001b[0m==================================\n",
      "Tool Calls:\n",
      "  multiply (call_3PHnsjNRbX7JdBYTXASBTBTf)\n",
      " Call ID: call_3PHnsjNRbX7JdBYTXASBTBTf\n",
      "  Args:\n",
      "    a: 56\n",
      "    b: 34\n",
      "******************************\n",
      "================================\u001b[1m Human Message \u001b[0m=================================\n",
      "\n",
      "What is the product of 56 and 34?\n",
      "******************************\n",
      "******************************\n"
     ]
    }
   ],
   "source": [
    "# Print messages in latest state\n",
    "history = [s for s in graph.get_state_history(thread)]\n",
    "for state in history:\n",
    "    for m in state.values[\"messages\"]:\n",
    "        m.pretty_print()\n",
    "    print(\"*\" * 30)"
   ]
  }
 ],
 "metadata": {
  "kernelspec": {
   "display_name": "agentic-ai-5d-ElTE_-py3.12",
   "language": "python",
   "name": "python3"
  },
  "language_info": {
   "codemirror_mode": {
    "name": "ipython",
    "version": 3
   },
   "file_extension": ".py",
   "mimetype": "text/x-python",
   "name": "python",
   "nbconvert_exporter": "python",
   "pygments_lexer": "ipython3",
   "version": "3.12.2"
  }
 },
 "nbformat": 4,
 "nbformat_minor": 5
}
